{
 "cells": [
  {
   "cell_type": "markdown",
   "id": "950e175e",
   "metadata": {},
   "source": [
    "### SUPERVISED LEARNING OVERVIEW"
   ]
  },
  {
   "cell_type": "code",
   "execution_count": null,
   "id": "6379634b",
   "metadata": {},
   "outputs": [],
   "source": [
    "# Y -> Label. it is just the term for what are we trying to predict\n",
    "# X -> Features. are the know characteristics in the data set that we are predicting from"
   ]
  },
  {
   "cell_type": "code",
   "execution_count": null,
   "id": "e9eaec69",
   "metadata": {},
   "outputs": [],
   "source": [
    "# once we identify the features and the labels we split the data into a training set and a test set\n",
    "# cross validation is amongst advanced technoques"
   ]
  },
  {
   "cell_type": "code",
   "execution_count": null,
   "id": "1d0bbf1b",
   "metadata": {},
   "outputs": [],
   "source": [
    "# why perform split and how to split\n",
    "# train the model and test the model on the basisi of the trained data."
   ]
  },
  {
   "cell_type": "code",
   "execution_count": null,
   "id": "af3db964",
   "metadata": {},
   "outputs": [],
   "source": [
    "# we have 4 components --> X-train, X-Test, Y-Train, Y-Test"
   ]
  },
  {
   "cell_type": "code",
   "execution_count": null,
   "id": "937f28b2",
   "metadata": {},
   "outputs": [],
   "source": [
    "# we train the model giving it X-train,Y-Train and then test it by  giving the X-Test.\n",
    "# we then compare the Y-test the model predicts with the actual values."
   ]
  },
  {
   "cell_type": "code",
   "execution_count": null,
   "id": "54f83e6e",
   "metadata": {},
   "outputs": [],
   "source": [
    "# after we have trained the data and tested it we further fit/train the model and evaluate the performance of the model on the test data again\n"
   ]
  },
  {
   "cell_type": "code",
   "execution_count": null,
   "id": "46bdf2ed",
   "metadata": {},
   "outputs": [],
   "source": [
    "# what happens if the performance is not that great\n",
    "# we can adjust model hyperparameters\n",
    "# Train data set --> Fit/Train the model (adjust model) --> evaluate performance <-- Test data set"
   ]
  },
  {
   "cell_type": "markdown",
   "id": "faadc826",
   "metadata": {},
   "source": [
    "# **LINEAR REGRESSION**"
   ]
  },
  {
   "cell_type": "code",
   "execution_count": null,
   "id": "fcca8a96",
   "metadata": {},
   "outputs": [],
   "source": [
    "# TO DO\n",
    "# theory of linear regression\n",
    "# simple implementation with python\n",
    "#scikit learn overview\n",
    "# linear regression with scikit learn\n",
    "# polynomial regression\n",
    "# regularization\n",
    "# overview of the project dataset"
   ]
  },
  {
   "cell_type": "markdown",
   "id": "533d005d",
   "metadata": {},
   "source": [
    "### THEORY OF LINEAR REGRESSION"
   ]
  },
  {
   "cell_type": "markdown",
   "id": "869956a2",
   "metadata": {},
   "source": [
    "##### Algorithm History"
   ]
  },
  {
   "cell_type": "code",
   "execution_count": null,
   "id": "3738c55c",
   "metadata": {},
   "outputs": [],
   "source": [
    "# Ordinary least squares works by minimizing the sum of the squares od the difference between the observed dependent variable (values of the variable being observed) in the given data set and thpse predicted by the linear function\n",
    "#  having a squared error will help us simplify our calc later on when setting up a derivative"
   ]
  },
  {
   "cell_type": "markdown",
   "id": "7d00ee98",
   "metadata": {},
   "source": [
    "##### Understanding Ordinary Leaset Squares"
   ]
  },
  {
   "cell_type": "code",
   "execution_count": null,
   "id": "c9b7bc5d",
   "metadata": {},
   "outputs": [],
   "source": [
    "# IN NOTES (P)"
   ]
  },
  {
   "cell_type": "markdown",
   "id": "27cf268c",
   "metadata": {},
   "source": [
    "##### Cost Functions"
   ]
  },
  {
   "cell_type": "code",
   "execution_count": null,
   "id": "235ff8d3",
   "metadata": {},
   "outputs": [],
   "source": [
    "# IN NOTES (P)"
   ]
  },
  {
   "cell_type": "markdown",
   "id": "e7f0ee2b",
   "metadata": {},
   "source": [
    "##### Gradient Descent"
   ]
  },
  {
   "cell_type": "code",
   "execution_count": null,
   "id": "68f907c7",
   "metadata": {},
   "outputs": [],
   "source": [
    "# IN NOTES (P)"
   ]
  },
  {
   "cell_type": "markdown",
   "id": "da564f6f",
   "metadata": {},
   "source": [
    "### PYTHON CODING SIMPLE LINEAR REGRESSION"
   ]
  },
  {
   "cell_type": "code",
   "execution_count": null,
   "id": "b03f5b81",
   "metadata": {},
   "outputs": [],
   "source": [
    "# applying the simple linear regression with one feature\n",
    "# linear regression between the total advertising spend and resulting sales"
   ]
  },
  {
   "cell_type": "code",
   "execution_count": 3,
   "id": "d31f4df6",
   "metadata": {},
   "outputs": [],
   "source": [
    "import numpy as np\n",
    "import pandas as pd\n",
    "import matplotlib.pyplot as plt\n",
    "import seaborn as sns"
   ]
  },
  {
   "cell_type": "code",
   "execution_count": 4,
   "id": "1f104c88",
   "metadata": {},
   "outputs": [],
   "source": [
    "df = pd.read_csv('Advertising.csv')"
   ]
  },
  {
   "cell_type": "code",
   "execution_count": 5,
   "id": "ec23ae32",
   "metadata": {},
   "outputs": [
    {
     "data": {
      "text/html": [
       "<div>\n",
       "<style scoped>\n",
       "    .dataframe tbody tr th:only-of-type {\n",
       "        vertical-align: middle;\n",
       "    }\n",
       "\n",
       "    .dataframe tbody tr th {\n",
       "        vertical-align: top;\n",
       "    }\n",
       "\n",
       "    .dataframe thead th {\n",
       "        text-align: right;\n",
       "    }\n",
       "</style>\n",
       "<table border=\"1\" class=\"dataframe\">\n",
       "  <thead>\n",
       "    <tr style=\"text-align: right;\">\n",
       "      <th></th>\n",
       "      <th>TV</th>\n",
       "      <th>radio</th>\n",
       "      <th>newspaper</th>\n",
       "      <th>sales</th>\n",
       "    </tr>\n",
       "  </thead>\n",
       "  <tbody>\n",
       "    <tr>\n",
       "      <th>0</th>\n",
       "      <td>230.1</td>\n",
       "      <td>37.8</td>\n",
       "      <td>69.2</td>\n",
       "      <td>22.1</td>\n",
       "    </tr>\n",
       "    <tr>\n",
       "      <th>1</th>\n",
       "      <td>44.5</td>\n",
       "      <td>39.3</td>\n",
       "      <td>45.1</td>\n",
       "      <td>10.4</td>\n",
       "    </tr>\n",
       "    <tr>\n",
       "      <th>2</th>\n",
       "      <td>17.2</td>\n",
       "      <td>45.9</td>\n",
       "      <td>69.3</td>\n",
       "      <td>9.3</td>\n",
       "    </tr>\n",
       "    <tr>\n",
       "      <th>3</th>\n",
       "      <td>151.5</td>\n",
       "      <td>41.3</td>\n",
       "      <td>58.5</td>\n",
       "      <td>18.5</td>\n",
       "    </tr>\n",
       "    <tr>\n",
       "      <th>4</th>\n",
       "      <td>180.8</td>\n",
       "      <td>10.8</td>\n",
       "      <td>58.4</td>\n",
       "      <td>12.9</td>\n",
       "    </tr>\n",
       "  </tbody>\n",
       "</table>\n",
       "</div>"
      ],
      "text/plain": [
       "      TV  radio  newspaper  sales\n",
       "0  230.1   37.8       69.2   22.1\n",
       "1   44.5   39.3       45.1   10.4\n",
       "2   17.2   45.9       69.3    9.3\n",
       "3  151.5   41.3       58.5   18.5\n",
       "4  180.8   10.8       58.4   12.9"
      ]
     },
     "execution_count": 5,
     "metadata": {},
     "output_type": "execute_result"
    }
   ],
   "source": [
    "df.head()"
   ]
  },
  {
   "cell_type": "code",
   "execution_count": null,
   "id": "3c3f6b82",
   "metadata": {},
   "outputs": [],
   "source": [
    "df['total_spend'] = df['TV'] + df['radio'] + df['newspaper']"
   ]
  },
  {
   "cell_type": "code",
   "execution_count": null,
   "id": "41ad8bb6",
   "metadata": {},
   "outputs": [],
   "source": [
    "df"
   ]
  },
  {
   "cell_type": "code",
   "execution_count": null,
   "id": "6bb73f11",
   "metadata": {},
   "outputs": [],
   "source": [
    "# Scatter plot\n",
    "sns.scatterplot(data = df, x = 'total_spend', y = 'sales')"
   ]
  },
  {
   "cell_type": "code",
   "execution_count": null,
   "id": "02f8ccc3",
   "metadata": {},
   "outputs": [],
   "source": [
    "# plot of regression on the scatterplot\n",
    "sns.regplot(data = df, x = 'total_spend', y = 'sales')"
   ]
  },
  {
   "cell_type": "code",
   "execution_count": null,
   "id": "78ad2c0a",
   "metadata": {},
   "outputs": [],
   "source": [
    "X = df['total_spend']\n",
    "y = df['sales']"
   ]
  },
  {
   "cell_type": "code",
   "execution_count": null,
   "id": "fc64415b",
   "metadata": {},
   "outputs": [],
   "source": [
    "help(np.polyfit)\n",
    "# in this case the deg of polyfit is 1 because we have only one fearure\n",
    "# y = mx + b\n",
    "# y = B1x + B0"
   ]
  },
  {
   "cell_type": "code",
   "execution_count": null,
   "id": "e530b66c",
   "metadata": {},
   "outputs": [],
   "source": [
    "# this gices the value of the beta coeff\n",
    "np.polyfit(X,y,deg = 1)"
   ]
  },
  {
   "cell_type": "code",
   "execution_count": null,
   "id": "c97d3ef4",
   "metadata": {},
   "outputs": [],
   "source": [
    "# np.linspace creates samples in evenly spaced are between the points that are in arguments\n",
    "potential_spend = np.linspace(0, 500, 100)\n",
    "# we are basically predicting the sales on teh basis of potential spend between 0 to 500"
   ]
  },
  {
   "cell_type": "code",
   "execution_count": null,
   "id": "e0a03f31",
   "metadata": {},
   "outputs": [],
   "source": [
    "predicted_sales = 0.04868788*potential_spend + 4.24302822"
   ]
  },
  {
   "cell_type": "code",
   "execution_count": null,
   "id": "83d19899",
   "metadata": {},
   "outputs": [],
   "source": [
    "# the line below produces a scatterplot\n",
    "sns.scatterplot(data = df, x = 'total_spend', y = 'sales')\n",
    "# the line below just produces a regression line\n",
    "plt.plot(potential_spend, predicted_sales, color = 'red') \n",
    "# when both lines are written it give the regression ine on the scatter plots giving us how the line foits teh datapoints\n"
   ]
  },
  {
   "cell_type": "code",
   "execution_count": null,
   "id": "0f69d370",
   "metadata": {},
   "outputs": [],
   "source": [
    "spend = 200\n",
    "\n",
    "predicted_sales = 0.04868788*spend + 4.24302822"
   ]
  },
  {
   "cell_type": "code",
   "execution_count": null,
   "id": "82d410df",
   "metadata": {},
   "outputs": [],
   "source": [
    "predicted_sales"
   ]
  },
  {
   "cell_type": "code",
   "execution_count": null,
   "id": "ccce52d2",
   "metadata": {},
   "outputs": [],
   "source": [
    "# till here we have managed to predict but we are lacking performance and here comes scikitlearn library"
   ]
  },
  {
   "cell_type": "code",
   "execution_count": null,
   "id": "fa78e606",
   "metadata": {},
   "outputs": [],
   "source": [
    "# y = B3x**3 + B4x**2 + B1x + B0\n",
    "np.polyfit(X,y, 3)"
   ]
  },
  {
   "cell_type": "code",
   "execution_count": null,
   "id": "ced7d6e6",
   "metadata": {},
   "outputs": [],
   "source": [
    "pot_spend = np.linspace(0,500,100)"
   ]
  },
  {
   "cell_type": "code",
   "execution_count": null,
   "id": "62a402a0",
   "metadata": {},
   "outputs": [],
   "source": [
    "pred_sales = 3.07615033e-07*pot_spend**3 + -1.89392449e-04*pot_spend**2 + 8.20886302e-02*pot_spend**1 + 2.70495053e+00"
   ]
  },
  {
   "cell_type": "code",
   "execution_count": null,
   "id": "17abc12e",
   "metadata": {},
   "outputs": [],
   "source": [
    "sns.scatterplot(x = 'total_spend', y = 'sales', data = df)\n",
    "plt.plot(pot_spend, pred_sales, color = 'red')"
   ]
  },
  {
   "cell_type": "markdown",
   "id": "1b0e45e5",
   "metadata": {},
   "source": [
    "### SCIKIT-LEARN "
   ]
  },
  {
   "cell_type": "markdown",
   "id": "38d9316d",
   "metadata": {},
   "source": [
    "##### OVERVIEW"
   ]
  },
  {
   "cell_type": "code",
   "execution_count": null,
   "id": "79c3527e",
   "metadata": {},
   "outputs": [],
   "source": [
    "# scikit learn is a library conatining many machine learning algorithms\n",
    "# it utilizes a generalised \"estimator API\" frameworkk to calling the models\n",
    "# this means the way algorithms are imported, fitted and used is uniform across all algorithms"
   ]
  },
  {
   "cell_type": "markdown",
   "id": "d77f983d",
   "metadata": {},
   "source": [
    "##### TRAIN TEST SPLIT"
   ]
  },
  {
   "cell_type": "code",
   "execution_count": 1,
   "id": "2e08523b",
   "metadata": {},
   "outputs": [],
   "source": [
    "import numpy as np\n",
    "import pandas as pd\n",
    "import matplotlib.pyplot as plt\n",
    "import seaborn as sns"
   ]
  },
  {
   "cell_type": "code",
   "execution_count": 6,
   "id": "f60d9ff1",
   "metadata": {},
   "outputs": [],
   "source": [
    "df = pd.read_csv('Advertising.csv')"
   ]
  },
  {
   "cell_type": "code",
   "execution_count": 8,
   "id": "a2313ccf",
   "metadata": {},
   "outputs": [
    {
     "data": {
      "text/html": [
       "<div>\n",
       "<style scoped>\n",
       "    .dataframe tbody tr th:only-of-type {\n",
       "        vertical-align: middle;\n",
       "    }\n",
       "\n",
       "    .dataframe tbody tr th {\n",
       "        vertical-align: top;\n",
       "    }\n",
       "\n",
       "    .dataframe thead th {\n",
       "        text-align: right;\n",
       "    }\n",
       "</style>\n",
       "<table border=\"1\" class=\"dataframe\">\n",
       "  <thead>\n",
       "    <tr style=\"text-align: right;\">\n",
       "      <th></th>\n",
       "      <th>TV</th>\n",
       "      <th>radio</th>\n",
       "      <th>newspaper</th>\n",
       "      <th>sales</th>\n",
       "    </tr>\n",
       "  </thead>\n",
       "  <tbody>\n",
       "    <tr>\n",
       "      <th>0</th>\n",
       "      <td>230.1</td>\n",
       "      <td>37.8</td>\n",
       "      <td>69.2</td>\n",
       "      <td>22.1</td>\n",
       "    </tr>\n",
       "    <tr>\n",
       "      <th>1</th>\n",
       "      <td>44.5</td>\n",
       "      <td>39.3</td>\n",
       "      <td>45.1</td>\n",
       "      <td>10.4</td>\n",
       "    </tr>\n",
       "    <tr>\n",
       "      <th>2</th>\n",
       "      <td>17.2</td>\n",
       "      <td>45.9</td>\n",
       "      <td>69.3</td>\n",
       "      <td>9.3</td>\n",
       "    </tr>\n",
       "    <tr>\n",
       "      <th>3</th>\n",
       "      <td>151.5</td>\n",
       "      <td>41.3</td>\n",
       "      <td>58.5</td>\n",
       "      <td>18.5</td>\n",
       "    </tr>\n",
       "    <tr>\n",
       "      <th>4</th>\n",
       "      <td>180.8</td>\n",
       "      <td>10.8</td>\n",
       "      <td>58.4</td>\n",
       "      <td>12.9</td>\n",
       "    </tr>\n",
       "  </tbody>\n",
       "</table>\n",
       "</div>"
      ],
      "text/plain": [
       "      TV  radio  newspaper  sales\n",
       "0  230.1   37.8       69.2   22.1\n",
       "1   44.5   39.3       45.1   10.4\n",
       "2   17.2   45.9       69.3    9.3\n",
       "3  151.5   41.3       58.5   18.5\n",
       "4  180.8   10.8       58.4   12.9"
      ]
     },
     "execution_count": 8,
     "metadata": {},
     "output_type": "execute_result"
    }
   ],
   "source": [
    "df.head()"
   ]
  },
  {
   "cell_type": "code",
   "execution_count": 9,
   "id": "d71fd3c3",
   "metadata": {},
   "outputs": [
    {
     "data": {
      "image/png": "[encoded data removed]",
      "text/plain": [
       "<Figure size 1152x432 with 3 Axes>"
      ]
     },
     "metadata": {
      "needs_background": "light"
     },
     "output_type": "display_data"
    }
   ],
   "source": [
    "fig,axes = plt.subplots(nrows=1,ncols=3,figsize=(16,6))\n",
    "\n",
    "axes[0].plot(df['TV'],df['sales'],'o')\n",
    "axes[0].set_ylabel(\"Sales\")\n",
    "axes[0].set_title(\"TV Spend\")\n",
    "\n",
    "axes[1].plot(df['radio'],df['sales'],'o')\n",
    "axes[1].set_ylabel(\"Sales\")\n",
    "axes[1].set_title(\"Radio Spend\")\n",
    "\n",
    "axes[2].plot(df['newspaper'],df['sales'],'o')\n",
    "axes[2].set_ylabel(\"Sales\")\n",
    "axes[2].set_title(\"newspaper Spend\")\n",
    "\n",
    "plt.tight_layout();"
   ]
  },
  {
   "cell_type": "code",
   "execution_count": 10,
   "id": "10ce78f0",
   "metadata": {},
   "outputs": [
    {
     "data": {
      "text/plain": [
       "<seaborn.axisgrid.PairGrid at 0x1eb0cdc93a0>"
      ]
     },
     "execution_count": 10,
     "metadata": {},
     "output_type": "execute_result"
    },
    {
     "data": {
      "image/png": "[encoded data removed]",
      "text/plain": [
       "<Figure size 720x720 with 20 Axes>"
      ]
     },
     "metadata": {
      "needs_background": "light"
     },
     "output_type": "display_data"
    }
   ],
   "source": [
    "# this plots graphs for each feature\n",
    "sns.pairplot(df)"
   ]
  },
  {
   "cell_type": "code",
   "execution_count": 11,
   "id": "58d6a4c0",
   "metadata": {},
   "outputs": [],
   "source": [
    "# this quickly gets us all the features without the Ylabel\n",
    "X = df.drop('sales', axis=1)"
   ]
  },
  {
   "cell_type": "code",
   "execution_count": 12,
   "id": "60ddf9f2",
   "metadata": {},
   "outputs": [
    {
     "data": {
      "text/html": [
       "<div>\n",
       "<style scoped>\n",
       "    .dataframe tbody tr th:only-of-type {\n",
       "        vertical-align: middle;\n",
       "    }\n",
       "\n",
       "    .dataframe tbody tr th {\n",
       "        vertical-align: top;\n",
       "    }\n",
       "\n",
       "    .dataframe thead th {\n",
       "        text-align: right;\n",
       "    }\n",
       "</style>\n",
       "<table border=\"1\" class=\"dataframe\">\n",
       "  <thead>\n",
       "    <tr style=\"text-align: right;\">\n",
       "      <th></th>\n",
       "      <th>TV</th>\n",
       "      <th>radio</th>\n",
       "      <th>newspaper</th>\n",
       "    </tr>\n",
       "  </thead>\n",
       "  <tbody>\n",
       "    <tr>\n",
       "      <th>0</th>\n",
       "      <td>230.1</td>\n",
       "      <td>37.8</td>\n",
       "      <td>69.2</td>\n",
       "    </tr>\n",
       "    <tr>\n",
       "      <th>1</th>\n",
       "      <td>44.5</td>\n",
       "      <td>39.3</td>\n",
       "      <td>45.1</td>\n",
       "    </tr>\n",
       "    <tr>\n",
       "      <th>2</th>\n",
       "      <td>17.2</td>\n",
       "      <td>45.9</td>\n",
       "      <td>69.3</td>\n",
       "    </tr>\n",
       "    <tr>\n",
       "      <th>3</th>\n",
       "      <td>151.5</td>\n",
       "      <td>41.3</td>\n",
       "      <td>58.5</td>\n",
       "    </tr>\n",
       "    <tr>\n",
       "      <th>4</th>\n",
       "      <td>180.8</td>\n",
       "      <td>10.8</td>\n",
       "      <td>58.4</td>\n",
       "    </tr>\n",
       "    <tr>\n",
       "      <th>...</th>\n",
       "      <td>...</td>\n",
       "      <td>...</td>\n",
       "      <td>...</td>\n",
       "    </tr>\n",
       "    <tr>\n",
       "      <th>195</th>\n",
       "      <td>38.2</td>\n",
       "      <td>3.7</td>\n",
       "      <td>13.8</td>\n",
       "    </tr>\n",
       "    <tr>\n",
       "      <th>196</th>\n",
       "      <td>94.2</td>\n",
       "      <td>4.9</td>\n",
       "      <td>8.1</td>\n",
       "    </tr>\n",
       "    <tr>\n",
       "      <th>197</th>\n",
       "      <td>177.0</td>\n",
       "      <td>9.3</td>\n",
       "      <td>6.4</td>\n",
       "    </tr>\n",
       "    <tr>\n",
       "      <th>198</th>\n",
       "      <td>283.6</td>\n",
       "      <td>42.0</td>\n",
       "      <td>66.2</td>\n",
       "    </tr>\n",
       "    <tr>\n",
       "      <th>199</th>\n",
       "      <td>232.1</td>\n",
       "      <td>8.6</td>\n",
       "      <td>8.7</td>\n",
       "    </tr>\n",
       "  </tbody>\n",
       "</table>\n",
       "<p>200 rows × 3 columns</p>\n",
       "</div>"
      ],
      "text/plain": [
       "        TV  radio  newspaper\n",
       "0    230.1   37.8       69.2\n",
       "1     44.5   39.3       45.1\n",
       "2     17.2   45.9       69.3\n",
       "3    151.5   41.3       58.5\n",
       "4    180.8   10.8       58.4\n",
       "..     ...    ...        ...\n",
       "195   38.2    3.7       13.8\n",
       "196   94.2    4.9        8.1\n",
       "197  177.0    9.3        6.4\n",
       "198  283.6   42.0       66.2\n",
       "199  232.1    8.6        8.7\n",
       "\n",
       "[200 rows x 3 columns]"
      ]
     },
     "execution_count": 12,
     "metadata": {},
     "output_type": "execute_result"
    }
   ],
   "source": [
    "X"
   ]
  },
  {
   "cell_type": "code",
   "execution_count": 22,
   "id": "194d7afb",
   "metadata": {},
   "outputs": [],
   "source": [
    "y = df['sales']"
   ]
  },
  {
   "cell_type": "code",
   "execution_count": 23,
   "id": "b904b433",
   "metadata": {},
   "outputs": [],
   "source": [
    "from sklearn.model_selection import train_test_split"
   ]
  },
  {
   "cell_type": "code",
   "execution_count": 24,
   "id": "1df2648b",
   "metadata": {},
   "outputs": [
    {
     "name": "stdout",
     "output_type": "stream",
     "text": [
      "Help on function train_test_split in module sklearn.model_selection._split:\n",
      "\n",
      "train_test_split(*arrays, test_size=None, train_size=None, random_state=None, shuffle=True, stratify=None)\n",
      "    Split arrays or matrices into random train and test subsets.\n",
      "    \n",
      "    Quick utility that wraps input validation and\n",
      "    ``next(ShuffleSplit().split(X, y))`` and application to input data\n",
      "    into a single call for splitting (and optionally subsampling) data in a\n",
      "    oneliner.\n",
      "    \n",
      "    Read more in the :ref:`User Guide <cross_validation>`.\n",
      "    \n",
      "    Parameters\n",
      "    ----------\n",
      "    *arrays : sequence of indexables with same length / shape[0]\n",
      "        Allowed inputs are lists, numpy arrays, scipy-sparse\n",
      "        matrices or pandas dataframes.\n",
      "    \n",
      "    test_size : float or int, default=None\n",
      "        If float, should be between 0.0 and 1.0 and represent the proportion\n",
      "        of the dataset to include in the test split. If int, represents the\n",
      "        absolute number of test samples. If None, the value is set to the\n",
      "        complement of the train size. If ``train_size`` is also None, it will\n",
      "        be set to 0.25.\n",
      "    \n",
      "    train_size : float or int, default=None\n",
      "        If float, should be between 0.0 and 1.0 and represent the\n",
      "        proportion of the dataset to include in the train split. If\n",
      "        int, represents the absolute number of train samples. If None,\n",
      "        the value is automatically set to the complement of the test size.\n",
      "    \n",
      "    random_state : int, RandomState instance or None, default=None\n",
      "        Controls the shuffling applied to the data before applying the split.\n",
      "        Pass an int for reproducible output across multiple function calls.\n",
      "        See :term:`Glossary <random_state>`.\n",
      "    \n",
      "    shuffle : bool, default=True\n",
      "        Whether or not to shuffle the data before splitting. If shuffle=False\n",
      "        then stratify must be None.\n",
      "    \n",
      "    stratify : array-like, default=None\n",
      "        If not None, data is split in a stratified fashion, using this as\n",
      "        the class labels.\n",
      "        Read more in the :ref:`User Guide <stratification>`.\n",
      "    \n",
      "    Returns\n",
      "    -------\n",
      "    splitting : list, length=2 * len(arrays)\n",
      "        List containing train-test split of inputs.\n",
      "    \n",
      "        .. versionadded:: 0.16\n",
      "            If the input is sparse, the output will be a\n",
      "            ``scipy.sparse.csr_matrix``. Else, output type is the same as the\n",
      "            input type.\n",
      "    \n",
      "    Examples\n",
      "    --------\n",
      "    >>> import numpy as np\n",
      "    >>> from sklearn.model_selection import train_test_split\n",
      "    >>> X, y = np.arange(10).reshape((5, 2)), range(5)\n",
      "    >>> X\n",
      "    array([[0, 1],\n",
      "           [2, 3],\n",
      "           [4, 5],\n",
      "           [6, 7],\n",
      "           [8, 9]])\n",
      "    >>> list(y)\n",
      "    [0, 1, 2, 3, 4]\n",
      "    \n",
      "    >>> X_train, X_test, y_train, y_test = train_test_split(\n",
      "    ...     X, y, test_size=0.33, random_state=42)\n",
      "    ...\n",
      "    >>> X_train\n",
      "    array([[4, 5],\n",
      "           [0, 1],\n",
      "           [6, 7]])\n",
      "    >>> y_train\n",
      "    [2, 0, 3]\n",
      "    >>> X_test\n",
      "    array([[2, 3],\n",
      "           [8, 9]])\n",
      "    >>> y_test\n",
      "    [1, 4]\n",
      "    \n",
      "    >>> train_test_split(y, shuffle=False)\n",
      "    [[0, 1, 2], [3, 4]]\n",
      "\n"
     ]
    }
   ],
   "source": [
    "help(train_test_split)"
   ]
  },
  {
   "cell_type": "code",
   "execution_count": 26,
   "id": "7d124cf1",
   "metadata": {},
   "outputs": [],
   "source": [
    "X_train, X_test, y_train, y_test = train_test_split(X,y, test_size=0.3, random_state=101)"
   ]
  },
  {
   "cell_type": "code",
   "execution_count": 28,
   "id": "b6161fe0",
   "metadata": {},
   "outputs": [
    {
     "data": {
      "text/plain": [
       "200"
      ]
     },
     "execution_count": 28,
     "metadata": {},
     "output_type": "execute_result"
    }
   ],
   "source": [
    "len(df)"
   ]
  },
  {
   "cell_type": "code",
   "execution_count": 30,
   "id": "fcf1a7fe",
   "metadata": {},
   "outputs": [
    {
     "data": {
      "text/plain": [
       "140"
      ]
     },
     "execution_count": 30,
     "metadata": {},
     "output_type": "execute_result"
    }
   ],
   "source": [
    "len(X_train)"
   ]
  },
  {
   "cell_type": "code",
   "execution_count": 31,
   "id": "8725ef57",
   "metadata": {},
   "outputs": [
    {
     "data": {
      "text/html": [
       "<div>\n",
       "<style scoped>\n",
       "    .dataframe tbody tr th:only-of-type {\n",
       "        vertical-align: middle;\n",
       "    }\n",
       "\n",
       "    .dataframe tbody tr th {\n",
       "        vertical-align: top;\n",
       "    }\n",
       "\n",
       "    .dataframe thead th {\n",
       "        text-align: right;\n",
       "    }\n",
       "</style>\n",
       "<table border=\"1\" class=\"dataframe\">\n",
       "  <thead>\n",
       "    <tr style=\"text-align: right;\">\n",
       "      <th></th>\n",
       "      <th>TV</th>\n",
       "      <th>radio</th>\n",
       "      <th>newspaper</th>\n",
       "    </tr>\n",
       "  </thead>\n",
       "  <tbody>\n",
       "    <tr>\n",
       "      <th>85</th>\n",
       "      <td>193.2</td>\n",
       "      <td>18.4</td>\n",
       "      <td>65.7</td>\n",
       "    </tr>\n",
       "    <tr>\n",
       "      <th>183</th>\n",
       "      <td>287.6</td>\n",
       "      <td>43.0</td>\n",
       "      <td>71.8</td>\n",
       "    </tr>\n",
       "    <tr>\n",
       "      <th>127</th>\n",
       "      <td>80.2</td>\n",
       "      <td>0.0</td>\n",
       "      <td>9.2</td>\n",
       "    </tr>\n",
       "    <tr>\n",
       "      <th>53</th>\n",
       "      <td>182.6</td>\n",
       "      <td>46.2</td>\n",
       "      <td>58.7</td>\n",
       "    </tr>\n",
       "    <tr>\n",
       "      <th>100</th>\n",
       "      <td>222.4</td>\n",
       "      <td>4.3</td>\n",
       "      <td>49.8</td>\n",
       "    </tr>\n",
       "    <tr>\n",
       "      <th>...</th>\n",
       "      <td>...</td>\n",
       "      <td>...</td>\n",
       "      <td>...</td>\n",
       "    </tr>\n",
       "    <tr>\n",
       "      <th>63</th>\n",
       "      <td>102.7</td>\n",
       "      <td>29.6</td>\n",
       "      <td>8.4</td>\n",
       "    </tr>\n",
       "    <tr>\n",
       "      <th>70</th>\n",
       "      <td>199.1</td>\n",
       "      <td>30.6</td>\n",
       "      <td>38.7</td>\n",
       "    </tr>\n",
       "    <tr>\n",
       "      <th>81</th>\n",
       "      <td>239.8</td>\n",
       "      <td>4.1</td>\n",
       "      <td>36.9</td>\n",
       "    </tr>\n",
       "    <tr>\n",
       "      <th>11</th>\n",
       "      <td>214.7</td>\n",
       "      <td>24.0</td>\n",
       "      <td>4.0</td>\n",
       "    </tr>\n",
       "    <tr>\n",
       "      <th>95</th>\n",
       "      <td>163.3</td>\n",
       "      <td>31.6</td>\n",
       "      <td>52.9</td>\n",
       "    </tr>\n",
       "  </tbody>\n",
       "</table>\n",
       "<p>140 rows × 3 columns</p>\n",
       "</div>"
      ],
      "text/plain": [
       "        TV  radio  newspaper\n",
       "85   193.2   18.4       65.7\n",
       "183  287.6   43.0       71.8\n",
       "127   80.2    0.0        9.2\n",
       "53   182.6   46.2       58.7\n",
       "100  222.4    4.3       49.8\n",
       "..     ...    ...        ...\n",
       "63   102.7   29.6        8.4\n",
       "70   199.1   30.6       38.7\n",
       "81   239.8    4.1       36.9\n",
       "11   214.7   24.0        4.0\n",
       "95   163.3   31.6       52.9\n",
       "\n",
       "[140 rows x 3 columns]"
      ]
     },
     "execution_count": 31,
     "metadata": {},
     "output_type": "execute_result"
    }
   ],
   "source": [
    "X_train"
   ]
  },
  {
   "cell_type": "code",
   "execution_count": 32,
   "id": "75d280c0",
   "metadata": {},
   "outputs": [
    {
     "data": {
      "text/plain": [
       "60"
      ]
     },
     "execution_count": 32,
     "metadata": {},
     "output_type": "execute_result"
    }
   ],
   "source": [
    "len(X_test)"
   ]
  },
  {
   "cell_type": "code",
   "execution_count": 34,
   "id": "1c01d70c",
   "metadata": {},
   "outputs": [],
   "source": [
    "from sklearn.linear_model import LinearRegression"
   ]
  },
  {
   "cell_type": "code",
   "execution_count": 37,
   "id": "99f16184",
   "metadata": {},
   "outputs": [],
   "source": [
    "# help(LinearRegression)"
   ]
  },
  {
   "cell_type": "code",
   "execution_count": 38,
   "id": "01068a21",
   "metadata": {},
   "outputs": [],
   "source": [
    "model = LinearRegression()"
   ]
  },
  {
   "cell_type": "code",
   "execution_count": 39,
   "id": "427de8d4",
   "metadata": {},
   "outputs": [
    {
     "data": {
      "text/plain": [
       "LinearRegression()"
      ]
     },
     "execution_count": 39,
     "metadata": {},
     "output_type": "execute_result"
    }
   ],
   "source": [
    "model.fit(X_train,y_train)"
   ]
  },
  {
   "cell_type": "code",
   "execution_count": 40,
   "id": "71aa539e",
   "metadata": {},
   "outputs": [
    {
     "data": {
      "text/plain": [
       "array([15.74131332, 19.61062568, 11.44888935, 17.00819787,  9.17285676,\n",
       "        7.01248287, 20.28992463, 17.29953992,  9.77584467, 19.22194224,\n",
       "       12.40503154, 13.89234998, 13.72541098, 21.28794031, 18.42456638,\n",
       "        9.98198406, 15.55228966,  7.68913693,  7.55614992, 20.40311209,\n",
       "        7.79215204, 18.24214098, 24.68631904, 22.82199068,  7.97962085,\n",
       "       12.65207264, 21.46925937,  8.05228573, 12.42315981, 12.50719678,\n",
       "       10.77757812, 19.24460093, 10.070269  ,  6.70779999, 17.31492147,\n",
       "        7.76764327,  9.25393336,  8.27834697, 10.58105585, 10.63591128,\n",
       "       13.01002595,  9.77192057, 10.21469861,  8.04572042, 11.5671075 ,\n",
       "       10.08368001,  8.99806574, 16.25388914, 13.23942315, 20.81493419,\n",
       "       12.49727439, 13.96615898, 17.56285075, 11.14537013, 12.56261468,\n",
       "        5.50870279, 23.29465134, 12.62409688, 18.77399978, 15.18785675])"
      ]
     },
     "execution_count": 40,
     "metadata": {},
     "output_type": "execute_result"
    }
   ],
   "source": [
    "model.predict(X_test)"
   ]
  },
  {
   "cell_type": "markdown",
   "id": "b590c254",
   "metadata": {},
   "source": [
    "##### PERFORMANCE EVALUATION"
   ]
  },
  {
   "cell_type": "code",
   "execution_count": 41,
   "id": "bb08d34f",
   "metadata": {},
   "outputs": [],
   "source": [
    "# REGREESION MATRICS"
   ]
  },
  {
   "cell_type": "code",
   "execution_count": 42,
   "id": "5230c36f",
   "metadata": {},
   "outputs": [],
   "source": [
    "# most common evaluation metrics for regression:\n",
    "# 1. Mean absolute error\n",
    "# 2. Mean squared error\n",
    "# 3. Root mean square error"
   ]
  },
  {
   "cell_type": "code",
   "execution_count": 43,
   "id": "aee6d7fb",
   "metadata": {},
   "outputs": [],
   "source": [
    "# 1. MEAN ABSOLUTE ERROR"
   ]
  },
  {
   "cell_type": "code",
   "execution_count": 44,
   "id": "d97caf6f",
   "metadata": {},
   "outputs": [],
   "source": [
    "# applying on the linear regression model we did in previous section"
   ]
  },
  {
   "cell_type": "code",
   "execution_count": 47,
   "id": "94622f91",
   "metadata": {},
   "outputs": [],
   "source": [
    "test_predictions = model.predict(X_test)"
   ]
  },
  {
   "cell_type": "code",
   "execution_count": 49,
   "id": "1b62c94e",
   "metadata": {},
   "outputs": [
    {
     "data": {
      "text/plain": [
       "array([15.74131332, 19.61062568, 11.44888935, 17.00819787,  9.17285676,\n",
       "        7.01248287, 20.28992463, 17.29953992,  9.77584467, 19.22194224,\n",
       "       12.40503154, 13.89234998, 13.72541098, 21.28794031, 18.42456638,\n",
       "        9.98198406, 15.55228966,  7.68913693,  7.55614992, 20.40311209,\n",
       "        7.79215204, 18.24214098, 24.68631904, 22.82199068,  7.97962085,\n",
       "       12.65207264, 21.46925937,  8.05228573, 12.42315981, 12.50719678,\n",
       "       10.77757812, 19.24460093, 10.070269  ,  6.70779999, 17.31492147,\n",
       "        7.76764327,  9.25393336,  8.27834697, 10.58105585, 10.63591128,\n",
       "       13.01002595,  9.77192057, 10.21469861,  8.04572042, 11.5671075 ,\n",
       "       10.08368001,  8.99806574, 16.25388914, 13.23942315, 20.81493419,\n",
       "       12.49727439, 13.96615898, 17.56285075, 11.14537013, 12.56261468,\n",
       "        5.50870279, 23.29465134, 12.62409688, 18.77399978, 15.18785675])"
      ]
     },
     "execution_count": 49,
     "metadata": {},
     "output_type": "execute_result"
    }
   ],
   "source": [
    "test_predictions"
   ]
  },
  {
   "cell_type": "code",
   "execution_count": 51,
   "id": "7f84e215",
   "metadata": {},
   "outputs": [],
   "source": [
    "from sklearn.metrics import mean_absolute_error, mean_squared_error"
   ]
  },
  {
   "cell_type": "code",
   "execution_count": 52,
   "id": "0d93051c",
   "metadata": {},
   "outputs": [
    {
     "data": {
      "text/plain": [
       "14.022500000000003"
      ]
     },
     "execution_count": 52,
     "metadata": {},
     "output_type": "execute_result"
    }
   ],
   "source": [
    "df['sales'].mean()"
   ]
  },
  {
   "cell_type": "code",
   "execution_count": 56,
   "id": "bbf577b4",
   "metadata": {},
   "outputs": [
    {
     "data": {
      "text/plain": [
       "<AxesSubplot:xlabel='sales', ylabel='Count'>"
      ]
     },
     "execution_count": 56,
     "metadata": {},
     "output_type": "execute_result"
    },
    {
     "data": {
      "image/png": "[encoded data removed]",
      "text/plain": [
       "<Figure size 432x288 with 1 Axes>"
      ]
     },
     "metadata": {
      "needs_background": "light"
     },
     "output_type": "display_data"
    }
   ],
   "source": [
    "sns.histplot(data=df,x='sales',bins=20)"
   ]
  },
  {
   "cell_type": "code",
   "execution_count": 57,
   "id": "586af3ad",
   "metadata": {},
   "outputs": [
    {
     "data": {
      "text/plain": [
       "1.213745773614481"
      ]
     },
     "execution_count": 57,
     "metadata": {},
     "output_type": "execute_result"
    }
   ],
   "source": [
    "mean_absolute_error(y_test, test_predictions)"
   ]
  },
  {
   "cell_type": "code",
   "execution_count": 58,
   "id": "afd48e37",
   "metadata": {},
   "outputs": [],
   "source": [
    "# MEAN SQUARED ERROR"
   ]
  },
  {
   "cell_type": "code",
   "execution_count": 59,
   "id": "f1ac7c57",
   "metadata": {},
   "outputs": [
    {
     "data": {
      "text/plain": [
       "2.2987166978863782"
      ]
     },
     "execution_count": 59,
     "metadata": {},
     "output_type": "execute_result"
    }
   ],
   "source": [
    "mean_squared_error(y_test,test_predictions)"
   ]
  },
  {
   "cell_type": "code",
   "execution_count": 60,
   "id": "ad5ab18d",
   "metadata": {},
   "outputs": [],
   "source": [
    "# ROOT MEAN SQUARED ERROR"
   ]
  },
  {
   "cell_type": "code",
   "execution_count": 67,
   "id": "6808e886",
   "metadata": {},
   "outputs": [
    {
     "data": {
      "text/plain": [
       "1.516151937599388"
      ]
     },
     "execution_count": 67,
     "metadata": {},
     "output_type": "execute_result"
    }
   ],
   "source": [
    "np.sqrt(mean_squared_error(y_test,test_predictions))"
   ]
  },
  {
   "cell_type": "markdown",
   "id": "b81c3b2d",
   "metadata": {},
   "source": [
    "### RESIDUAL PLOTS"
   ]
  },
  {
   "cell_type": "code",
   "execution_count": 64,
   "id": "b6a5ee4a",
   "metadata": {},
   "outputs": [],
   "source": [
    "# often for linear regression it is good idea to seperately evaluate residuals (same formula as MAE) and not just calcluate metrics (RMSE)\n",
    "# the residual errors should be random and close to the normal distribution\n",
    "# if we plot the residual along with y then all data points should come on the line drawn at zero if the regression line is a perfect fit"
   ]
  },
  {
   "cell_type": "code",
   "execution_count": 66,
   "id": "c4341382",
   "metadata": {},
   "outputs": [],
   "source": [
    "# we can plot residuals and get to know if the data set is not valid for linea regression\n",
    "# we should plot all three of the residual plots to analyze the data sets\n",
    "# most imprtant is the residual vs y (real value) plot"
   ]
  },
  {
   "cell_type": "code",
   "execution_count": 68,
   "id": "76c4d13c",
   "metadata": {},
   "outputs": [],
   "source": [
    "test_residuals = y_test - test_predictions"
   ]
  },
  {
   "cell_type": "code",
   "execution_count": 70,
   "id": "e66c3784",
   "metadata": {},
   "outputs": [
    {
     "data": {
      "text/plain": [
       "37    -1.041313\n",
       "109    0.189374\n",
       "31     0.451111\n",
       "89    -0.308198\n",
       "66     0.327143\n",
       "119   -0.412483\n",
       "54    -0.089925\n",
       "74    -0.299540\n",
       "145    0.524155\n",
       "142    0.878058\n",
       "148   -1.505032\n",
       "112    0.207650\n",
       "174   -2.225411\n",
       "55     2.412060\n",
       "141    0.775434\n",
       "149    0.118016\n",
       "25    -3.552290\n",
       "34     1.810863\n",
       "170    0.843850\n",
       "39     1.096888\n",
       "172   -0.192152\n",
       "153    0.757859\n",
       "175    2.313681\n",
       "61     1.378009\n",
       "65     1.320379\n",
       "50    -1.252073\n",
       "42    -0.769259\n",
       "129    1.647714\n",
       "179    0.176840\n",
       "2     -3.207197\n",
       "12    -1.577578\n",
       "133    0.355399\n",
       "90     1.129731\n",
       "22    -1.107800\n",
       "41    -0.214921\n",
       "32     1.832357\n",
       "125    1.346067\n",
       "196    1.421653\n",
       "158   -3.281056\n",
       "180   -0.135911\n",
       "16    -0.510026\n",
       "186    0.528079\n",
       "144    1.185301\n",
       "121   -1.045720\n",
       "80     0.232893\n",
       "18     1.216320\n",
       "78    -3.698066\n",
       "48    -1.453889\n",
       "4     -0.339423\n",
       "15     1.585066\n",
       "1     -2.097274\n",
       "43    -1.066159\n",
       "102   -2.762851\n",
       "164    0.754630\n",
       "9     -1.962615\n",
       "155   -2.308703\n",
       "36     2.105349\n",
       "190   -1.824097\n",
       "33    -1.374000\n",
       "45    -0.287857\n",
       "Name: sales, dtype: float64"
      ]
     },
     "execution_count": 70,
     "metadata": {},
     "output_type": "execute_result"
    }
   ],
   "source": [
    "test_residuals"
   ]
  },
  {
   "cell_type": "code",
   "execution_count": 82,
   "id": "d2d6097d",
   "metadata": {},
   "outputs": [
    {
     "data": {
      "text/plain": [
       "<matplotlib.lines.Line2D at 0x1eb124df940>"
      ]
     },
     "execution_count": 82,
     "metadata": {},
     "output_type": "execute_result"
    },
    {
     "data": {
      "image/png": "[encoded data removed]",
      "text/plain": [
       "<Figure size 432x288 with 1 Axes>"
      ]
     },
     "metadata": {
      "needs_background": "light"
     },
     "output_type": "display_data"
    }
   ],
   "source": [
    "sns.scatterplot(x=y_test, y=test_residuals)\n",
    "plt.axhline(y=0, color='r', ls='--')\n",
    "# plt.axhline(y=0, color='r', ls='--') is for plotting a horizontal line"
   ]
  },
  {
   "cell_type": "code",
   "execution_count": 84,
   "id": "bf6ac17e",
   "metadata": {},
   "outputs": [
    {
     "data": {
      "text/plain": [
       "<seaborn.axisgrid.FacetGrid at 0x1eb12959760>"
      ]
     },
     "execution_count": 84,
     "metadata": {},
     "output_type": "execute_result"
    },
    {
     "data": {
      "image/png": "[encoded data removed]",
      "text/plain": [
       "<Figure size 360x360 with 1 Axes>"
      ]
     },
     "metadata": {
      "needs_background": "light"
     },
     "output_type": "display_data"
    }
   ],
   "source": [
    "sns.displot(test_residuals, bins=25, kde='True')"
   ]
  },
  {
   "cell_type": "code",
   "execution_count": 85,
   "id": "0801bb48",
   "metadata": {},
   "outputs": [],
   "source": [
    "import scipy as sp"
   ]
  },
  {
   "cell_type": "code",
   "execution_count": 92,
   "id": "bbba9d0a",
   "metadata": {},
   "outputs": [
    {
     "data": {
      "image/png": "[encoded data removed]",
      "text/plain": [
       "<Figure size 600x800 with 1 Axes>"
      ]
     },
     "metadata": {
      "needs_background": "light"
     },
     "output_type": "display_data"
    }
   ],
   "source": [
    "# create a figure and axis to plot on\n",
    "fig, ax = plt.subplots(figsize=(6,8), dpi=100)\n",
    "# probplot returns the raw values if needed\n",
    "# we hust want to see the plot, so we assign these these vlaues to\n",
    "_=sp.stats.probplot(test_residuals,plot=ax)\n",
    "#the red line shows how the normal distribution looks like\n",
    "# so it compares the normal distribution with the distribution of our residual"
   ]
  },
  {
   "cell_type": "markdown",
   "id": "62c727f3",
   "metadata": {},
   "source": [
    "### MODEL DEPLOYMENT AND COEFFICIENT INTERPRETATION"
   ]
  },
  {
   "cell_type": "code",
   "execution_count": 95,
   "id": "d27e01ac",
   "metadata": {},
   "outputs": [],
   "source": [
    "final_model = LinearRegression()"
   ]
  },
  {
   "cell_type": "code",
   "execution_count": 97,
   "id": "8dc47145",
   "metadata": {},
   "outputs": [
    {
     "data": {
      "text/plain": [
       "LinearRegression()"
      ]
     },
     "execution_count": 97,
     "metadata": {},
     "output_type": "execute_result"
    }
   ],
   "source": [
    "final_model.fit(X,y)"
   ]
  },
  {
   "cell_type": "code",
   "execution_count": 99,
   "id": "4ea06cd0",
   "metadata": {},
   "outputs": [
    {
     "data": {
      "text/plain": [
       "array([ 0.04576465,  0.18853002, -0.00103749])"
      ]
     },
     "execution_count": 99,
     "metadata": {},
     "output_type": "execute_result"
    }
   ],
   "source": [
    "final_model.coef_\n",
    "# these are the coeff of the features\n",
    "# this means taht if we increase one unit of tv (keeping the others const) there will be an increase of \"0.04576465 units\" in sales"
   ]
  },
  {
   "cell_type": "code",
   "execution_count": 100,
   "id": "86cca0a2",
   "metadata": {},
   "outputs": [],
   "source": [
    " y_hat = final_model.predict(X)"
   ]
  },
  {
   "cell_type": "code",
   "execution_count": 103,
   "id": "99d6b9cc",
   "metadata": {},
   "outputs": [
    {
     "data": {
      "image/png": "[encoded data removed]",
      "text/plain": [
       "<Figure size 1152x432 with 3 Axes>"
      ]
     },
     "metadata": {
      "needs_background": "light"
     },
     "output_type": "display_data"
    }
   ],
   "source": [
    "fig,axes = plt.subplots(nrows=1,ncols=3,figsize=(16,6))\n",
    "\n",
    "axes[0].plot(df['TV'],df['sales'],'o')\n",
    "axes[0].plot(df['TV'], y_hat,'o',color='red')\n",
    "axes[0].set_ylabel(\"Sales\")\n",
    "axes[0].set_title(\"TV Spend\")\n",
    "\n",
    "axes[1].plot(df['radio'],df['sales'],'o')\n",
    "axes[1].plot(df['radio'], y_hat,'o',color='red')\n",
    "axes[1].set_ylabel(\"Sales\")\n",
    "axes[1].set_title(\"Radio Spend\")\n",
    "\n",
    "axes[2].plot(df['newspaper'],df['sales'],'o')\n",
    "axes[2].plot(df['newspaper'], y_hat,'o',color='red')\n",
    "axes[2].set_ylabel(\"Sales\")\n",
    "axes[2].set_title(\"newspaper Spend\")\n",
    "\n",
    "plt.tight_layout();"
   ]
  },
  {
   "cell_type": "code",
   "execution_count": 104,
   "id": "3d5a0bdc",
   "metadata": {},
   "outputs": [],
   "source": [
    "# saving and loading a model"
   ]
  },
  {
   "cell_type": "code",
   "execution_count": 105,
   "id": "0e2abed0",
   "metadata": {},
   "outputs": [],
   "source": [
    "from joblib import dump,load"
   ]
  },
  {
   "cell_type": "code",
   "execution_count": 107,
   "id": "bddd0cc1",
   "metadata": {},
   "outputs": [
    {
     "data": {
      "text/plain": [
       "['final_sales_model.joblib']"
      ]
     },
     "execution_count": 107,
     "metadata": {},
     "output_type": "execute_result"
    }
   ],
   "source": [
    "dump(final_model, 'final_sales_model.joblib')"
   ]
  },
  {
   "cell_type": "code",
   "execution_count": 111,
   "id": "692ab1e2",
   "metadata": {},
   "outputs": [],
   "source": [
    "loaded_model = load('final_sales_model.joblib')"
   ]
  },
  {
   "cell_type": "code",
   "execution_count": 113,
   "id": "9e74a095",
   "metadata": {},
   "outputs": [
    {
     "data": {
      "text/plain": [
       "array([ 0.04576465,  0.18853002, -0.00103749])"
      ]
     },
     "execution_count": 113,
     "metadata": {},
     "output_type": "execute_result"
    }
   ],
   "source": [
    "loaded_model.coef_"
   ]
  },
  {
   "cell_type": "code",
   "execution_count": 114,
   "id": "8f603ea1",
   "metadata": {},
   "outputs": [
    {
     "data": {
      "text/plain": [
       "(200, 3)"
      ]
     },
     "execution_count": 114,
     "metadata": {},
     "output_type": "execute_result"
    }
   ],
   "source": [
    "X.shape"
   ]
  },
  {
   "cell_type": "code",
   "execution_count": 116,
   "id": "ca9ddf33",
   "metadata": {},
   "outputs": [],
   "source": [
    "# 149 tv, 22 Radio, 12 newspaper\n",
    "campaign = [[149,22,12]]"
   ]
  },
  {
   "cell_type": "code",
   "execution_count": 117,
   "id": "3ab99d13",
   "metadata": {},
   "outputs": [
    {
     "name": "stderr",
     "output_type": "stream",
     "text": [
      "C:\\Users\\Dell\\anaconda3\\lib\\site-packages\\sklearn\\base.py:450: UserWarning: X does not have valid feature names, but LinearRegression was fitted with feature names\n",
      "  warnings.warn(\n"
     ]
    },
    {
     "data": {
      "text/plain": [
       "array([13.893032])"
      ]
     },
     "execution_count": 117,
     "metadata": {},
     "output_type": "execute_result"
    }
   ],
   "source": [
    "loaded_model.predict(campaign)"
   ]
  },
  {
   "cell_type": "markdown",
   "id": "b5484fee",
   "metadata": {},
   "source": [
    "# POLYNOMIAL REGRESSION"
   ]
  },
  {
   "cell_type": "markdown",
   "id": "48509211",
   "metadata": {},
   "source": [
    "##### THEORY"
   ]
  },
  {
   "cell_type": "code",
   "execution_count": 118,
   "id": "6db2cf7d",
   "metadata": {},
   "outputs": [],
   "source": [
    "# there are two issues polynomial regression will adress for us:\n",
    "# 1. non linear feature relationships to label\n",
    "# 2. interaction terms between features\n",
    "\n",
    "# if we take the square of the features it starts linearizing and if we go to higher oerders it increases linearization\n",
    "# and we can find good beta coeff with higher order\n",
    "# taking a polynomial to higher order have its own issues\n",
    "\n",
    "# interaction features:\n",
    "# if we have features A and B\n",
    "# we will get 1, A, B, A^2, B^2, AB\n"
   ]
  },
  {
   "cell_type": "markdown",
   "id": "20d8c11e",
   "metadata": {},
   "source": [
    "##### CREATING POLYNOMIAL FEATURES"
   ]
  },
  {
   "cell_type": "code",
   "execution_count": 119,
   "id": "a24b33b1",
   "metadata": {},
   "outputs": [],
   "source": [
    "import numpy as np\n",
    "import pandas as pd\n",
    "import matplotlib.pyplot as plt\n",
    "import seaborn as sns"
   ]
  },
  {
   "cell_type": "code",
   "execution_count": 120,
   "id": "f1a93569",
   "metadata": {},
   "outputs": [],
   "source": [
    "df = pd.read_csv(\"advertising.csv\")"
   ]
  },
  {
   "cell_type": "code",
   "execution_count": 121,
   "id": "48979e6e",
   "metadata": {},
   "outputs": [
    {
     "data": {
      "text/html": [
       "<div>\n",
       "<style scoped>\n",
       "    .dataframe tbody tr th:only-of-type {\n",
       "        vertical-align: middle;\n",
       "    }\n",
       "\n",
       "    .dataframe tbody tr th {\n",
       "        vertical-align: top;\n",
       "    }\n",
       "\n",
       "    .dataframe thead th {\n",
       "        text-align: right;\n",
       "    }\n",
       "</style>\n",
       "<table border=\"1\" class=\"dataframe\">\n",
       "  <thead>\n",
       "    <tr style=\"text-align: right;\">\n",
       "      <th></th>\n",
       "      <th>TV</th>\n",
       "      <th>radio</th>\n",
       "      <th>newspaper</th>\n",
       "      <th>sales</th>\n",
       "    </tr>\n",
       "  </thead>\n",
       "  <tbody>\n",
       "    <tr>\n",
       "      <th>0</th>\n",
       "      <td>230.1</td>\n",
       "      <td>37.8</td>\n",
       "      <td>69.2</td>\n",
       "      <td>22.1</td>\n",
       "    </tr>\n",
       "    <tr>\n",
       "      <th>1</th>\n",
       "      <td>44.5</td>\n",
       "      <td>39.3</td>\n",
       "      <td>45.1</td>\n",
       "      <td>10.4</td>\n",
       "    </tr>\n",
       "    <tr>\n",
       "      <th>2</th>\n",
       "      <td>17.2</td>\n",
       "      <td>45.9</td>\n",
       "      <td>69.3</td>\n",
       "      <td>9.3</td>\n",
       "    </tr>\n",
       "    <tr>\n",
       "      <th>3</th>\n",
       "      <td>151.5</td>\n",
       "      <td>41.3</td>\n",
       "      <td>58.5</td>\n",
       "      <td>18.5</td>\n",
       "    </tr>\n",
       "    <tr>\n",
       "      <th>4</th>\n",
       "      <td>180.8</td>\n",
       "      <td>10.8</td>\n",
       "      <td>58.4</td>\n",
       "      <td>12.9</td>\n",
       "    </tr>\n",
       "  </tbody>\n",
       "</table>\n",
       "</div>"
      ],
      "text/plain": [
       "      TV  radio  newspaper  sales\n",
       "0  230.1   37.8       69.2   22.1\n",
       "1   44.5   39.3       45.1   10.4\n",
       "2   17.2   45.9       69.3    9.3\n",
       "3  151.5   41.3       58.5   18.5\n",
       "4  180.8   10.8       58.4   12.9"
      ]
     },
     "execution_count": 121,
     "metadata": {},
     "output_type": "execute_result"
    }
   ],
   "source": [
    "df.head()"
   ]
  },
  {
   "cell_type": "code",
   "execution_count": 136,
   "id": "866e2255",
   "metadata": {},
   "outputs": [],
   "source": [
    "X = df.drop('sales', axis = 1)"
   ]
  },
  {
   "cell_type": "code",
   "execution_count": 137,
   "id": "1739be41",
   "metadata": {},
   "outputs": [],
   "source": [
    "y = df['sales']"
   ]
  },
  {
   "cell_type": "code",
   "execution_count": 138,
   "id": "bcae2c4d",
   "metadata": {},
   "outputs": [],
   "source": [
    "from sklearn.preprocessing import PolynomialFeatures"
   ]
  },
  {
   "cell_type": "code",
   "execution_count": 146,
   "id": "dd486bad",
   "metadata": {},
   "outputs": [],
   "source": [
    "polynomial_converter = PolynomialFeatures(degree = 2, include_bias = False)"
   ]
  },
  {
   "cell_type": "code",
   "execution_count": 147,
   "id": "716eaf4d",
   "metadata": {},
   "outputs": [
    {
     "data": {
      "text/plain": [
       "PolynomialFeatures(include_bias=False)"
      ]
     },
     "execution_count": 147,
     "metadata": {},
     "output_type": "execute_result"
    }
   ],
   "source": [
    "polynomial_converter.fit(X)\n",
    "# fit will not return anything untill we call transform"
   ]
  },
  {
   "cell_type": "code",
   "execution_count": 148,
   "id": "fb4307b7",
   "metadata": {},
   "outputs": [],
   "source": [
    "poly_features = polynomial_converter.transform(X)"
   ]
  },
  {
   "cell_type": "code",
   "execution_count": 149,
   "id": "af2f8fc5",
   "metadata": {},
   "outputs": [
    {
     "data": {
      "text/plain": [
       "(200, 9)"
      ]
     },
     "execution_count": 149,
     "metadata": {},
     "output_type": "execute_result"
    }
   ],
   "source": [
    "polynomial_converter.transform(X).shape"
   ]
  },
  {
   "cell_type": "code",
   "execution_count": 150,
   "id": "2126dbe8",
   "metadata": {},
   "outputs": [
    {
     "data": {
      "text/plain": [
       "(200, 3)"
      ]
     },
     "execution_count": 150,
     "metadata": {},
     "output_type": "execute_result"
    }
   ],
   "source": [
    "X.shape"
   ]
  },
  {
   "cell_type": "code",
   "execution_count": 151,
   "id": "e91870e2",
   "metadata": {},
   "outputs": [
    {
     "data": {
      "text/plain": [
       "TV           230.1\n",
       "radio         37.8\n",
       "newspaper     69.2\n",
       "Name: 0, dtype: float64"
      ]
     },
     "execution_count": 151,
     "metadata": {},
     "output_type": "execute_result"
    }
   ],
   "source": [
    "X.iloc[0]"
   ]
  },
  {
   "cell_type": "code",
   "execution_count": 152,
   "id": "b191f1f9",
   "metadata": {},
   "outputs": [
    {
     "data": {
      "text/plain": [
       "array([2.301000e+02, 3.780000e+01, 6.920000e+01, 5.294601e+04,\n",
       "       8.697780e+03, 1.592292e+04, 1.428840e+03, 2.615760e+03,\n",
       "       4.788640e+03])"
      ]
     },
     "execution_count": 152,
     "metadata": {},
     "output_type": "execute_result"
    }
   ],
   "source": [
    "poly_features[0]"
   ]
  },
  {
   "cell_type": "code",
   "execution_count": 154,
   "id": "32efa195",
   "metadata": {},
   "outputs": [
    {
     "data": {
      "text/plain": [
       "array([[ 230.1 ,   37.8 ,   69.2 , ..., 1428.84, 2615.76, 4788.64],\n",
       "       [  44.5 ,   39.3 ,   45.1 , ..., 1544.49, 1772.43, 2034.01],\n",
       "       [  17.2 ,   45.9 ,   69.3 , ..., 2106.81, 3180.87, 4802.49],\n",
       "       ...,\n",
       "       [ 177.  ,    9.3 ,    6.4 , ...,   86.49,   59.52,   40.96],\n",
       "       [ 283.6 ,   42.  ,   66.2 , ..., 1764.  , 2780.4 , 4382.44],\n",
       "       [ 232.1 ,    8.6 ,    8.7 , ...,   73.96,   74.82,   75.69]])"
      ]
     },
     "execution_count": 154,
     "metadata": {},
     "output_type": "execute_result"
    }
   ],
   "source": [
    "# there is another method to fit and transform at the same time\n",
    "polynomial_converter.fit_transform(X)"
   ]
  },
  {
   "cell_type": "markdown",
   "id": "51b6b240",
   "metadata": {},
   "source": [
    "##### TRAINING AND EVALUATION"
   ]
  },
  {
   "cell_type": "code",
   "execution_count": 155,
   "id": "fec31491",
   "metadata": {},
   "outputs": [],
   "source": [
    "from sklearn.model_selection import train_test_split"
   ]
  },
  {
   "cell_type": "code",
   "execution_count": 156,
   "id": "f28774d1",
   "metadata": {},
   "outputs": [],
   "source": [
    "# we are going to apply train_test_split on poly_features because we have more features in this than the original features\n",
    "X_train, X_test, y_train, y_test = train_test_split(poly_features, y, test_size=0.33, random_state=101)"
   ]
  },
  {
   "cell_type": "code",
   "execution_count": 157,
   "id": "cd820d2a",
   "metadata": {},
   "outputs": [],
   "source": [
    "from sklearn.linear_model import LinearRegression"
   ]
  },
  {
   "cell_type": "code",
   "execution_count": 158,
   "id": "cc4f2fb4",
   "metadata": {},
   "outputs": [],
   "source": [
    "model = LinearRegression()"
   ]
  },
  {
   "cell_type": "code",
   "execution_count": 159,
   "id": "e8d5e51b",
   "metadata": {},
   "outputs": [
    {
     "data": {
      "text/plain": [
       "LinearRegression()"
      ]
     },
     "execution_count": 159,
     "metadata": {},
     "output_type": "execute_result"
    }
   ],
   "source": [
    "model.fit(X_train, y_train)"
   ]
  },
  {
   "cell_type": "code",
   "execution_count": 160,
   "id": "6ef1fcb5",
   "metadata": {},
   "outputs": [],
   "source": [
    "test_predictions = model.predict(X_test)"
   ]
  },
  {
   "cell_type": "code",
   "execution_count": 161,
   "id": "6bd007b9",
   "metadata": {},
   "outputs": [
    {
     "data": {
      "text/plain": [
       "array([ 5.25319441e-02,  1.42773271e-02,  1.47528851e-02, -1.12739168e-04,\n",
       "        1.13231490e-03, -5.42180033e-05,  6.26813126e-05,  8.93347558e-05,\n",
       "       -3.52004070e-05])"
      ]
     },
     "execution_count": 161,
     "metadata": {},
     "output_type": "execute_result"
    }
   ],
   "source": [
    "# model.coef_"
   ]
  },
  {
   "cell_type": "code",
   "execution_count": 163,
   "id": "83c1254f",
   "metadata": {},
   "outputs": [],
   "source": [
    "from sklearn.metrics import mean_absolute_error, mean_squared_error"
   ]
  },
  {
   "cell_type": "code",
   "execution_count": 164,
   "id": "2ed835f0",
   "metadata": {},
   "outputs": [],
   "source": [
    "MAE = mean_absolute_error(y_test, test_predictions)"
   ]
  },
  {
   "cell_type": "code",
   "execution_count": 166,
   "id": "e8ed924e",
   "metadata": {},
   "outputs": [],
   "source": [
    "MSE = mean_squared_error(y_test, test_predictions)"
   ]
  },
  {
   "cell_type": "code",
   "execution_count": 167,
   "id": "0885236c",
   "metadata": {},
   "outputs": [],
   "source": [
    "RMSE = np.sqrt(MSE)"
   ]
  },
  {
   "cell_type": "code",
   "execution_count": 168,
   "id": "2da656ec",
   "metadata": {},
   "outputs": [
    {
     "data": {
      "text/plain": [
       "0.48428105352156275"
      ]
     },
     "execution_count": 168,
     "metadata": {},
     "output_type": "execute_result"
    }
   ],
   "source": [
    "MAE"
   ]
  },
  {
   "cell_type": "code",
   "execution_count": 169,
   "id": "83430c51",
   "metadata": {},
   "outputs": [
    {
     "data": {
      "text/plain": [
       "0.42028148421570233"
      ]
     },
     "execution_count": 169,
     "metadata": {},
     "output_type": "execute_result"
    }
   ],
   "source": [
    "MSE"
   ]
  },
  {
   "cell_type": "code",
   "execution_count": 170,
   "id": "b9a904c3",
   "metadata": {},
   "outputs": [
    {
     "data": {
      "text/plain": [
       "0.64829120325337"
      ]
     },
     "execution_count": 170,
     "metadata": {},
     "output_type": "execute_result"
    }
   ],
   "source": [
    "RMSE"
   ]
  },
  {
   "cell_type": "markdown",
   "id": "2ddecd05",
   "metadata": {},
   "source": [
    "##### BIAS-VARIANCE TRADE OFF (OVERFITTING VS UNDERFITTING)"
   ]
  },
  {
   "cell_type": "code",
   "execution_count": 173,
   "id": "13760581",
   "metadata": {},
   "outputs": [],
   "source": [
    "# in general, increasing the complexity in search for better performance leads to a Bias-Variance trade off\n",
    "# we want to have a model that can generalize well to new unseen data, but can also account for variance and patterns in the known data\n",
    "# extreme bias or extreme variance both lead to bad models"
   ]
  },
  {
   "cell_type": "code",
   "execution_count": 174,
   "id": "7dbf1a3c",
   "metadata": {},
   "outputs": [],
   "source": [
    "# OVERFITTING\n",
    "# the model fits too much to the noise from the data\n",
    "# this often results in low error on training sets but high error on test/validation sets\n",
    "# overfitting is hard to detect as it performs good on training set rather than test set"
   ]
  },
  {
   "cell_type": "code",
   "execution_count": 175,
   "id": "d3544bf9",
   "metadata": {},
   "outputs": [],
   "source": [
    "# UNDERFITTING\n",
    "# model does not capture the underlying trend of the data and does not fit to the data well enough\n",
    "# low variance but high bias\n",
    "# underfitting is often a result of an excessively simple model\n",
    "# model has high bias and is generalizing too much\n",
    "# underfitting can lead to poor performance in both the training and the testing data sets\n",
    "# high bias means that the prediction is off or inaccurate"
   ]
  },
  {
   "cell_type": "markdown",
   "id": "ae5ac412",
   "metadata": {},
   "source": [
    "##### CHOOSING DEGREE OF POLYNOMIAL"
   ]
  },
  {
   "cell_type": "code",
   "execution_count": 177,
   "id": "dcbba83e",
   "metadata": {},
   "outputs": [],
   "source": [
    "# create the different order poly\n",
    "# split poly feat train/test\n",
    "# fit on train\n",
    "# store/save the rmse for both the train and test\n",
    "# plot the reults (errors vs poly order)"
   ]
  },
  {
   "cell_type": "code",
   "execution_count": 180,
   "id": "ce3fbc33",
   "metadata": {},
   "outputs": [],
   "source": [
    "train_rmse_errors = []\n",
    "test_rmse_errors = []\n",
    "\n",
    "for d in range(1,10):\n",
    "    \n",
    "    poly_converter = PolynomialFeatures(degree=d, include_bias = False)\n",
    "    poly_features = poly_converter.fit_transform(X)\n",
    "    X_train, X_test, y_train, y_test = train_test_split(poly_features, y, test_size=0.33, random_state=101)\n",
    "    model = LinearRegression()\n",
    "    model.fit(X_train, y_train)\n",
    "    \n",
    "    train_pred = model.predict(X_train)\n",
    "    test_pred = model.predict(X_test)\n",
    "    \n",
    "    train_rmse = np.sqrt(mean_squared_error(y_train,train_pred))\n",
    "    test_rmse = np.sqrt(mean_squared_error(y_test,test_pred))\n",
    "    \n",
    "    train_rmse_errors.append(train_rmse)\n",
    "    test_rmse_errors.append(test_rmse)\n",
    "    \n",
    "    "
   ]
  },
  {
   "cell_type": "code",
   "execution_count": 181,
   "id": "7de9348f",
   "metadata": {},
   "outputs": [
    {
     "data": {
      "text/plain": [
       "[1.7376515982447711,\n",
       " 0.5947926597019144,\n",
       " 0.44059734232363623,\n",
       " 0.35329132820381115,\n",
       " 0.24845372491167317,\n",
       " 0.18836220066978124,\n",
       " 4.722022110071159,\n",
       " 0.1532342500517892,\n",
       " 0.15071772152275037]"
      ]
     },
     "execution_count": 181,
     "metadata": {},
     "output_type": "execute_result"
    }
   ],
   "source": [
    "train_rmse_errors"
   ]
  },
  {
   "cell_type": "code",
   "execution_count": 182,
   "id": "06cc2203",
   "metadata": {},
   "outputs": [
    {
     "data": {
      "text/plain": [
       "[1.5324409426512413,\n",
       " 0.64829120325337,\n",
       " 0.5577254823362452,\n",
       " 0.5064297307498219,\n",
       " 2.3573610784372336,\n",
       " 11.21771417886336,\n",
       " 1194.3666980368562,\n",
       " 3468.9957768098748,\n",
       " 166098.4151585643]"
      ]
     },
     "execution_count": 182,
     "metadata": {},
     "output_type": "execute_result"
    }
   ],
   "source": [
    "test_rmse_errors"
   ]
  },
  {
   "cell_type": "code",
   "execution_count": 188,
   "id": "178c4923",
   "metadata": {},
   "outputs": [
    {
     "data": {
      "text/plain": [
       "<function matplotlib.pyplot.legend(*args, **kwargs)>"
      ]
     },
     "execution_count": 188,
     "metadata": {},
     "output_type": "execute_result"
    },
    {
     "data": {
      "image/png": "[encoded data removed]",
      "text/plain": [
       "<Figure size 432x288 with 1 Axes>"
      ]
     },
     "metadata": {
      "needs_background": "light"
     },
     "output_type": "display_data"
    }
   ],
   "source": [
    "plt.plot(range(1,6), train_rmse_errors[:5], label='TRAIN RMSE')\n",
    "plt.plot(range(1,6), test_rmse_errors[:5], label=' RMSE')\n",
    "\n",
    "plt.ylabel('RMSE')\n",
    "plt.xlabel('Degree of Poly')\n",
    "plt.legend"
   ]
  },
  {
   "cell_type": "markdown",
   "id": "bb0b30f7",
   "metadata": {},
   "source": [
    "##### MODEL DEPLOYMENT"
   ]
  },
  {
   "cell_type": "code",
   "execution_count": 191,
   "id": "33c19720",
   "metadata": {},
   "outputs": [],
   "source": [
    "final_poly_converter = PolynomialFeatures(degree=3, include_bias = False)"
   ]
  },
  {
   "cell_type": "code",
   "execution_count": 192,
   "id": "e923a82c",
   "metadata": {},
   "outputs": [],
   "source": [
    "final_model = LinearRegression()"
   ]
  },
  {
   "cell_type": "code",
   "execution_count": 194,
   "id": "dcf162fc",
   "metadata": {},
   "outputs": [
    {
     "data": {
      "text/plain": [
       "LinearRegression()"
      ]
     },
     "execution_count": 194,
     "metadata": {},
     "output_type": "execute_result"
    }
   ],
   "source": [
    "full_converted_X = final_poly_converter.fit_transform(X)\n",
    "final_model.fit(full_converted_X, y)"
   ]
  },
  {
   "cell_type": "code",
   "execution_count": 197,
   "id": "41a3c127",
   "metadata": {},
   "outputs": [],
   "source": [
    "from joblib import dump,load"
   ]
  },
  {
   "cell_type": "code",
   "execution_count": 198,
   "id": "6039c619",
   "metadata": {},
   "outputs": [
    {
     "data": {
      "text/plain": [
       "['final_poly_model.joblib']"
      ]
     },
     "execution_count": 198,
     "metadata": {},
     "output_type": "execute_result"
    }
   ],
   "source": [
    "dump(final_model,'final_poly_model.joblib')"
   ]
  },
  {
   "cell_type": "code",
   "execution_count": 199,
   "id": "6d9aa76a",
   "metadata": {},
   "outputs": [
    {
     "data": {
      "text/plain": [
       "['final_converter.joblib']"
      ]
     },
     "execution_count": 199,
     "metadata": {},
     "output_type": "execute_result"
    }
   ],
   "source": [
    "dump(final_poly_converter,'final_converter.joblib')"
   ]
  },
  {
   "cell_type": "code",
   "execution_count": 200,
   "id": "767a0a80",
   "metadata": {},
   "outputs": [],
   "source": [
    "loaded_converter = load('final_converter.joblib')"
   ]
  },
  {
   "cell_type": "code",
   "execution_count": 201,
   "id": "ebc4448c",
   "metadata": {},
   "outputs": [],
   "source": [
    "loaded_model = load('final_poly_model.joblib')"
   ]
  },
  {
   "cell_type": "code",
   "execution_count": 202,
   "id": "2c910f30",
   "metadata": {},
   "outputs": [],
   "source": [
    "camplaign = [[149,22,12]]"
   ]
  },
  {
   "cell_type": "code",
   "execution_count": 204,
   "id": "326ecb42",
   "metadata": {},
   "outputs": [],
   "source": [
    "transformed_data = loaded_converter.fit_transform(campaign)"
   ]
  },
  {
   "cell_type": "code",
   "execution_count": 206,
   "id": "208b4991",
   "metadata": {},
   "outputs": [
    {
     "data": {
      "text/plain": [
       "array([14.64501014])"
      ]
     },
     "execution_count": 206,
     "metadata": {},
     "output_type": "execute_result"
    }
   ],
   "source": [
    "loaded_model.predict(transformed_data)"
   ]
  },
  {
   "cell_type": "markdown",
   "id": "3932ffe0",
   "metadata": {},
   "source": [
    "### REGULARIZATION"
   ]
  },
  {
   "cell_type": "code",
   "execution_count": 207,
   "id": "39bea1ba",
   "metadata": {},
   "outputs": [],
   "source": [
    "# it seeks to solve a few common model issues by:\n",
    "# 1. minimizing model complexity\n",
    "# 2. penalizing the loss function\n",
    "# 3. reducing model overfitting (add more bias to reduce model variance)\n",
    "\n",
    "# in general, we can think of regularization as a way to reduce model overfitting and variance\n",
    "# 1. requires some additional bias\n",
    "# 2. requires a search for optimal penalty hyperparameter\n",
    "\n",
    "# three types of regularization\n",
    "# 1. L1 => lasso regression\n",
    "# 2. L2 => Ridge regression\n",
    "# 3. Elastic net"
   ]
  },
  {
   "cell_type": "code",
   "execution_count": 208,
   "id": "30c8eb85",
   "metadata": {},
   "outputs": [],
   "source": [
    "# L1 regularizations\n",
    "# adds penalty equal to the absolute value of the magnitude of coeff\n",
    "\n",
    "# L2 regularization\n",
    "# adds a penalty equal to the square of the magnitude of the coeff\n",
    "\n",
    "# Elastic net combines l1 and l2 with addition to an alpha parameter deciding the ratio between them\n",
    "# if alpha is zero it cancels out the absolute value term\n",
    "# if alpha is one it cancels out the absolute squared term\n",
    "\n",
    "# these reg methods do have a cost:\n",
    "# 1. introduce an additional hyperparameter that needs to be tuned\n",
    "# 2. a multiplier to the penalty to decide the \"strength\" of the penalty"
   ]
  },
  {
   "cell_type": "markdown",
   "id": "5b858fbf",
   "metadata": {},
   "source": [
    "##### FEATURE SCALING"
   ]
  },
  {
   "cell_type": "code",
   "execution_count": 210,
   "id": "550cfee4",
   "metadata": {},
   "outputs": [],
   "source": [
    "# feature scaling imporves the convergence of steepest descent algorithms, which do not posses the property of scale invarieance\n",
    "# if features are on diff scales, certain weights may update daster than others since the feature values Xj play a role in the weight update\n",
    "# scaling features does not affect all of the ML algos such as decision trees and random forrest"
   ]
  },
  {
   "cell_type": "code",
   "execution_count": 212,
   "id": "c4f1b49e",
   "metadata": {},
   "outputs": [],
   "source": [
    "# feature scaling limitations:\n",
    "# must always scale new unseen data before feeding to model\n",
    "# effects direct interpretability of feature coefficients\n",
    "# easier to compare coeff to one another, harder to relate back to original unscaled feature\n",
    "\n",
    "# feature scaling benefits\n",
    "# can lead to great increase in performance\n",
    "# absolutely necessary for som models\n",
    "# virtually no real downside to scaling features"
   ]
  },
  {
   "cell_type": "code",
   "execution_count": 213,
   "id": "3501236e",
   "metadata": {},
   "outputs": [],
   "source": [
    "# two main ways to scale features:\n",
    "# Standardization\n",
    "#     rescales data to have a mean of 0 and std of 1\n",
    "# Normalization\n",
    "#     rescales all the data values to be between 0-1"
   ]
  },
  {
   "cell_type": "code",
   "execution_count": 214,
   "id": "58f0a9d7",
   "metadata": {},
   "outputs": [],
   "source": [
    "# A fit() call simply calculates the necessary statistics (Xmin, Xmax, mean and std)\n",
    "# A transform() call actually scales the data and returns teh new scaled version of the data\n",
    "# previosly saw a similar process for polynomial feature conversion"
   ]
  },
  {
   "cell_type": "code",
   "execution_count": 215,
   "id": "85042a57",
   "metadata": {},
   "outputs": [],
   "source": [
    "# very important consideration for fit and transform:\n",
    "# we only fit to training data\n",
    "# calculating statistical information should only come from the training data\n",
    "# dont want to assume prioir knowledge of teh test set\n",
    "\n",
    "# using full data set would cause data leakage\n",
    "\n",
    "# feature scaling proces:\n",
    "# 1. perform train test split\n",
    "# 2. fit to training feature data\n",
    "# 3. transform training feature data\n",
    "# 4. transform test feature data\n",
    "\n",
    "# Do we need to scale the label?\n",
    "# in general it is not necessary nor advised\n",
    "# normalising the output dist is altering the definition of teh target\n",
    "# predicting a dist that does not mirror real-world target\n",
    "# can actually neg impact stohastic gradient descent"
   ]
  },
  {
   "cell_type": "markdown",
   "id": "d7a741c5",
   "metadata": {},
   "source": [
    "### CROSS VALIDATION"
   ]
  },
  {
   "cell_type": "code",
   "execution_count": 216,
   "id": "c5320906",
   "metadata": {},
   "outputs": [],
   "source": [
    "# advanced set of methods for splitting into training and testing sets\n",
    "\n",
    "# how cacn we understand how the model behaves for the data that is has not seen and not been influenced by fot hyperparameter tuning\n",
    "# for this we can usde hold out test set\n",
    "\n",
    "# hold out:\n",
    "# we hold out a piece of data and set it aside\n",
    "# we perform the cross validation and hyperparameter tuning on the other data set\n",
    "# and then perform evaluation with the hold out test data\n",
    "# we can not perform tuning after this final test evaluation"
   ]
  },
  {
   "cell_type": "markdown",
   "id": "e137d051",
   "metadata": {},
   "source": [
    "### REGULARIZATION FOR LINEAR REGRESSION"
   ]
  },
  {
   "cell_type": "markdown",
   "id": "52249855",
   "metadata": {},
   "source": [
    "##### DATA SET UP"
   ]
  },
  {
   "cell_type": "code",
   "execution_count": 217,
   "id": "d24ea81a",
   "metadata": {},
   "outputs": [],
   "source": [
    "import numpy as np\n",
    "import pandas as pd\n",
    "import matplotlib.pyplot as plt\n",
    "import seaborn as sns"
   ]
  },
  {
   "cell_type": "code",
   "execution_count": 218,
   "id": "dbdf48ee",
   "metadata": {},
   "outputs": [],
   "source": [
    "df = pd.read_csv('Advertising.csv')"
   ]
  },
  {
   "cell_type": "code",
   "execution_count": 219,
   "id": "647cd960",
   "metadata": {},
   "outputs": [],
   "source": [
    "X = df.drop('sales', axis=1)"
   ]
  },
  {
   "cell_type": "code",
   "execution_count": 220,
   "id": "b9b6b195",
   "metadata": {},
   "outputs": [],
   "source": [
    "y = df['sales']"
   ]
  },
  {
   "cell_type": "code",
   "execution_count": 223,
   "id": "8d4ae567",
   "metadata": {},
   "outputs": [],
   "source": [
    "from sklearn.preprocessing import PolynomialFeatures"
   ]
  },
  {
   "cell_type": "code",
   "execution_count": 224,
   "id": "75988957",
   "metadata": {},
   "outputs": [],
   "source": [
    "polynomial_converter = PolynomialFeatures(degree=3,include_bias=False)"
   ]
  },
  {
   "cell_type": "code",
   "execution_count": 225,
   "id": "b1e94767",
   "metadata": {},
   "outputs": [],
   "source": [
    "poly_features = polynomial_converter.fit_transform(X)"
   ]
  },
  {
   "cell_type": "code",
   "execution_count": 229,
   "id": "b24712a5",
   "metadata": {},
   "outputs": [
    {
     "data": {
      "text/plain": [
       "(200, 3)"
      ]
     },
     "execution_count": 229,
     "metadata": {},
     "output_type": "execute_result"
    }
   ],
   "source": [
    "X.shape"
   ]
  },
  {
   "cell_type": "code",
   "execution_count": 230,
   "id": "c62db458",
   "metadata": {},
   "outputs": [
    {
     "data": {
      "text/plain": [
       "(200, 19)"
      ]
     },
     "execution_count": 230,
     "metadata": {},
     "output_type": "execute_result"
    }
   ],
   "source": [
    "poly_features.shape"
   ]
  },
  {
   "cell_type": "code",
   "execution_count": 234,
   "id": "b4cc83a3",
   "metadata": {},
   "outputs": [],
   "source": [
    "from sklearn.model_selection import train_test_split"
   ]
  },
  {
   "cell_type": "code",
   "execution_count": 236,
   "id": "1ff60325",
   "metadata": {},
   "outputs": [],
   "source": [
    "X_train, X_test, y_train, y_test = train_test_split(poly_features, y, test_size=0.3, random_state=101)"
   ]
  },
  {
   "cell_type": "code",
   "execution_count": 237,
   "id": "a22289af",
   "metadata": {},
   "outputs": [
    {
     "data": {
      "text/plain": [
       "(140, 19)"
      ]
     },
     "execution_count": 237,
     "metadata": {},
     "output_type": "execute_result"
    }
   ],
   "source": [
    "X_train.shape"
   ]
  },
  {
   "cell_type": "code",
   "execution_count": 240,
   "id": "15b2eefd",
   "metadata": {},
   "outputs": [],
   "source": [
    "from sklearn.preprocessing import StandardScaler"
   ]
  },
  {
   "cell_type": "code",
   "execution_count": 241,
   "id": "c00fd892",
   "metadata": {},
   "outputs": [],
   "source": [
    "scaler = StandardScaler()"
   ]
  },
  {
   "cell_type": "code",
   "execution_count": 242,
   "id": "a91e8cae",
   "metadata": {},
   "outputs": [
    {
     "data": {
      "text/plain": [
       "StandardScaler()"
      ]
     },
     "execution_count": 242,
     "metadata": {},
     "output_type": "execute_result"
    }
   ],
   "source": [
    "scaler.fit(X_train)"
   ]
  },
  {
   "cell_type": "code",
   "execution_count": 243,
   "id": "76f6ed24",
   "metadata": {},
   "outputs": [],
   "source": [
    "X_train = scaler.transform(X_train)"
   ]
  },
  {
   "cell_type": "code",
   "execution_count": 245,
   "id": "f30a9d0a",
   "metadata": {},
   "outputs": [],
   "source": [
    "X_test = scaler.transform(X_test)"
   ]
  },
  {
   "cell_type": "code",
   "execution_count": 246,
   "id": "d911df70",
   "metadata": {},
   "outputs": [
    {
     "data": {
      "text/plain": [
       "array([ 0.49300171, -0.33994238,  1.61586707,  0.28407363, -0.02568776,\n",
       "        1.49677566, -0.59023161,  0.41659155,  1.6137853 ,  0.08057172,\n",
       "       -0.05392229,  1.01524393, -0.36986163,  0.52457967,  1.48737034,\n",
       "       -0.66096022, -0.16360242,  0.54694754,  1.37075536])"
      ]
     },
     "execution_count": 246,
     "metadata": {},
     "output_type": "execute_result"
    }
   ],
   "source": [
    "X_train[0]"
   ]
  },
  {
   "cell_type": "markdown",
   "id": "348dcb6c",
   "metadata": {},
   "source": [
    "##### RIDGE REGRESSION (L2)"
   ]
  },
  {
   "cell_type": "code",
   "execution_count": 250,
   "id": "c0a62411",
   "metadata": {},
   "outputs": [],
   "source": [
    "# the beta coeff were solved by minimizing the residual sum of squares (RSS)\n",
    "#  RSS = sum of (y - ymean)^2\n",
    "# substitute the beta coeffs in ymean\n",
    "# including the penalty in the RSS lowers the slope and generalizes the fit of the line\n",
    "# increasing the slope of the line means we are overfitting\n",
    "# increasing the x component (sum of beta coeff multiplied with lambda) we can lower the slope of the line which means more generalization\n",
    "# what ridge reg is trying to do is making sure that we are not overly responsive to the training dat aso that when the test data comes in we have more bias and we can generalize better to unseen data\n",
    "# its going to punish the larger coeef which are responsible for steep slopes\n",
    "\n",
    "# how to choose lambda\n",
    "# we can do it by using cross validation"
   ]
  },
  {
   "cell_type": "markdown",
   "id": "62e2ffc9",
   "metadata": {},
   "source": [
    "##### IMPLEMENTATION OF RIDGE REGRESSION"
   ]
  },
  {
   "cell_type": "code",
   "execution_count": 252,
   "id": "dc01bdad",
   "metadata": {},
   "outputs": [],
   "source": [
    "# all the hyperparameters in python class calls are alpha\n",
    "# also in ridge the lambda is called alpha\n",
    "\n",
    "# for cross validation metrics, sklearn uses a \"scorer object\"\n",
    "# all scorer objects follow the convention that higher values are better than lower return values\n",
    "# for example, hugher accuracy is better\n",
    "# but higher RMSE is worse, so sklearn fixes this by using a neg RMSE as its scorer metric"
   ]
  },
  {
   "cell_type": "code",
   "execution_count": 253,
   "id": "f5e6785f",
   "metadata": {},
   "outputs": [],
   "source": [
    "# all polyfeatures and scaling has been done so we will just apply sclaing"
   ]
  },
  {
   "cell_type": "code",
   "execution_count": 254,
   "id": "0d68888d",
   "metadata": {},
   "outputs": [],
   "source": [
    "from sklearn.linear_model import Ridge"
   ]
  },
  {
   "cell_type": "code",
   "execution_count": 256,
   "id": "ad50514c",
   "metadata": {},
   "outputs": [],
   "source": [
    "# help(Ridge)"
   ]
  },
  {
   "cell_type": "code",
   "execution_count": 257,
   "id": "46a6e7f3",
   "metadata": {},
   "outputs": [],
   "source": [
    "ridge_model = Ridge(alpha=10)"
   ]
  },
  {
   "cell_type": "code",
   "execution_count": 258,
   "id": "64136ab5",
   "metadata": {},
   "outputs": [
    {
     "data": {
      "text/plain": [
       "Ridge(alpha=10)"
      ]
     },
     "execution_count": 258,
     "metadata": {},
     "output_type": "execute_result"
    }
   ],
   "source": [
    "ridge_model.fit(X_train, y_train)"
   ]
  },
  {
   "cell_type": "code",
   "execution_count": 259,
   "id": "d0e0b6ba",
   "metadata": {},
   "outputs": [],
   "source": [
    "test_predictions = ridge_model.predict(X_test)"
   ]
  },
  {
   "cell_type": "code",
   "execution_count": 260,
   "id": "8044ac91",
   "metadata": {},
   "outputs": [],
   "source": [
    "from sklearn.metrics import mean_absolute_error, mean_squared_error"
   ]
  },
  {
   "cell_type": "code",
   "execution_count": 261,
   "id": "70d0a3a1",
   "metadata": {},
   "outputs": [],
   "source": [
    "MAE = mean_absolute_error(y_test, test_predictions)"
   ]
  },
  {
   "cell_type": "code",
   "execution_count": 262,
   "id": "97305e1a",
   "metadata": {},
   "outputs": [
    {
     "data": {
      "text/plain": [
       "0.5774404204714183"
      ]
     },
     "execution_count": 262,
     "metadata": {},
     "output_type": "execute_result"
    }
   ],
   "source": [
    "MAE"
   ]
  },
  {
   "cell_type": "code",
   "execution_count": 263,
   "id": "c6024b3a",
   "metadata": {},
   "outputs": [],
   "source": [
    "RMSE = np.sqrt(mean_squared_error(y_test, test_predictions))"
   ]
  },
  {
   "cell_type": "code",
   "execution_count": 264,
   "id": "8ecbfa41",
   "metadata": {},
   "outputs": [
    {
     "data": {
      "text/plain": [
       "0.8946386461319685"
      ]
     },
     "execution_count": 264,
     "metadata": {},
     "output_type": "execute_result"
    }
   ],
   "source": [
    "RMSE"
   ]
  },
  {
   "cell_type": "code",
   "execution_count": 265,
   "id": "61575bb3",
   "metadata": {},
   "outputs": [],
   "source": [
    "from sklearn.linear_model import RidgeCV\n",
    "# RidgeCV is ridge for cross validation\n",
    "# and give us the optimum value of the alpha hhyperparameter"
   ]
  },
  {
   "cell_type": "code",
   "execution_count": 276,
   "id": "0cbcecd6",
   "metadata": {},
   "outputs": [],
   "source": [
    "ridge_cv_model = RidgeCV(alphas=(0.1, 1.0, 10.0), scoring = 'neg_mean_absolute_error')"
   ]
  },
  {
   "cell_type": "code",
   "execution_count": 277,
   "id": "d765b842",
   "metadata": {},
   "outputs": [
    {
     "data": {
      "text/plain": [
       "RidgeCV(alphas=array([ 0.1,  1. , 10. ]), scoring='neg_mean_absolute_error')"
      ]
     },
     "execution_count": 277,
     "metadata": {},
     "output_type": "execute_result"
    }
   ],
   "source": [
    "ridge_cv_model.fit(X_train, y_train)"
   ]
  },
  {
   "cell_type": "code",
   "execution_count": 278,
   "id": "e50fb161",
   "metadata": {},
   "outputs": [
    {
     "data": {
      "text/plain": [
       "0.1"
      ]
     },
     "execution_count": 278,
     "metadata": {},
     "output_type": "execute_result"
    }
   ],
   "source": [
    "ridge_cv_model.alpha_\n",
    "# give us the alpha value which is the best"
   ]
  },
  {
   "cell_type": "code",
   "execution_count": 272,
   "id": "8bffca20",
   "metadata": {},
   "outputs": [],
   "source": [
    "# from sklearn.metrics import SCORERS"
   ]
  },
  {
   "cell_type": "code",
   "execution_count": 274,
   "id": "95f50b49",
   "metadata": {},
   "outputs": [
    {
     "data": {
      "text/plain": [
       "dict_keys(['explained_variance', 'r2', 'max_error', 'neg_median_absolute_error', 'neg_mean_absolute_error', 'neg_mean_absolute_percentage_error', 'neg_mean_squared_error', 'neg_mean_squared_log_error', 'neg_root_mean_squared_error', 'neg_mean_poisson_deviance', 'neg_mean_gamma_deviance', 'accuracy', 'top_k_accuracy', 'roc_auc', 'roc_auc_ovr', 'roc_auc_ovo', 'roc_auc_ovr_weighted', 'roc_auc_ovo_weighted', 'balanced_accuracy', 'average_precision', 'neg_log_loss', 'neg_brier_score', 'adjusted_rand_score', 'rand_score', 'homogeneity_score', 'completeness_score', 'v_measure_score', 'mutual_info_score', 'adjusted_mutual_info_score', 'normalized_mutual_info_score', 'fowlkes_mallows_score', 'precision', 'precision_macro', 'precision_micro', 'precision_samples', 'precision_weighted', 'recall', 'recall_macro', 'recall_micro', 'recall_samples', 'recall_weighted', 'f1', 'f1_macro', 'f1_micro', 'f1_samples', 'f1_weighted', 'jaccard', 'jaccard_macro', 'jaccard_micro', 'jaccard_samples', 'jaccard_weighted'])"
      ]
     },
     "execution_count": 274,
     "metadata": {},
     "output_type": "execute_result"
    }
   ],
   "source": [
    "# SCORERS.keys()\n",
    "\n",
    "# this give a list of all the errors that can be performed\n",
    "# all these errors are transformed so that higher is better"
   ]
  },
  {
   "cell_type": "code",
   "execution_count": 279,
   "id": "c85e7867",
   "metadata": {},
   "outputs": [],
   "source": [
    "test_predictions = ridge_cv_model.predict(X_test)"
   ]
  },
  {
   "cell_type": "code",
   "execution_count": 280,
   "id": "d9a17490",
   "metadata": {},
   "outputs": [],
   "source": [
    "MAE = mean_absolute_error(y_test, test_predictions)"
   ]
  },
  {
   "cell_type": "code",
   "execution_count": 281,
   "id": "69265179",
   "metadata": {},
   "outputs": [],
   "source": [
    "RMSE = np.sqrt(mean_squared_error(y_test, test_predictions))"
   ]
  },
  {
   "cell_type": "code",
   "execution_count": 282,
   "id": "dc626d54",
   "metadata": {},
   "outputs": [
    {
     "data": {
      "text/plain": [
       "0.42737748843352086"
      ]
     },
     "execution_count": 282,
     "metadata": {},
     "output_type": "execute_result"
    }
   ],
   "source": [
    "MAE"
   ]
  },
  {
   "cell_type": "code",
   "execution_count": 283,
   "id": "fffbdb46",
   "metadata": {},
   "outputs": [
    {
     "data": {
      "text/plain": [
       "0.6180719926924644"
      ]
     },
     "execution_count": 283,
     "metadata": {},
     "output_type": "execute_result"
    }
   ],
   "source": [
    "RMSE"
   ]
  },
  {
   "cell_type": "code",
   "execution_count": 286,
   "id": "9d2f81ab",
   "metadata": {},
   "outputs": [
    {
     "data": {
      "text/plain": [
       "array([ 5.40769392,  0.5885865 ,  0.40390395, -6.18263924,  4.59607939,\n",
       "       -1.18789654, -1.15200458,  0.57837796, -0.1261586 ,  2.5569777 ,\n",
       "       -1.38900471,  0.86059434,  0.72219553, -0.26129256,  0.17870787,\n",
       "        0.44353612, -0.21362436, -0.04622473, -0.06441449])"
      ]
     },
     "execution_count": 286,
     "metadata": {},
     "output_type": "execute_result"
    }
   ],
   "source": [
    "ridge_cv_model.coef_"
   ]
  },
  {
   "cell_type": "markdown",
   "id": "e2f60cd8",
   "metadata": {},
   "source": [
    "##### LASSO REGRESSION (L1) THEORY AND IMPLEMENTATION"
   ]
  },
  {
   "cell_type": "code",
   "execution_count": 289,
   "id": "0f316291",
   "metadata": {},
   "outputs": [],
   "source": [
    "# instead of the squared value of the beta values we are considering only the beta values\n",
    "\n",
    "# limits the size of the coeffs\n",
    "# can yield sparse models where some coeffs can become zero\n",
    "\n",
    "# lasso can force some of the coefs ectimates to be exactly equal to zero when the tuning parameter lambda is sufficiently large\n",
    "# similar to the subset selection, the lasso performs variable selection\n",
    "# models generated from the lasso are generally much easier to interpret"
   ]
  },
  {
   "cell_type": "code",
   "execution_count": 292,
   "id": "5b2ff907",
   "metadata": {},
   "outputs": [],
   "source": [
    "from sklearn.linear_model import LassoCV"
   ]
  },
  {
   "cell_type": "code",
   "execution_count": 293,
   "id": "9e712fcc",
   "metadata": {},
   "outputs": [],
   "source": [
    "# there are other CV techniques in lasso such as LassoLarsCV and LassoLarsIC"
   ]
  },
  {
   "cell_type": "code",
   "execution_count": 308,
   "id": "45b6a500",
   "metadata": {},
   "outputs": [],
   "source": [
    "lasso_cv_model = LassoCV(eps=0.1, n_alphas=100, cv=5)\n",
    "# to solve the convergence warning\n",
    "# set max_iter = 100000\n",
    "# or\n",
    "# reduce the value of eps"
   ]
  },
  {
   "cell_type": "code",
   "execution_count": 309,
   "id": "4df89545",
   "metadata": {},
   "outputs": [
    {
     "data": {
      "text/plain": [
       "LassoCV(cv=5, eps=0.1)"
      ]
     },
     "execution_count": 309,
     "metadata": {},
     "output_type": "execute_result"
    }
   ],
   "source": [
    "lasso_cv_model.fit(X_train,y_train)\n",
    "\n",
    "# this may give a warning saying \"Objective did not converge\"\n",
    "# to fix this we can do\n",
    "# set max_iter = 100000 in LassoCV()"
   ]
  },
  {
   "cell_type": "code",
   "execution_count": 310,
   "id": "4d402322",
   "metadata": {},
   "outputs": [
    {
     "data": {
      "text/plain": [
       "0.4943070909225828"
      ]
     },
     "execution_count": 310,
     "metadata": {},
     "output_type": "execute_result"
    }
   ],
   "source": [
    "lasso_cv_model.alpha_"
   ]
  },
  {
   "cell_type": "code",
   "execution_count": 313,
   "id": "59e19845",
   "metadata": {},
   "outputs": [],
   "source": [
    "test_predictions = lasso_cv_model.predict(X_test)"
   ]
  },
  {
   "cell_type": "code",
   "execution_count": 314,
   "id": "07a3b1fe",
   "metadata": {},
   "outputs": [],
   "source": [
    "MAE = mean_absolute_error(y_test, test_predictions)"
   ]
  },
  {
   "cell_type": "code",
   "execution_count": 315,
   "id": "2a5a00fa",
   "metadata": {},
   "outputs": [],
   "source": [
    "RMSE = np.sqrt(mean_squared_error(y_test, test_predictions))"
   ]
  },
  {
   "cell_type": "code",
   "execution_count": 316,
   "id": "9d92d987",
   "metadata": {},
   "outputs": [
    {
     "data": {
      "text/plain": [
       "0.6541723161252854"
      ]
     },
     "execution_count": 316,
     "metadata": {},
     "output_type": "execute_result"
    }
   ],
   "source": [
    "MAE"
   ]
  },
  {
   "cell_type": "code",
   "execution_count": 317,
   "id": "d3f0f56a",
   "metadata": {},
   "outputs": [
    {
     "data": {
      "text/plain": [
       "1.130800102276253"
      ]
     },
     "execution_count": 317,
     "metadata": {},
     "output_type": "execute_result"
    }
   ],
   "source": [
    "RMSE"
   ]
  },
  {
   "cell_type": "code",
   "execution_count": 318,
   "id": "edc89209",
   "metadata": {},
   "outputs": [],
   "source": [
    "# in this case for these hyper params lasso is not performing weel than ridge model"
   ]
  },
  {
   "cell_type": "code",
   "execution_count": 319,
   "id": "87392b32",
   "metadata": {},
   "outputs": [
    {
     "data": {
      "text/plain": [
       "array([1.002651  , 0.        , 0.        , 0.        , 3.79745279,\n",
       "       0.        , 0.        , 0.        , 0.        , 0.        ,\n",
       "       0.        , 0.        , 0.        , 0.        , 0.        ,\n",
       "       0.        , 0.        , 0.        , 0.        ])"
      ]
     },
     "execution_count": 319,
     "metadata": {},
     "output_type": "execute_result"
    }
   ],
   "source": [
    "lasso_cv_model.coef_"
   ]
  },
  {
   "cell_type": "code",
   "execution_count": 321,
   "id": "422b5973",
   "metadata": {},
   "outputs": [],
   "source": [
    "# the model is considering only two features unlike ridge model which considered all the features\n",
    "# thsi enables us to interpret the scenario better\n",
    "# although lasso performed worse on MAE and RSE but it is easier for us to interpret the model\n",
    "# maybe we only need to consider two features\n",
    "# it depends if this tradeof is worth it respective to our case or problem that we are trying to solve"
   ]
  },
  {
   "cell_type": "code",
   "execution_count": 322,
   "id": "08318078",
   "metadata": {},
   "outputs": [],
   "source": [
    "# by setting eps = 0.001 and max_iter = 100000 we have a model that performs better on MAE and RMSE alost similar to ridge. but in ridge it considered all the features whereas lasso considers few features\n",
    "# by setting the values above we make the model a bit more complex as it considers more features than before"
   ]
  },
  {
   "cell_type": "markdown",
   "id": "355ea9f3",
   "metadata": {},
   "source": [
    "##### ELASTIC NET"
   ]
  },
  {
   "cell_type": "code",
   "execution_count": 323,
   "id": "79c1ae8f",
   "metadata": {},
   "outputs": [],
   "source": [
    "# combines lasso and ridge\n",
    "# lasso => |beta1| + |beta2| <= s\n",
    "# lasso => beta1^2 + beta2^2 <= s\n",
    "# where 's' is some value"
   ]
  },
  {
   "cell_type": "code",
   "execution_count": 324,
   "id": "dbc648b7",
   "metadata": {},
   "outputs": [],
   "source": [
    "# electic net have both lasso and ridge penalty value having lambda1 and lambda2"
   ]
  },
  {
   "cell_type": "code",
   "execution_count": 332,
   "id": "5b071144",
   "metadata": {},
   "outputs": [],
   "source": [
    "from sklearn.linear_model import ElasticNetCV"
   ]
  },
  {
   "cell_type": "code",
   "execution_count": 333,
   "id": "13915f2d",
   "metadata": {},
   "outputs": [],
   "source": [
    "elastic_model = ElasticNetCV(l1_ratio=[.1, .5, .7, .9, .95, .99, 1], eps=0.001, n_alphas=100, max_iter=100000)"
   ]
  },
  {
   "cell_type": "code",
   "execution_count": 334,
   "id": "86ea8a38",
   "metadata": {},
   "outputs": [
    {
     "data": {
      "text/plain": [
       "ElasticNetCV(l1_ratio=[0.1, 0.5, 0.7, 0.9, 0.95, 0.99, 1], max_iter=100000)"
      ]
     },
     "execution_count": 334,
     "metadata": {},
     "output_type": "execute_result"
    }
   ],
   "source": [
    "elastic_model.fit(X_train, y_train)"
   ]
  },
  {
   "cell_type": "code",
   "execution_count": 337,
   "id": "495ccd67",
   "metadata": {},
   "outputs": [
    {
     "data": {
      "text/plain": [
       "[0.1, 0.5, 0.7, 0.9, 0.95, 0.99, 1]"
      ]
     },
     "execution_count": 337,
     "metadata": {},
     "output_type": "execute_result"
    }
   ],
   "source": [
    "elastic_model.l1_ratio\n",
    "# all values of l1_ratio"
   ]
  },
  {
   "cell_type": "code",
   "execution_count": 338,
   "id": "4284444c",
   "metadata": {},
   "outputs": [
    {
     "data": {
      "text/plain": [
       "1.0"
      ]
     },
     "execution_count": 338,
     "metadata": {},
     "output_type": "execute_result"
    }
   ],
   "source": [
    "elastic_model.l1_ratio_\n",
    "# best performing l1_ratio"
   ]
  },
  {
   "cell_type": "code",
   "execution_count": 340,
   "id": "80f0b80a",
   "metadata": {},
   "outputs": [
    {
     "data": {
      "text/plain": [
       "0.004943070909225827"
      ]
     },
     "execution_count": 340,
     "metadata": {},
     "output_type": "execute_result"
    }
   ],
   "source": [
    "elastic_model.alpha_"
   ]
  },
  {
   "cell_type": "code",
   "execution_count": 343,
   "id": "bc1dea5f",
   "metadata": {},
   "outputs": [],
   "source": [
    "test_predictions = elastic_model.predict(X_test)"
   ]
  },
  {
   "cell_type": "code",
   "execution_count": 344,
   "id": "868d63ca",
   "metadata": {},
   "outputs": [],
   "source": [
    "MAE = mean_absolute_error(y_test, test_predictions)"
   ]
  },
  {
   "cell_type": "code",
   "execution_count": 345,
   "id": "ab7c1b8e",
   "metadata": {},
   "outputs": [],
   "source": [
    "RMSE = np.sqrt(mean_squared_error(y_test, test_predictions))"
   ]
  },
  {
   "cell_type": "code",
   "execution_count": 346,
   "id": "310fdcae",
   "metadata": {},
   "outputs": [
    {
     "data": {
      "text/plain": [
       "0.43350346185900673"
      ]
     },
     "execution_count": 346,
     "metadata": {},
     "output_type": "execute_result"
    }
   ],
   "source": [
    "MAE"
   ]
  },
  {
   "cell_type": "code",
   "execution_count": 347,
   "id": "b291130d",
   "metadata": {},
   "outputs": [
    {
     "data": {
      "text/plain": [
       "0.6063140748984039"
      ]
     },
     "execution_count": 347,
     "metadata": {},
     "output_type": "execute_result"
    }
   ],
   "source": [
    "RMSE"
   ]
  },
  {
   "cell_type": "code",
   "execution_count": 348,
   "id": "3572720d",
   "metadata": {},
   "outputs": [],
   "source": [
    "# in future go to elastic model where it will go to lasso or ridge itself where needed"
   ]
  },
  {
   "cell_type": "code",
   "execution_count": null,
   "id": "c8db4351",
   "metadata": {},
   "outputs": [],
   "source": []
  }
 ],
 "metadata": {
  "kernelspec": {
   "display_name": "Python 3 (ipykernel)",
   "language": "python",
   "name": "python3"
  },
  "language_info": {
   "codemirror_mode": {
    "name": "ipython",
    "version": 3
   },
   "file_extension": ".py",
   "mimetype": "text/x-python",
   "name": "python",
   "nbconvert_exporter": "python",
   "pygments_lexer": "ipython3",
   "version": "3.9.12"
  }
 },
 "nbformat": 4,
 "nbformat_minor": 5
}
