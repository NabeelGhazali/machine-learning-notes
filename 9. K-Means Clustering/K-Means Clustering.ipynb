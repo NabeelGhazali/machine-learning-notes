{
 "cells": [
  {
   "cell_type": "markdown",
   "id": "575d5980",
   "metadata": {},
   "source": [
    "### OVERVIEW"
   ]
  },
  {
   "cell_type": "code",
   "execution_count": null,
   "id": "fab11397",
   "metadata": {},
   "outputs": [],
   "source": [
    "# this is the general concept of clustering\n",
    "# uses unlabeled data and make clusters\n",
    "# we donot know actual true label of the data\n",
    "# real data sets have more dimensions and more features\n",
    "#  no unsupervised learning model can tell what the direct label of a cluster it is\n",
    "\n",
    "\n",
    "# if we have deiscovered these new cluster labels, could we use theat as a y for supervised learning\n",
    "#  yes we can use supervised learning to discover possible labels, then apply supervised on new datapoints\n",
    "# there is a major trade-off\n",
    "# clustering did not tell what the cluster is (the name of the cluster)\n",
    "# or is the cluster even correct\n",
    "#   its much harder to compare unsupervised models as we lack the performance metrics.\n",
    "# we cant use the performance metrics of the supervised learning model it is difficult to compare the results of one unsupervised model to the other\n"
   ]
  },
  {
   "cell_type": "markdown",
   "id": "2041da8f",
   "metadata": {},
   "source": [
    "### THEORY"
   ]
  },
  {
   "cell_type": "code",
   "execution_count": 1,
   "id": "fc00a773",
   "metadata": {},
   "outputs": [],
   "source": [
    "# first set of properties that each point must satisfy\n",
    "#     each point must belong to a cluster\n",
    "#     each point can only belong to one cluster (no single point can belong to multiple clusters)"
   ]
  },
  {
   "cell_type": "code",
   "execution_count": 2,
   "id": "7ff385b9",
   "metadata": {},
   "outputs": [],
   "source": [
    "# step 1 => choose the number of clusters to create (this is the K value)\n",
    "#    discussed in later section about how to choose optimal k value\n",
    "\n",
    "# step 2 => Randomy select K disntinct data ponts\n",
    "\n",
    "# step 3 => assign each remaining point to the nearest \"cluster\" point (we are just using the distance metrics)\n",
    "\n",
    "# ----------- Now we iterate and improve the clustering process------------\n",
    "\n",
    "# step 4 => calculate the centre of the cluster points (mean value of each point vector)\n",
    "\n",
    "# step 5 => Now assign each point to the nearest cluster center\n",
    "\n",
    "# ----------- we repeat step 4 and 5------------"
   ]
  },
  {
   "cell_type": "markdown",
   "id": "f945d36b",
   "metadata": {},
   "source": [
    "### CODING PART 1"
   ]
  },
  {
   "cell_type": "code",
   "execution_count": 3,
   "id": "5689e7cd",
   "metadata": {},
   "outputs": [],
   "source": [
    "import numpy as np\n",
    "import pandas as pd\n",
    "import matplotlib.pyplot as plt\n",
    "import seaborn as sns"
   ]
  },
  {
   "cell_type": "code",
   "execution_count": null,
   "id": "850d2140",
   "metadata": {},
   "outputs": [],
   "source": [
    "df = "
   ]
  }
 ],
 "metadata": {
  "kernelspec": {
   "display_name": "Python 3 (ipykernel)",
   "language": "python",
   "name": "python3"
  },
  "language_info": {
   "codemirror_mode": {
    "name": "ipython",
    "version": 3
   },
   "file_extension": ".py",
   "mimetype": "text/x-python",
   "name": "python",
   "nbconvert_exporter": "python",
   "pygments_lexer": "ipython3",
   "version": "3.9.12"
  }
 },
 "nbformat": 4,
 "nbformat_minor": 5
}
