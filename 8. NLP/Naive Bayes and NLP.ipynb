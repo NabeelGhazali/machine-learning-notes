{
 "cells": [
  {
   "cell_type": "markdown",
   "id": "cec91380",
   "metadata": {},
   "source": [
    "### NAIVE BAYES ALGORITHM - PART 1"
   ]
  },
  {
   "cell_type": "code",
   "execution_count": 2,
   "id": "00dcf8ad",
   "metadata": {},
   "outputs": [],
   "source": [
    "# bayes theorem is a probability formula that leverages previously known probabilities to define probability of the related events occuring."
   ]
  },
  {
   "cell_type": "markdown",
   "id": "3de07205",
   "metadata": {},
   "source": [
    "### NAIVE BAYES ALGORITHM - PART 2"
   ]
  },
  {
   "cell_type": "code",
   "execution_count": null,
   "id": "20268dc5",
   "metadata": {},
   "outputs": [],
   "source": [
    "# bayes theoram to machien learning model"
   ]
  },
  {
   "cell_type": "code",
   "execution_count": 3,
   "id": "c10ef39e",
   "metadata": {},
   "outputs": [],
   "source": [
    "# we assume that teh x features are mutually independant\n",
    "# when we extract features from a sentence which means words for a sentence\n",
    "# all teh words are not mutually independent\n",
    "# therefore it is a naive assumption that all words are mutualy independant"
   ]
  },
  {
   "cell_type": "code",
   "execution_count": 4,
   "id": "759ea272",
   "metadata": {},
   "outputs": [],
   "source": [
    "# many variations of Naive Bayes:\n",
    "#     multinomial\n",
    "#     gausian\n",
    "#     complement\n",
    "#     bernoulli\n",
    "#     categorical"
   ]
  },
  {
   "cell_type": "code",
   "execution_count": 5,
   "id": "7ef141cc",
   "metadata": {},
   "outputs": [],
   "source": [
    "# for NLP we will use multinoial naive bayes"
   ]
  },
  {
   "cell_type": "code",
   "execution_count": 6,
   "id": "1ca33686",
   "metadata": {},
   "outputs": [],
   "source": [
    "# CountVectorizer means breaking down a sentence or any text into words by performing preprocessing tasks like converting all words to lowercase, thus removing special characters"
   ]
  },
  {
   "cell_type": "markdown",
   "id": "46d2dde1",
   "metadata": {},
   "source": [
    "### EXTRACTING FEATURE"
   ]
  },
  {
   "cell_type": "markdown",
   "id": "da11f3cc",
   "metadata": {},
   "source": [
    "##### THEORY AND INTUITION"
   ]
  },
  {
   "cell_type": "code",
   "execution_count": 7,
   "id": "37d4bc52",
   "metadata": {},
   "outputs": [],
   "source": [
    "# feature extraction from raw string text\n",
    "# from string to numbers"
   ]
  },
  {
   "cell_type": "code",
   "execution_count": 1,
   "id": "14fc5226",
   "metadata": {},
   "outputs": [],
   "source": [
    "# main methods of feature extraction:\n",
    "# 1. count vectorization\n",
    "# 2. term frequency\n",
    "\n",
    "# count vectorization \n",
    "# counts every word in the document\n",
    "# stored in sparse matrix  to save space\n",
    "\n",
    "# DTM document term matrix\n",
    "\n",
    "# issues to consider:\n",
    "#     very common words\n",
    "#     words common to a particular set of documents (run in sports)\n",
    "#     stop words (a, the etc.)\n",
    "\n",
    "# we can address the issue of the document frequency by using a TF-IDF vectorization process\n",
    "# instead of filling the DTM with word frequency counts it calculates term frequency-inverse document frequency value for each word(TF-IDF)\n",
    "\n",
    "# term freq tf(t,d)\n",
    "# number of times that term t occurs in a document d\n",
    "\n",
    "# inverse doc freq factor is incorporated which diminishes the weight of terms that occur very frequently in the document set and increases the weight of terms that occur rarely\n",
    "# the idf is how common or rare a word is in the enire doc set\n",
    "# the closer it is to zero the more common a word is\n",
    "# calculated by taking the total number of doc, dividing it by the number of doc that contain a word and calculating the log\n",
    "# TF-IDF = term freq * (1/doc freq)\n",
    "\n",
    "# scikit learn have three ways of doing NLP by using API\n",
    "# count vectorization\n",
    "# TF-IDF transformer\n",
    "# TF-IDF vectorization"
   ]
  },
  {
   "cell_type": "markdown",
   "id": "3f4a48e1",
   "metadata": {},
   "source": [
    "##### CODING COUNT VECTORIZATION MANUALLY"
   ]
  },
  {
   "cell_type": "code",
   "execution_count": 16,
   "id": "b035acaf",
   "metadata": {},
   "outputs": [],
   "source": [
    "with open('one.txt') as mytext:\n",
    "    words_one = mytext.read().lower().split()\n",
    "    uni_words_one = set(words_one)"
   ]
  },
  {
   "cell_type": "code",
   "execution_count": 18,
   "id": "12aa6e66",
   "metadata": {},
   "outputs": [],
   "source": [
    "with open('two.txt') as mytext:\n",
    "    words_two = mytext.read().lower().split()\n",
    "    uni_words_two = set(words_two)"
   ]
  },
  {
   "cell_type": "code",
   "execution_count": 21,
   "id": "252faa5e",
   "metadata": {},
   "outputs": [],
   "source": [
    "all_uni_words = set()\n",
    "all_uni_words.update(uni_words_one)\n",
    "all_uni_words.update(uni_words_two)"
   ]
  },
  {
   "cell_type": "code",
   "execution_count": 22,
   "id": "d15116c4",
   "metadata": {},
   "outputs": [
    {
     "data": {
      "text/plain": [
       "{'a',\n",
       " 'about',\n",
       " 'animals',\n",
       " 'are',\n",
       " 'canine',\n",
       " 'catching',\n",
       " 'dogs',\n",
       " 'fun',\n",
       " 'furry',\n",
       " 'is',\n",
       " 'our',\n",
       " 'pets',\n",
       " 'popular',\n",
       " 'sport',\n",
       " 'story',\n",
       " 'surfing',\n",
       " 'this',\n",
       " 'water',\n",
       " 'waves'}"
      ]
     },
     "execution_count": 22,
     "metadata": {},
     "output_type": "execute_result"
    }
   ],
   "source": [
    "all_uni_words"
   ]
  },
  {
   "cell_type": "code",
   "execution_count": 24,
   "id": "a42b2985",
   "metadata": {},
   "outputs": [],
   "source": [
    "full_vocab = dict()\n",
    "i=0\n",
    "\n",
    "for word in all_uni_words:\n",
    "    full_vocab[word] = i\n",
    "    i=i+1"
   ]
  },
  {
   "cell_type": "code",
   "execution_count": 25,
   "id": "d87aa19b",
   "metadata": {},
   "outputs": [
    {
     "data": {
      "text/plain": [
       "{'water': 0,\n",
       " 'this': 1,\n",
       " 'canine': 2,\n",
       " 'pets': 3,\n",
       " 'story': 4,\n",
       " 'surfing': 5,\n",
       " 'popular': 6,\n",
       " 'catching': 7,\n",
       " 'is': 8,\n",
       " 'about': 9,\n",
       " 'our': 10,\n",
       " 'dogs': 11,\n",
       " 'waves': 12,\n",
       " 'animals': 13,\n",
       " 'are': 14,\n",
       " 'sport': 15,\n",
       " 'fun': 16,\n",
       " 'furry': 17,\n",
       " 'a': 18}"
      ]
     },
     "execution_count": 25,
     "metadata": {},
     "output_type": "execute_result"
    }
   ],
   "source": [
    "full_vocab"
   ]
  },
  {
   "cell_type": "code",
   "execution_count": 36,
   "id": "b04b5de1",
   "metadata": {},
   "outputs": [],
   "source": [
    "one_freq = [0]*len(full_vocab)\n",
    "two_freq = [0]*len(full_vocab)\n",
    "all_words = ['']*len(full_vocab)"
   ]
  },
  {
   "cell_type": "code",
   "execution_count": 37,
   "id": "43336860",
   "metadata": {},
   "outputs": [],
   "source": [
    "with open('One.txt') as f:\n",
    "    one_text = f.read().lower().split()"
   ]
  },
  {
   "cell_type": "code",
   "execution_count": 38,
   "id": "a6ef9868",
   "metadata": {},
   "outputs": [
    {
     "data": {
      "text/plain": [
       "['this',\n",
       " 'is',\n",
       " 'a',\n",
       " 'story',\n",
       " 'about',\n",
       " 'dogs',\n",
       " 'our',\n",
       " 'canine',\n",
       " 'pets',\n",
       " 'dogs',\n",
       " 'are',\n",
       " 'furry',\n",
       " 'animals']"
      ]
     },
     "execution_count": 38,
     "metadata": {},
     "output_type": "execute_result"
    }
   ],
   "source": [
    "one_text"
   ]
  },
  {
   "cell_type": "code",
   "execution_count": 39,
   "id": "b25f309f",
   "metadata": {},
   "outputs": [],
   "source": [
    "for word in one_text:\n",
    "    word_ind = full_vocab[word]\n",
    "    one_freq[word_ind]+=1"
   ]
  },
  {
   "cell_type": "code",
   "execution_count": 40,
   "id": "538770cf",
   "metadata": {},
   "outputs": [
    {
     "data": {
      "text/plain": [
       "[0, 1, 1, 1, 1, 0, 0, 0, 1, 1, 1, 2, 0, 1, 1, 0, 0, 1, 1]"
      ]
     },
     "execution_count": 40,
     "metadata": {},
     "output_type": "execute_result"
    }
   ],
   "source": [
    "one_freq"
   ]
  },
  {
   "cell_type": "code",
   "execution_count": 41,
   "id": "2c09099b",
   "metadata": {},
   "outputs": [],
   "source": [
    "with open('Two.txt') as f:\n",
    "    two_text = f.read().lower().split()"
   ]
  },
  {
   "cell_type": "code",
   "execution_count": 42,
   "id": "a64c9132",
   "metadata": {},
   "outputs": [],
   "source": [
    "for word in two_text:\n",
    "    word_ind = full_vocab[word]\n",
    "    two_freq[word_ind]+=1"
   ]
  },
  {
   "cell_type": "code",
   "execution_count": 43,
   "id": "fb7fa464",
   "metadata": {},
   "outputs": [
    {
     "data": {
      "text/plain": [
       "[1, 1, 0, 0, 1, 2, 1, 1, 3, 1, 0, 0, 1, 0, 0, 1, 1, 0, 1]"
      ]
     },
     "execution_count": 43,
     "metadata": {},
     "output_type": "execute_result"
    }
   ],
   "source": [
    "two_freq"
   ]
  },
  {
   "cell_type": "code",
   "execution_count": 44,
   "id": "b67f31b3",
   "metadata": {},
   "outputs": [
    {
     "data": {
      "text/plain": [
       "['', '', '', '', '', '', '', '', '', '', '', '', '', '', '', '', '', '', '']"
      ]
     },
     "execution_count": 44,
     "metadata": {},
     "output_type": "execute_result"
    }
   ],
   "source": [
    "all_words"
   ]
  },
  {
   "cell_type": "code",
   "execution_count": 46,
   "id": "12e488d9",
   "metadata": {},
   "outputs": [],
   "source": [
    "for word in full_vocab:\n",
    "    word_ind = full_vocab[word]\n",
    "    all_words[word_ind] = word"
   ]
  },
  {
   "cell_type": "code",
   "execution_count": 47,
   "id": "5c3d8635",
   "metadata": {},
   "outputs": [
    {
     "data": {
      "text/plain": [
       "['water',\n",
       " 'this',\n",
       " 'canine',\n",
       " 'pets',\n",
       " 'story',\n",
       " 'surfing',\n",
       " 'popular',\n",
       " 'catching',\n",
       " 'is',\n",
       " 'about',\n",
       " 'our',\n",
       " 'dogs',\n",
       " 'waves',\n",
       " 'animals',\n",
       " 'are',\n",
       " 'sport',\n",
       " 'fun',\n",
       " 'furry',\n",
       " 'a']"
      ]
     },
     "execution_count": 47,
     "metadata": {},
     "output_type": "execute_result"
    }
   ],
   "source": [
    "all_words"
   ]
  },
  {
   "cell_type": "code",
   "execution_count": 48,
   "id": "c9d9c416",
   "metadata": {},
   "outputs": [],
   "source": [
    "import pandas as pd\n",
    "bow = pd.DataFrame(data=[one_freq,two_freq], columns=all_words)"
   ]
  },
  {
   "cell_type": "code",
   "execution_count": 49,
   "id": "f7c2e9a5",
   "metadata": {},
   "outputs": [
    {
     "data": {
      "text/html": [
       "<div>\n",
       "<style scoped>\n",
       "    .dataframe tbody tr th:only-of-type {\n",
       "        vertical-align: middle;\n",
       "    }\n",
       "\n",
       "    .dataframe tbody tr th {\n",
       "        vertical-align: top;\n",
       "    }\n",
       "\n",
       "    .dataframe thead th {\n",
       "        text-align: right;\n",
       "    }\n",
       "</style>\n",
       "<table border=\"1\" class=\"dataframe\">\n",
       "  <thead>\n",
       "    <tr style=\"text-align: right;\">\n",
       "      <th></th>\n",
       "      <th>water</th>\n",
       "      <th>this</th>\n",
       "      <th>canine</th>\n",
       "      <th>pets</th>\n",
       "      <th>story</th>\n",
       "      <th>surfing</th>\n",
       "      <th>popular</th>\n",
       "      <th>catching</th>\n",
       "      <th>is</th>\n",
       "      <th>about</th>\n",
       "      <th>our</th>\n",
       "      <th>dogs</th>\n",
       "      <th>waves</th>\n",
       "      <th>animals</th>\n",
       "      <th>are</th>\n",
       "      <th>sport</th>\n",
       "      <th>fun</th>\n",
       "      <th>furry</th>\n",
       "      <th>a</th>\n",
       "    </tr>\n",
       "  </thead>\n",
       "  <tbody>\n",
       "    <tr>\n",
       "      <th>0</th>\n",
       "      <td>0</td>\n",
       "      <td>1</td>\n",
       "      <td>1</td>\n",
       "      <td>1</td>\n",
       "      <td>1</td>\n",
       "      <td>0</td>\n",
       "      <td>0</td>\n",
       "      <td>0</td>\n",
       "      <td>1</td>\n",
       "      <td>1</td>\n",
       "      <td>1</td>\n",
       "      <td>2</td>\n",
       "      <td>0</td>\n",
       "      <td>1</td>\n",
       "      <td>1</td>\n",
       "      <td>0</td>\n",
       "      <td>0</td>\n",
       "      <td>1</td>\n",
       "      <td>1</td>\n",
       "    </tr>\n",
       "    <tr>\n",
       "      <th>1</th>\n",
       "      <td>1</td>\n",
       "      <td>1</td>\n",
       "      <td>0</td>\n",
       "      <td>0</td>\n",
       "      <td>1</td>\n",
       "      <td>2</td>\n",
       "      <td>1</td>\n",
       "      <td>1</td>\n",
       "      <td>3</td>\n",
       "      <td>1</td>\n",
       "      <td>0</td>\n",
       "      <td>0</td>\n",
       "      <td>1</td>\n",
       "      <td>0</td>\n",
       "      <td>0</td>\n",
       "      <td>1</td>\n",
       "      <td>1</td>\n",
       "      <td>0</td>\n",
       "      <td>1</td>\n",
       "    </tr>\n",
       "  </tbody>\n",
       "</table>\n",
       "</div>"
      ],
      "text/plain": [
       "   water  this  canine  pets  story  surfing  popular  catching  is  about  \\\n",
       "0      0     1       1     1      1        0        0         0   1      1   \n",
       "1      1     1       0     0      1        2        1         1   3      1   \n",
       "\n",
       "   our  dogs  waves  animals  are  sport  fun  furry  a  \n",
       "0    1     2      0        1    1      0    0      1  1  \n",
       "1    0     0      1        0    0      1    1      0  1  "
      ]
     },
     "execution_count": 49,
     "metadata": {},
     "output_type": "execute_result"
    }
   ],
   "source": [
    "bow"
   ]
  },
  {
   "cell_type": "code",
   "execution_count": null,
   "id": "14cf223a",
   "metadata": {},
   "outputs": [],
   "source": []
  }
 ],
 "metadata": {
  "kernelspec": {
   "display_name": "Python 3 (ipykernel)",
   "language": "python",
   "name": "python3"
  },
  "language_info": {
   "codemirror_mode": {
    "name": "ipython",
    "version": 3
   },
   "file_extension": ".py",
   "mimetype": "text/x-python",
   "name": "python",
   "nbconvert_exporter": "python",
   "pygments_lexer": "ipython3",
   "version": "3.9.12"
  }
 },
 "nbformat": 4,
 "nbformat_minor": 5
}
