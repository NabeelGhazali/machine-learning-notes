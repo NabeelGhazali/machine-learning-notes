{
 "cells": [
  {
   "cell_type": "markdown",
   "id": "78442a82",
   "metadata": {},
   "source": [
    "### THEORY AND INTUITION"
   ]
  },
  {
   "cell_type": "code",
   "execution_count": null,
   "id": "38618b43",
   "metadata": {},
   "outputs": [],
   "source": [
    "# dimensionality reduction algo suc as PCA do not simply choose a subset of the existing features\n",
    "# they create new dimensional coponents that are combinations of proportions of teh existing features\n",
    "\n",
    "# PCA outcomes:\n",
    "#     reduce number of dimensions\n",
    "#     show which features explain the most variance in the data\n",
    "\n",
    "# diemnsion reduction\n",
    "# helps visualization and understand complex data sets\n",
    "# can also act as a simpler data set for training data for machine learning\n",
    "# reduce dimensions then train ML algo on samller data set\n",
    "\n",
    "# variance in unsupervised explained\n",
    "# measure the proportion to which each feature accounts for dispersion in the data set\n",
    "# principal component is a linear combination of the original features\n",
    "# the more variance the original feature accounts for, the more the influence it has ove the principal components\n",
    "# the single principal component can explain some percentage of the original data for example 90%of the variance explained by teh principall component\n",
    "# 100% of variance in the data is explained by the original features"
   ]
  },
  {
   "cell_type": "code",
   "execution_count": 1,
   "id": "26bc99ab",
   "metadata": {},
   "outputs": [],
   "source": [
    "#  linear transformation of the data\n",
    "# the direction may change of the original point and the point which is transformed\n",
    "# there is a special case of the vector where even after stretching due to the transforation the direction does not change, this is called eigenvector\n",
    "\n",
    "# <PCA steps>\n",
    "# get original data\n",
    "# calculate covariance matix\n",
    "# calculate eigenvectors\n",
    "# sort eigen vectors by eigen values\n",
    "# choose N largest eigen values\n",
    "# project original data onto eigenvectors"
   ]
  },
  {
   "cell_type": "markdown",
   "id": "ded16c7e",
   "metadata": {},
   "source": [
    "### MANUAL IMPLEMENTATION OF PCA"
   ]
  },
  {
   "cell_type": "code",
   "execution_count": 2,
   "id": "821adfc8",
   "metadata": {},
   "outputs": [],
   "source": [
    "import numpy as np\n",
    "import pandas as pd\n",
    "import matplotlib.pyplot as plt\n",
    "import seaborn as sns"
   ]
  },
  {
   "cell_type": "code",
   "execution_count": null,
   "id": "1c17e007",
   "metadata": {},
   "outputs": [],
   "source": [
    "df = pd.read_csv('')"
   ]
  }
 ],
 "metadata": {
  "kernelspec": {
   "display_name": "Python 3 (ipykernel)",
   "language": "python",
   "name": "python3"
  },
  "language_info": {
   "codemirror_mode": {
    "name": "ipython",
    "version": 3
   },
   "file_extension": ".py",
   "mimetype": "text/x-python",
   "name": "python",
   "nbconvert_exporter": "python",
   "pygments_lexer": "ipython3",
   "version": "3.9.12"
  }
 },
 "nbformat": 4,
 "nbformat_minor": 5
}
