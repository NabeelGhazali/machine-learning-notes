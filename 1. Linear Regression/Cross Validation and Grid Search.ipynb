{
 "cells": [
  {
   "cell_type": "markdown",
   "id": "586b0394",
   "metadata": {},
   "source": [
    "### OVERVIEW"
   ]
  },
  {
   "cell_type": "code",
   "execution_count": 31,
   "id": "83cf2120",
   "metadata": {},
   "outputs": [],
   "source": [
    "# What we will conver in this notebook\n",
    "\n",
    "# Cross validation in detail:\n",
    "# 1. train | test split\n",
    "# 2. train | validation | test split\n",
    "# 3. scikit-learn cross_val_score (function)\n",
    "# 4. scikit_learn cross_validate (function)\n",
    "\n",
    "# Grid Search"
   ]
  },
  {
   "cell_type": "markdown",
   "id": "8658a633",
   "metadata": {},
   "source": [
    "### CROSS VALIDATION"
   ]
  },
  {
   "cell_type": "code",
   "execution_count": 32,
   "id": "45594abe",
   "metadata": {},
   "outputs": [],
   "source": [
    "import numpy as np\n",
    "import pandas as pd\n",
    "import matplotlib.pyplot as plt\n",
    "import seaborn as sns"
   ]
  },
  {
   "cell_type": "code",
   "execution_count": 33,
   "id": "9ea13a90",
   "metadata": {},
   "outputs": [],
   "source": [
    "df = pd.read_csv('Advertising.csv')"
   ]
  },
  {
   "cell_type": "code",
   "execution_count": 34,
   "id": "62e613a7",
   "metadata": {},
   "outputs": [
    {
     "data": {
      "text/html": [
       "<div>\n",
       "<style scoped>\n",
       "    .dataframe tbody tr th:only-of-type {\n",
       "        vertical-align: middle;\n",
       "    }\n",
       "\n",
       "    .dataframe tbody tr th {\n",
       "        vertical-align: top;\n",
       "    }\n",
       "\n",
       "    .dataframe thead th {\n",
       "        text-align: right;\n",
       "    }\n",
       "</style>\n",
       "<table border=\"1\" class=\"dataframe\">\n",
       "  <thead>\n",
       "    <tr style=\"text-align: right;\">\n",
       "      <th></th>\n",
       "      <th>TV</th>\n",
       "      <th>radio</th>\n",
       "      <th>newspaper</th>\n",
       "      <th>sales</th>\n",
       "    </tr>\n",
       "  </thead>\n",
       "  <tbody>\n",
       "    <tr>\n",
       "      <th>0</th>\n",
       "      <td>230.1</td>\n",
       "      <td>37.8</td>\n",
       "      <td>69.2</td>\n",
       "      <td>22.1</td>\n",
       "    </tr>\n",
       "    <tr>\n",
       "      <th>1</th>\n",
       "      <td>44.5</td>\n",
       "      <td>39.3</td>\n",
       "      <td>45.1</td>\n",
       "      <td>10.4</td>\n",
       "    </tr>\n",
       "    <tr>\n",
       "      <th>2</th>\n",
       "      <td>17.2</td>\n",
       "      <td>45.9</td>\n",
       "      <td>69.3</td>\n",
       "      <td>9.3</td>\n",
       "    </tr>\n",
       "    <tr>\n",
       "      <th>3</th>\n",
       "      <td>151.5</td>\n",
       "      <td>41.3</td>\n",
       "      <td>58.5</td>\n",
       "      <td>18.5</td>\n",
       "    </tr>\n",
       "    <tr>\n",
       "      <th>4</th>\n",
       "      <td>180.8</td>\n",
       "      <td>10.8</td>\n",
       "      <td>58.4</td>\n",
       "      <td>12.9</td>\n",
       "    </tr>\n",
       "  </tbody>\n",
       "</table>\n",
       "</div>"
      ],
      "text/plain": [
       "      TV  radio  newspaper  sales\n",
       "0  230.1   37.8       69.2   22.1\n",
       "1   44.5   39.3       45.1   10.4\n",
       "2   17.2   45.9       69.3    9.3\n",
       "3  151.5   41.3       58.5   18.5\n",
       "4  180.8   10.8       58.4   12.9"
      ]
     },
     "execution_count": 34,
     "metadata": {},
     "output_type": "execute_result"
    }
   ],
   "source": [
    "df.head()"
   ]
  },
  {
   "cell_type": "markdown",
   "id": "42a6b554",
   "metadata": {},
   "source": [
    "##### Train | Test Split Procedure"
   ]
  },
  {
   "cell_type": "markdown",
   "id": "d225934c",
   "metadata": {},
   "source": [
    "0. Clean and adjust data as necessary for X and y\n",
    "1. Split Data in Train/Test for both X and y\n",
    "2. Fit/Train Scaler on Training X Data\n",
    "3. Scale X Test Data\n",
    "4. Create Model\n",
    "5. Fit/Train Model on X Train Data\n",
    "6. Evaluate Model on X Test Data (by creating predictions and comparing to Y_test)\n",
    "7. Adjust Parameters as Necessary and repeat steps 5 and 6"
   ]
  },
  {
   "cell_type": "code",
   "execution_count": 35,
   "id": "a80487cd",
   "metadata": {},
   "outputs": [],
   "source": [
    "X = df.drop('sales', axis = 1)"
   ]
  },
  {
   "cell_type": "code",
   "execution_count": 36,
   "id": "ef6530d7",
   "metadata": {},
   "outputs": [],
   "source": [
    "y = df['sales']"
   ]
  },
  {
   "cell_type": "code",
   "execution_count": 37,
   "id": "6c554714",
   "metadata": {},
   "outputs": [],
   "source": [
    "from sklearn.model_selection import train_test_split"
   ]
  },
  {
   "cell_type": "code",
   "execution_count": 38,
   "id": "8a33876e",
   "metadata": {},
   "outputs": [],
   "source": [
    "X_train, X_test, y_train, y_test = train_test_split(X,y,test_size = 0.3, random_state = 101)"
   ]
  },
  {
   "cell_type": "code",
   "execution_count": 39,
   "id": "d2c9c231",
   "metadata": {},
   "outputs": [],
   "source": [
    "# scaling the data\n",
    "from sklearn.preprocessing import StandardScaler"
   ]
  },
  {
   "cell_type": "code",
   "execution_count": 40,
   "id": "5ec3c7d8",
   "metadata": {},
   "outputs": [],
   "source": [
    "scaler = StandardScaler()"
   ]
  },
  {
   "cell_type": "code",
   "execution_count": 41,
   "id": "3f0bd74c",
   "metadata": {},
   "outputs": [
    {
     "data": {
      "text/plain": [
       "StandardScaler()"
      ]
     },
     "execution_count": 41,
     "metadata": {},
     "output_type": "execute_result"
    }
   ],
   "source": [
    "# you always fit to the training data never the test data\n",
    "# we do that to prevent the leakage\n",
    "# because we dont want to knwo anything about the test data\n",
    "scaler.fit(X_train)"
   ]
  },
  {
   "cell_type": "code",
   "execution_count": 42,
   "id": "976cfaf0",
   "metadata": {},
   "outputs": [],
   "source": [
    "X_train = scaler.transform(X_train)"
   ]
  },
  {
   "cell_type": "code",
   "execution_count": 43,
   "id": "debebd38",
   "metadata": {},
   "outputs": [],
   "source": [
    "# we can scale the Xtest but we can not fit to the test data\n",
    "X_test = scaler.transform(X_test)"
   ]
  },
  {
   "cell_type": "code",
   "execution_count": 44,
   "id": "97b06326",
   "metadata": {},
   "outputs": [],
   "source": [
    "# choosing ridge model to adjust the hyper parameters"
   ]
  },
  {
   "cell_type": "code",
   "execution_count": 45,
   "id": "aceccd57",
   "metadata": {},
   "outputs": [],
   "source": [
    "from sklearn.linear_model import Ridge"
   ]
  },
  {
   "cell_type": "code",
   "execution_count": 46,
   "id": "2809ffe7",
   "metadata": {},
   "outputs": [],
   "source": [
    "model = Ridge(alpha = 100)"
   ]
  },
  {
   "cell_type": "code",
   "execution_count": 47,
   "id": "b052e4e3",
   "metadata": {},
   "outputs": [
    {
     "data": {
      "text/plain": [
       "Ridge(alpha=100)"
      ]
     },
     "execution_count": 47,
     "metadata": {},
     "output_type": "execute_result"
    }
   ],
   "source": [
    "model.fit(X_train, y_train)"
   ]
  },
  {
   "cell_type": "code",
   "execution_count": 48,
   "id": "7d358f73",
   "metadata": {},
   "outputs": [],
   "source": [
    "y_pred = model.predict(X_test)"
   ]
  },
  {
   "cell_type": "code",
   "execution_count": 49,
   "id": "ca20f9e1",
   "metadata": {},
   "outputs": [],
   "source": [
    "from sklearn.metrics import mean_squared_error"
   ]
  },
  {
   "cell_type": "code",
   "execution_count": 50,
   "id": "6cb64212",
   "metadata": {},
   "outputs": [
    {
     "data": {
      "text/plain": [
       "7.341775789034129"
      ]
     },
     "execution_count": 50,
     "metadata": {},
     "output_type": "execute_result"
    }
   ],
   "source": [
    "mean_squared_error(y_test, y_pred)"
   ]
  },
  {
   "cell_type": "code",
   "execution_count": 51,
   "id": "be0247a6",
   "metadata": {},
   "outputs": [],
   "source": [
    "model_two = Ridge(alpha=1)"
   ]
  },
  {
   "cell_type": "code",
   "execution_count": 52,
   "id": "8da6b79b",
   "metadata": {},
   "outputs": [
    {
     "data": {
      "text/plain": [
       "Ridge(alpha=1)"
      ]
     },
     "execution_count": 52,
     "metadata": {},
     "output_type": "execute_result"
    }
   ],
   "source": [
    "model_two.fit(X_train, y_train)"
   ]
  },
  {
   "cell_type": "code",
   "execution_count": 53,
   "id": "ca3465c3",
   "metadata": {},
   "outputs": [],
   "source": [
    "y_pred_two = model_two.predict(X_test)"
   ]
  },
  {
   "cell_type": "code",
   "execution_count": 54,
   "id": "4996cfd5",
   "metadata": {},
   "outputs": [
    {
     "data": {
      "text/plain": [
       "2.3190215794287514"
      ]
     },
     "execution_count": 54,
     "metadata": {},
     "output_type": "execute_result"
    }
   ],
   "source": [
    "mean_squared_error(y_test, y_pred_two)"
   ]
  },
  {
   "cell_type": "code",
   "execution_count": 55,
   "id": "cebbcc31",
   "metadata": {},
   "outputs": [],
   "source": [
    "# to go through a lot of alpha parameters to select the optimum one is very tedious\n",
    "# we can apply this through for loop which will be a grid search at a certain point"
   ]
  },
  {
   "cell_type": "code",
   "execution_count": 56,
   "id": "85f8ec1d",
   "metadata": {},
   "outputs": [],
   "source": [
    "# when we adjust the alpha parameter due to the prediction based on the other alpha value\n",
    "# we model has a whiff of the test data and the model now has  little bit of interaction with the test data\n",
    "# to solve this we keep a little bit of the test data hidden"
   ]
  },
  {
   "cell_type": "markdown",
   "id": "ef6c5685",
   "metadata": {},
   "source": [
    "##### Train | Validation | Test"
   ]
  },
  {
   "cell_type": "markdown",
   "id": "c58af8c8",
   "metadata": {},
   "source": [
    "This is often also called a \"hold-out\" set, since you should not adjust parameters based on the final test set, but instead use it *only* for reporting final expected performance.\n",
    "\n",
    "0. Clean and adjust data as necessary for X and y\n",
    "1. Split Data in Train/Validation/Test for both X and y\n",
    "2. Fit/Train Scaler on Training X Data\n",
    "3. Scale X Eval Data\n",
    "4. Create Model\n",
    "5. Fit/Train Model on X Train Data\n",
    "6. Evaluate Model on X Evaluation Data (by creating predictions and comparing to Y_eval)\n",
    "7. Adjust Parameters as Necessary and repeat steps 5 and 6\n",
    "8. Get final metrics on Test set (not allowed to go back and adjust after this!)"
   ]
  },
  {
   "cell_type": "code",
   "execution_count": 57,
   "id": "fc4ac1f1",
   "metadata": {},
   "outputs": [],
   "source": [
    "# if we want a truly fair and final set of performance metrics\n",
    "# we should get these metrics from a fianal test set that we dont allow to ourselves to adjust on"
   ]
  },
  {
   "cell_type": "code",
   "execution_count": 58,
   "id": "7974e56d",
   "metadata": {},
   "outputs": [],
   "source": [
    "# we split the data set into three parts\n",
    "# 1. train\n",
    "# 2. validation\n",
    "# 3. test "
   ]
  },
  {
   "cell_type": "code",
   "execution_count": 59,
   "id": "7c57f090",
   "metadata": {},
   "outputs": [],
   "source": [
    "# we are not allowed to adjust the hyperparameters after the test set"
   ]
  },
  {
   "cell_type": "code",
   "execution_count": null,
   "id": "2c6bfa9e",
   "metadata": {},
   "outputs": [],
   "source": [
    "# This is a HOLD OUT cross validation"
   ]
  },
  {
   "cell_type": "code",
   "execution_count": 61,
   "id": "e786179a",
   "metadata": {},
   "outputs": [],
   "source": [
    "X = df.drop('sales',axis=1)"
   ]
  },
  {
   "cell_type": "code",
   "execution_count": 62,
   "id": "9b460f5a",
   "metadata": {},
   "outputs": [],
   "source": [
    "y = df['sales']"
   ]
  },
  {
   "cell_type": "code",
   "execution_count": 115,
   "id": "048461bd",
   "metadata": {},
   "outputs": [],
   "source": [
    "from sklearn.model_selection import train_test_split"
   ]
  },
  {
   "cell_type": "code",
   "execution_count": 116,
   "id": "86e86c58",
   "metadata": {},
   "outputs": [],
   "source": [
    "X_train, X_other, y_train, y_other = train_test_split(X,y, test_size = 0.3, random_state = 101)"
   ]
  },
  {
   "cell_type": "code",
   "execution_count": 117,
   "id": "b41e51a6",
   "metadata": {},
   "outputs": [],
   "source": [
    "X_eval, X_test, y_eval, y_test = train_test_split(X_other ,y_other, test_size = 0.5, random_state = 101)"
   ]
  },
  {
   "cell_type": "code",
   "execution_count": 118,
   "id": "9c13cdc6",
   "metadata": {},
   "outputs": [
    {
     "data": {
      "text/plain": [
       "200"
      ]
     },
     "execution_count": 118,
     "metadata": {},
     "output_type": "execute_result"
    }
   ],
   "source": [
    "len(df)"
   ]
  },
  {
   "cell_type": "code",
   "execution_count": 119,
   "id": "7901eaa8",
   "metadata": {},
   "outputs": [
    {
     "data": {
      "text/plain": [
       "140"
      ]
     },
     "execution_count": 119,
     "metadata": {},
     "output_type": "execute_result"
    }
   ],
   "source": [
    "len(X_train)"
   ]
  },
  {
   "cell_type": "code",
   "execution_count": 120,
   "id": "6b130d8e",
   "metadata": {},
   "outputs": [
    {
     "data": {
      "text/plain": [
       "30"
      ]
     },
     "execution_count": 120,
     "metadata": {},
     "output_type": "execute_result"
    }
   ],
   "source": [
    "len(X_eval)"
   ]
  },
  {
   "cell_type": "code",
   "execution_count": 121,
   "id": "5f656ba0",
   "metadata": {},
   "outputs": [
    {
     "data": {
      "text/plain": [
       "30"
      ]
     },
     "execution_count": 121,
     "metadata": {},
     "output_type": "execute_result"
    }
   ],
   "source": [
    "len(X_test)"
   ]
  },
  {
   "cell_type": "code",
   "execution_count": 122,
   "id": "73fee491",
   "metadata": {},
   "outputs": [],
   "source": [
    "from sklearn.preprocessing import StandardScaler"
   ]
  },
  {
   "cell_type": "code",
   "execution_count": 123,
   "id": "9483c80f",
   "metadata": {},
   "outputs": [],
   "source": [
    "scaler = StandardScaler()"
   ]
  },
  {
   "cell_type": "code",
   "execution_count": 124,
   "id": "09dce8ef",
   "metadata": {},
   "outputs": [
    {
     "data": {
      "text/plain": [
       "StandardScaler()"
      ]
     },
     "execution_count": 124,
     "metadata": {},
     "output_type": "execute_result"
    }
   ],
   "source": [
    "scaler.fit(X_train)"
   ]
  },
  {
   "cell_type": "code",
   "execution_count": 125,
   "id": "ba832d76",
   "metadata": {},
   "outputs": [],
   "source": [
    "X_train = scaler.transform(X_train)"
   ]
  },
  {
   "cell_type": "code",
   "execution_count": 126,
   "id": "745ac5ba",
   "metadata": {},
   "outputs": [],
   "source": [
    "X_test = scaler.transform(X_test)"
   ]
  },
  {
   "cell_type": "code",
   "execution_count": 127,
   "id": "157ed1e4",
   "metadata": {},
   "outputs": [],
   "source": [
    "X_eval = scaler.transform(X_eval)"
   ]
  },
  {
   "cell_type": "code",
   "execution_count": 128,
   "id": "45ef4212",
   "metadata": {},
   "outputs": [],
   "source": [
    "from sklearn.linear_model import Ridge"
   ]
  },
  {
   "cell_type": "code",
   "execution_count": 129,
   "id": "9d134271",
   "metadata": {},
   "outputs": [],
   "source": [
    "model_one = Ridge(alpha= 100)"
   ]
  },
  {
   "cell_type": "code",
   "execution_count": 130,
   "id": "575cb552",
   "metadata": {},
   "outputs": [
    {
     "data": {
      "text/plain": [
       "Ridge(alpha=100)"
      ]
     },
     "execution_count": 130,
     "metadata": {},
     "output_type": "execute_result"
    }
   ],
   "source": [
    "model_one.fit(X_train, y_train)"
   ]
  },
  {
   "cell_type": "code",
   "execution_count": 134,
   "id": "cad50c0d",
   "metadata": {},
   "outputs": [],
   "source": [
    "y_eval_pred = model_one.predict(X_eval)"
   ]
  },
  {
   "cell_type": "code",
   "execution_count": 135,
   "id": "e083b171",
   "metadata": {},
   "outputs": [],
   "source": [
    "from sklearn.metrics import mean_squared_error"
   ]
  },
  {
   "cell_type": "code",
   "execution_count": 136,
   "id": "a755947f",
   "metadata": {},
   "outputs": [
    {
     "data": {
      "text/plain": [
       "7.320101458823872"
      ]
     },
     "execution_count": 136,
     "metadata": {},
     "output_type": "execute_result"
    }
   ],
   "source": [
    "mean_squared_error(y_eval, y_eval_pred)"
   ]
  },
  {
   "cell_type": "code",
   "execution_count": 137,
   "id": "19195bfb",
   "metadata": {},
   "outputs": [],
   "source": [
    "model_two = Ridge(alpha=1)"
   ]
  },
  {
   "cell_type": "code",
   "execution_count": 138,
   "id": "63cce285",
   "metadata": {},
   "outputs": [
    {
     "data": {
      "text/plain": [
       "Ridge(alpha=1)"
      ]
     },
     "execution_count": 138,
     "metadata": {},
     "output_type": "execute_result"
    }
   ],
   "source": [
    "model_two.fit(X_train, y_train)"
   ]
  },
  {
   "cell_type": "code",
   "execution_count": 140,
   "id": "82ae24ec",
   "metadata": {},
   "outputs": [],
   "source": [
    "y_pred_two = model_two.predict(X_eval)"
   ]
  },
  {
   "cell_type": "code",
   "execution_count": 141,
   "id": "8dc887f4",
   "metadata": {},
   "outputs": [
    {
     "data": {
      "text/plain": [
       "2.3837830750569866"
      ]
     },
     "execution_count": 141,
     "metadata": {},
     "output_type": "execute_result"
    }
   ],
   "source": [
    "mean_squared_error(y_eval, y_pred_two)"
   ]
  },
  {
   "cell_type": "code",
   "execution_count": 142,
   "id": "f87b2bfb",
   "metadata": {},
   "outputs": [],
   "source": [
    "y_final_test_pred = model_two.predict(X_test)"
   ]
  },
  {
   "cell_type": "code",
   "execution_count": 145,
   "id": "e3fb7914",
   "metadata": {},
   "outputs": [
    {
     "data": {
      "text/plain": [
       "2.254260083800517"
      ]
     },
     "execution_count": 145,
     "metadata": {},
     "output_type": "execute_result"
    }
   ],
   "source": [
    "# this is the finalstage\n",
    "# after this we cannot adjust the hyperparameters\n",
    "mean_squared_error(y_test, y_final_test_pred)"
   ]
  },
  {
   "cell_type": "markdown",
   "id": "a1f4f0a2",
   "metadata": {},
   "source": [
    "##### Cross Validation - cross_val_score"
   ]
  },
  {
   "cell_type": "code",
   "execution_count": 146,
   "id": "4960fdcf",
   "metadata": {},
   "outputs": [],
   "source": [
    "# K-fold cross validation"
   ]
  },
  {
   "cell_type": "code",
   "execution_count": 147,
   "id": "6800b386",
   "metadata": {},
   "outputs": [],
   "source": [
    "# we split the data into training and test\n",
    "# the test part is very small and is seperated for the set\n",
    "# the training is then split into K parts\n",
    "# the larger the K means more computation\n",
    "# largest (K = # of rows)\n",
    "# when you split the training uusing k=5\n",
    "# this means 4 parts are training and the 1 left is the validation part\n",
    "# this can be done 5 times\n",
    "# and there will be 5 errors"
   ]
  },
  {
   "cell_type": "markdown",
   "id": "a32f3714",
   "metadata": {},
   "source": [
    "----\n",
    "\n",
    "<img src=\"grid_search_cross_validation.png\">\n",
    "\n",
    "----"
   ]
  },
  {
   "cell_type": "code",
   "execution_count": 148,
   "id": "25c611f1",
   "metadata": {},
   "outputs": [],
   "source": [
    "# k-fold cross validation is easy to do with cross_val_score function"
   ]
  },
  {
   "cell_type": "code",
   "execution_count": 149,
   "id": "ccb1d50e",
   "metadata": {},
   "outputs": [],
   "source": [
    "df = pd.read_csv('Advertising.csv')"
   ]
  },
  {
   "cell_type": "code",
   "execution_count": 150,
   "id": "cdda14d1",
   "metadata": {},
   "outputs": [],
   "source": [
    "X = df.drop('sales', axis = 1)"
   ]
  },
  {
   "cell_type": "code",
   "execution_count": 151,
   "id": "6b67e862",
   "metadata": {},
   "outputs": [],
   "source": [
    "y = df['sales']"
   ]
  },
  {
   "cell_type": "code",
   "execution_count": 152,
   "id": "14ccb439",
   "metadata": {},
   "outputs": [],
   "source": [
    "from sklearn.model_selection import train_test_split"
   ]
  },
  {
   "cell_type": "code",
   "execution_count": 173,
   "id": "ab6fd3e0",
   "metadata": {},
   "outputs": [],
   "source": [
    "X_train, X_test, y_train, y_test = train_test_split(X, y, test_size=0.3, random_state=101)"
   ]
  },
  {
   "cell_type": "code",
   "execution_count": 174,
   "id": "0fa558a1",
   "metadata": {},
   "outputs": [],
   "source": [
    "from sklearn.preprocessing import StandardScaler"
   ]
  },
  {
   "cell_type": "code",
   "execution_count": 175,
   "id": "6d444e4a",
   "metadata": {},
   "outputs": [
    {
     "data": {
      "text/plain": [
       "StandardScaler()"
      ]
     },
     "execution_count": 175,
     "metadata": {},
     "output_type": "execute_result"
    }
   ],
   "source": [
    "scaler.fit(X_train)"
   ]
  },
  {
   "cell_type": "code",
   "execution_count": 176,
   "id": "4664f3b5",
   "metadata": {},
   "outputs": [],
   "source": [
    "X_train = scaler.transform(X_train)"
   ]
  },
  {
   "cell_type": "code",
   "execution_count": 177,
   "id": "84083591",
   "metadata": {},
   "outputs": [],
   "source": [
    "X_test = scaler.transform(X_test)"
   ]
  },
  {
   "cell_type": "code",
   "execution_count": 185,
   "id": "8977181c",
   "metadata": {},
   "outputs": [],
   "source": [
    "model = Ridge(alpha=100)"
   ]
  },
  {
   "cell_type": "code",
   "execution_count": 179,
   "id": "ce505c6a",
   "metadata": {},
   "outputs": [],
   "source": [
    "from sklearn.model_selection import cross_val_score"
   ]
  },
  {
   "cell_type": "code",
   "execution_count": 180,
   "id": "c5382a3b",
   "metadata": {},
   "outputs": [],
   "source": [
    "scores = cross_val_score(model, X_train, y_train, scoring='neg_mean_squared_error', cv = 5)\n",
    "# cv is K-fold value"
   ]
  },
  {
   "cell_type": "code",
   "execution_count": 181,
   "id": "66ad32a0",
   "metadata": {},
   "outputs": [
    {
     "data": {
      "text/plain": [
       "array([ -9.32552967,  -4.9449624 , -11.39665242,  -7.0242106 ,\n",
       "        -8.38562723])"
      ]
     },
     "execution_count": 181,
     "metadata": {},
     "output_type": "execute_result"
    }
   ],
   "source": [
    "scores"
   ]
  },
  {
   "cell_type": "code",
   "execution_count": 182,
   "id": "c2ff6278",
   "metadata": {},
   "outputs": [
    {
     "data": {
      "text/plain": [
       "8.215396464543607"
      ]
     },
     "execution_count": 182,
     "metadata": {},
     "output_type": "execute_result"
    }
   ],
   "source": [
    "abs(scores.mean())"
   ]
  },
  {
   "cell_type": "code",
   "execution_count": null,
   "id": "d030dc14",
   "metadata": {},
   "outputs": [],
   "source": [
    "# another model"
   ]
  },
  {
   "cell_type": "code",
   "execution_count": 196,
   "id": "5d9b9df6",
   "metadata": {},
   "outputs": [],
   "source": [
    "model_two = Ridge(alpha=1)"
   ]
  },
  {
   "cell_type": "code",
   "execution_count": 197,
   "id": "40688d54",
   "metadata": {},
   "outputs": [],
   "source": [
    "scores = cross_val_score(model_two, X_train, y_train, scoring='neg_mean_squared_error', cv = 5)\n",
    "# cv is K-fold value"
   ]
  },
  {
   "cell_type": "code",
   "execution_count": 198,
   "id": "92d86828",
   "metadata": {},
   "outputs": [
    {
     "data": {
      "text/plain": [
       "array([-3.15513238, -1.58086982, -5.40455562, -2.21654481, -4.36709384])"
      ]
     },
     "execution_count": 198,
     "metadata": {},
     "output_type": "execute_result"
    }
   ],
   "source": [
    "scores"
   ]
  },
  {
   "cell_type": "code",
   "execution_count": 199,
   "id": "ea1cf7eb",
   "metadata": {},
   "outputs": [
    {
     "data": {
      "text/plain": [
       "3.344839296530695"
      ]
     },
     "execution_count": 199,
     "metadata": {},
     "output_type": "execute_result"
    }
   ],
   "source": [
    "abs(scores.mean())"
   ]
  },
  {
   "cell_type": "code",
   "execution_count": 203,
   "id": "ce87de71",
   "metadata": {},
   "outputs": [
    {
     "data": {
      "text/plain": [
       "Ridge(alpha=1)"
      ]
     },
     "execution_count": 203,
     "metadata": {},
     "output_type": "execute_result"
    }
   ],
   "source": [
    "# we have to fit the model on the training data once again before predicting\n",
    "model_two.fit(X_train, y_train)"
   ]
  },
  {
   "cell_type": "code",
   "execution_count": 201,
   "id": "4b24f202",
   "metadata": {},
   "outputs": [],
   "source": [
    "y_final_test_pred = model.predict(X_test)"
   ]
  },
  {
   "cell_type": "code",
   "execution_count": 202,
   "id": "792cd8aa",
   "metadata": {},
   "outputs": [
    {
     "data": {
      "text/plain": [
       "7.341775789034129"
      ]
     },
     "execution_count": 202,
     "metadata": {},
     "output_type": "execute_result"
    }
   ],
   "source": [
    "mean_squared_error(y_test, y_final_test_pred)"
   ]
  },
  {
   "cell_type": "markdown",
   "id": "05ac01ac",
   "metadata": {},
   "source": [
    "##### Cross Validate - cross_validate"
   ]
  },
  {
   "cell_type": "code",
   "execution_count": 227,
   "id": "d80ea428",
   "metadata": {},
   "outputs": [],
   "source": [
    "# the cross_validate function allows us to view multiple performance metrics from cross validation on a me=odel and explore how much time fitting and testing took"
   ]
  },
  {
   "cell_type": "code",
   "execution_count": 205,
   "id": "ae12ef1e",
   "metadata": {},
   "outputs": [],
   "source": [
    "## CREATE X and y\n",
    "X = df.drop('sales',axis=1)\n",
    "y = df['sales']\n",
    "\n",
    "# TRAIN TEST SPLIT\n",
    "from sklearn.model_selection import train_test_split\n",
    "X_train, X_test, y_train, y_test = train_test_split(X, y, test_size=0.3, random_state=101)\n",
    "\n",
    "# SCALE DATA\n",
    "from sklearn.preprocessing import StandardScaler\n",
    "scaler = StandardScaler()\n",
    "scaler.fit(X_train)\n",
    "X_train = scaler.transform(X_train)\n",
    "X_test = scaler.transform(X_test)"
   ]
  },
  {
   "cell_type": "code",
   "execution_count": 206,
   "id": "f84caed4",
   "metadata": {},
   "outputs": [],
   "source": [
    "from sklearn.model_selection import cross_validate"
   ]
  },
  {
   "cell_type": "code",
   "execution_count": 207,
   "id": "6ff6a195",
   "metadata": {},
   "outputs": [],
   "source": [
    "model = Ridge(alpha=100)"
   ]
  },
  {
   "cell_type": "code",
   "execution_count": 209,
   "id": "0923a7ad",
   "metadata": {},
   "outputs": [],
   "source": [
    "# SCORING OPTIONS:\n",
    "# https://scikit-learn.org/stable/modules/model_evaluation.html\n",
    "scores = cross_validate(model,X_train,y_train,\n",
    "                         scoring=['neg_mean_absolute_error','neg_mean_squared_error','max_error'],cv=10)"
   ]
  },
  {
   "cell_type": "code",
   "execution_count": 212,
   "id": "f4689f10",
   "metadata": {},
   "outputs": [],
   "source": [
    "scores = pd.DataFrame(scores)"
   ]
  },
  {
   "cell_type": "code",
   "execution_count": 213,
   "id": "8a4eebe2",
   "metadata": {},
   "outputs": [
    {
     "data": {
      "text/html": [
       "<div>\n",
       "<style scoped>\n",
       "    .dataframe tbody tr th:only-of-type {\n",
       "        vertical-align: middle;\n",
       "    }\n",
       "\n",
       "    .dataframe tbody tr th {\n",
       "        vertical-align: top;\n",
       "    }\n",
       "\n",
       "    .dataframe thead th {\n",
       "        text-align: right;\n",
       "    }\n",
       "</style>\n",
       "<table border=\"1\" class=\"dataframe\">\n",
       "  <thead>\n",
       "    <tr style=\"text-align: right;\">\n",
       "      <th></th>\n",
       "      <th>fit_time</th>\n",
       "      <th>score_time</th>\n",
       "      <th>test_neg_mean_absolute_error</th>\n",
       "      <th>test_neg_mean_squared_error</th>\n",
       "      <th>test_max_error</th>\n",
       "    </tr>\n",
       "  </thead>\n",
       "  <tbody>\n",
       "    <tr>\n",
       "      <th>0</th>\n",
       "      <td>0.001995</td>\n",
       "      <td>0.001994</td>\n",
       "      <td>-1.810212</td>\n",
       "      <td>-6.060671</td>\n",
       "      <td>-5.893055</td>\n",
       "    </tr>\n",
       "    <tr>\n",
       "      <th>1</th>\n",
       "      <td>0.001999</td>\n",
       "      <td>0.000992</td>\n",
       "      <td>-2.541958</td>\n",
       "      <td>-10.627031</td>\n",
       "      <td>-6.065249</td>\n",
       "    </tr>\n",
       "    <tr>\n",
       "      <th>2</th>\n",
       "      <td>0.000998</td>\n",
       "      <td>0.000994</td>\n",
       "      <td>-1.469594</td>\n",
       "      <td>-3.993426</td>\n",
       "      <td>-5.264242</td>\n",
       "    </tr>\n",
       "    <tr>\n",
       "      <th>3</th>\n",
       "      <td>0.001995</td>\n",
       "      <td>0.002995</td>\n",
       "      <td>-1.862769</td>\n",
       "      <td>-5.009494</td>\n",
       "      <td>-4.298812</td>\n",
       "    </tr>\n",
       "    <tr>\n",
       "      <th>4</th>\n",
       "      <td>0.001992</td>\n",
       "      <td>0.001998</td>\n",
       "      <td>-2.520697</td>\n",
       "      <td>-9.141800</td>\n",
       "      <td>-5.615860</td>\n",
       "    </tr>\n",
       "    <tr>\n",
       "      <th>5</th>\n",
       "      <td>0.001992</td>\n",
       "      <td>0.001998</td>\n",
       "      <td>-2.459995</td>\n",
       "      <td>-13.086256</td>\n",
       "      <td>-10.602074</td>\n",
       "    </tr>\n",
       "    <tr>\n",
       "      <th>6</th>\n",
       "      <td>0.001021</td>\n",
       "      <td>0.000977</td>\n",
       "      <td>-1.451971</td>\n",
       "      <td>-3.839405</td>\n",
       "      <td>-4.736134</td>\n",
       "    </tr>\n",
       "    <tr>\n",
       "      <th>7</th>\n",
       "      <td>0.000992</td>\n",
       "      <td>0.001992</td>\n",
       "      <td>-2.377395</td>\n",
       "      <td>-9.058786</td>\n",
       "      <td>-6.520936</td>\n",
       "    </tr>\n",
       "    <tr>\n",
       "      <th>8</th>\n",
       "      <td>0.001995</td>\n",
       "      <td>0.000997</td>\n",
       "      <td>-2.443344</td>\n",
       "      <td>-9.055457</td>\n",
       "      <td>-7.370495</td>\n",
       "    </tr>\n",
       "    <tr>\n",
       "      <th>9</th>\n",
       "      <td>0.000997</td>\n",
       "      <td>0.000997</td>\n",
       "      <td>-1.899797</td>\n",
       "      <td>-5.778882</td>\n",
       "      <td>-5.419462</td>\n",
       "    </tr>\n",
       "  </tbody>\n",
       "</table>\n",
       "</div>"
      ],
      "text/plain": [
       "   fit_time  score_time  test_neg_mean_absolute_error  \\\n",
       "0  0.001995    0.001994                     -1.810212   \n",
       "1  0.001999    0.000992                     -2.541958   \n",
       "2  0.000998    0.000994                     -1.469594   \n",
       "3  0.001995    0.002995                     -1.862769   \n",
       "4  0.001992    0.001998                     -2.520697   \n",
       "5  0.001992    0.001998                     -2.459995   \n",
       "6  0.001021    0.000977                     -1.451971   \n",
       "7  0.000992    0.001992                     -2.377395   \n",
       "8  0.001995    0.000997                     -2.443344   \n",
       "9  0.000997    0.000997                     -1.899797   \n",
       "\n",
       "   test_neg_mean_squared_error  test_max_error  \n",
       "0                    -6.060671       -5.893055  \n",
       "1                   -10.627031       -6.065249  \n",
       "2                    -3.993426       -5.264242  \n",
       "3                    -5.009494       -4.298812  \n",
       "4                    -9.141800       -5.615860  \n",
       "5                   -13.086256      -10.602074  \n",
       "6                    -3.839405       -4.736134  \n",
       "7                    -9.058786       -6.520936  \n",
       "8                    -9.055457       -7.370495  \n",
       "9                    -5.778882       -5.419462  "
      ]
     },
     "execution_count": 213,
     "metadata": {},
     "output_type": "execute_result"
    }
   ],
   "source": [
    "scores"
   ]
  },
  {
   "cell_type": "code",
   "execution_count": 215,
   "id": "b7e4f2d7",
   "metadata": {},
   "outputs": [
    {
     "data": {
      "text/plain": [
       "fit_time                        0.001598\n",
       "score_time                      0.001593\n",
       "test_neg_mean_absolute_error   -2.083773\n",
       "test_neg_mean_squared_error    -7.565121\n",
       "test_max_error                 -6.178632\n",
       "dtype: float64"
      ]
     },
     "execution_count": 215,
     "metadata": {},
     "output_type": "execute_result"
    }
   ],
   "source": [
    "scores.mean()"
   ]
  },
  {
   "cell_type": "code",
   "execution_count": 216,
   "id": "177b2cd2",
   "metadata": {},
   "outputs": [],
   "source": [
    "model = Ridge(alpha=1)"
   ]
  },
  {
   "cell_type": "code",
   "execution_count": 217,
   "id": "98f83511",
   "metadata": {},
   "outputs": [],
   "source": [
    "scores = cross_validate(model,X_train,y_train,\n",
    "                         scoring=['neg_mean_absolute_error','neg_mean_squared_error','max_error'],cv=10)"
   ]
  },
  {
   "cell_type": "code",
   "execution_count": 218,
   "id": "a4c7436f",
   "metadata": {},
   "outputs": [],
   "source": [
    "scores = pd.DataFrame(scores)"
   ]
  },
  {
   "cell_type": "code",
   "execution_count": 221,
   "id": "1a10066e",
   "metadata": {},
   "outputs": [
    {
     "data": {
      "text/plain": [
       "fit_time                        0.001696\n",
       "score_time                      0.001295\n",
       "test_neg_mean_absolute_error   -1.308467\n",
       "test_neg_mean_squared_error    -3.323018\n",
       "test_max_error                 -4.127257\n",
       "dtype: float64"
      ]
     },
     "execution_count": 221,
     "metadata": {},
     "output_type": "execute_result"
    }
   ],
   "source": [
    "scores.mean()"
   ]
  },
  {
   "cell_type": "code",
   "execution_count": 222,
   "id": "2f7e151f",
   "metadata": {},
   "outputs": [
    {
     "data": {
      "text/plain": [
       "Ridge(alpha=1)"
      ]
     },
     "execution_count": 222,
     "metadata": {},
     "output_type": "execute_result"
    }
   ],
   "source": [
    "model.fit(X_train, y_train)"
   ]
  },
  {
   "cell_type": "code",
   "execution_count": 225,
   "id": "0ad1da8f",
   "metadata": {},
   "outputs": [],
   "source": [
    "y_final_pred = model.predict(X_test)"
   ]
  },
  {
   "cell_type": "code",
   "execution_count": 228,
   "id": "578ab903",
   "metadata": {},
   "outputs": [
    {
     "data": {
      "text/plain": [
       "2.3190215794287514"
      ]
     },
     "execution_count": 228,
     "metadata": {},
     "output_type": "execute_result"
    }
   ],
   "source": [
    "mean_squared_error(y_test, y_final_pred)"
   ]
  },
  {
   "cell_type": "markdown",
   "id": "7b2f65b1",
   "metadata": {},
   "source": [
    "### GRID SEARCH"
   ]
  },
  {
   "cell_type": "code",
   "execution_count": 229,
   "id": "992597cc",
   "metadata": {},
   "outputs": [],
   "source": [
    "import numpy as np\n",
    "import pandas as pd\n",
    "import matplotlib.pyplot as plt\n",
    "import seaborn as sns"
   ]
  },
  {
   "cell_type": "code",
   "execution_count": 230,
   "id": "d58160f4",
   "metadata": {},
   "outputs": [],
   "source": [
    "df = pd.read_csv('Advertising.csv')"
   ]
  },
  {
   "cell_type": "code",
   "execution_count": 231,
   "id": "21789626",
   "metadata": {},
   "outputs": [
    {
     "data": {
      "text/html": [
       "<div>\n",
       "<style scoped>\n",
       "    .dataframe tbody tr th:only-of-type {\n",
       "        vertical-align: middle;\n",
       "    }\n",
       "\n",
       "    .dataframe tbody tr th {\n",
       "        vertical-align: top;\n",
       "    }\n",
       "\n",
       "    .dataframe thead th {\n",
       "        text-align: right;\n",
       "    }\n",
       "</style>\n",
       "<table border=\"1\" class=\"dataframe\">\n",
       "  <thead>\n",
       "    <tr style=\"text-align: right;\">\n",
       "      <th></th>\n",
       "      <th>TV</th>\n",
       "      <th>radio</th>\n",
       "      <th>newspaper</th>\n",
       "      <th>sales</th>\n",
       "    </tr>\n",
       "  </thead>\n",
       "  <tbody>\n",
       "    <tr>\n",
       "      <th>0</th>\n",
       "      <td>230.1</td>\n",
       "      <td>37.8</td>\n",
       "      <td>69.2</td>\n",
       "      <td>22.1</td>\n",
       "    </tr>\n",
       "    <tr>\n",
       "      <th>1</th>\n",
       "      <td>44.5</td>\n",
       "      <td>39.3</td>\n",
       "      <td>45.1</td>\n",
       "      <td>10.4</td>\n",
       "    </tr>\n",
       "    <tr>\n",
       "      <th>2</th>\n",
       "      <td>17.2</td>\n",
       "      <td>45.9</td>\n",
       "      <td>69.3</td>\n",
       "      <td>9.3</td>\n",
       "    </tr>\n",
       "    <tr>\n",
       "      <th>3</th>\n",
       "      <td>151.5</td>\n",
       "      <td>41.3</td>\n",
       "      <td>58.5</td>\n",
       "      <td>18.5</td>\n",
       "    </tr>\n",
       "    <tr>\n",
       "      <th>4</th>\n",
       "      <td>180.8</td>\n",
       "      <td>10.8</td>\n",
       "      <td>58.4</td>\n",
       "      <td>12.9</td>\n",
       "    </tr>\n",
       "  </tbody>\n",
       "</table>\n",
       "</div>"
      ],
      "text/plain": [
       "      TV  radio  newspaper  sales\n",
       "0  230.1   37.8       69.2   22.1\n",
       "1   44.5   39.3       45.1   10.4\n",
       "2   17.2   45.9       69.3    9.3\n",
       "3  151.5   41.3       58.5   18.5\n",
       "4  180.8   10.8       58.4   12.9"
      ]
     },
     "execution_count": 231,
     "metadata": {},
     "output_type": "execute_result"
    }
   ],
   "source": [
    "df.head()"
   ]
  },
  {
   "cell_type": "code",
   "execution_count": 232,
   "id": "345f14c8",
   "metadata": {},
   "outputs": [],
   "source": [
    "## CREATE X and y\n",
    "X = df.drop('sales',axis=1)\n",
    "y = df['sales']\n",
    "\n",
    "# TRAIN TEST SPLIT\n",
    "from sklearn.model_selection import train_test_split\n",
    "X_train, X_test, y_train, y_test = train_test_split(X, y, test_size=0.3, random_state=101)\n",
    "\n",
    "# SCALE DATA\n",
    "from sklearn.preprocessing import StandardScaler\n",
    "scaler = StandardScaler()\n",
    "scaler.fit(X_train)\n",
    "X_train = scaler.transform(X_train)\n",
    "X_test = scaler.transform(X_test)"
   ]
  },
  {
   "cell_type": "code",
   "execution_count": 234,
   "id": "c8554c91",
   "metadata": {},
   "outputs": [],
   "source": [
    "from sklearn.linear_model import ElasticNet"
   ]
  },
  {
   "cell_type": "code",
   "execution_count": 235,
   "id": "96a2b5ef",
   "metadata": {},
   "outputs": [],
   "source": [
    "# to use the elastic net we need to have alpha and L1 ration values\n",
    "# to find the optimal value for these param we do not need to apply for loop\n",
    "# the for loop part will be done through grid search"
   ]
  },
  {
   "cell_type": "code",
   "execution_count": 236,
   "id": "f48fb976",
   "metadata": {},
   "outputs": [],
   "source": [
    "base_elastic_net_model = ElasticNet()"
   ]
  },
  {
   "cell_type": "code",
   "execution_count": 237,
   "id": "6d0f7c3d",
   "metadata": {},
   "outputs": [],
   "source": [
    "# this is like a dictionary\n",
    "param_grid = {'alpha':[0.1,1,5,10,50,100], 'l1_ratio':[.1,.5,.7,.95,.99,1]}"
   ]
  },
  {
   "cell_type": "code",
   "execution_count": 238,
   "id": "c038df03",
   "metadata": {},
   "outputs": [],
   "source": [
    "from sklearn.model_selection import GridSearchCV"
   ]
  },
  {
   "cell_type": "code",
   "execution_count": 249,
   "id": "801de9a7",
   "metadata": {},
   "outputs": [],
   "source": [
    "# this is running the grid search and cross vaidation\n",
    "grid_model = GridSearchCV(estimator = base_elastic_net_model,\n",
    "                         param_grid = param_grid,\n",
    "                         scoring = 'neg_mean_squared_error',\n",
    "                         verbose=2, cv=5)"
   ]
  },
  {
   "cell_type": "code",
   "execution_count": 242,
   "id": "ad870896",
   "metadata": {},
   "outputs": [
    {
     "name": "stdout",
     "output_type": "stream",
     "text": [
      "Fitting 5 folds for each of 36 candidates, totalling 180 fits\n",
      "[CV] END ............................alpha=0.1, l1_ratio=0.1; total time=   0.0s\n",
      "[CV] END ............................alpha=0.1, l1_ratio=0.1; total time=   0.0s\n",
      "[CV] END ............................alpha=0.1, l1_ratio=0.1; total time=   0.0s\n",
      "[CV] END ............................alpha=0.1, l1_ratio=0.1; total time=   0.0s\n",
      "[CV] END ............................alpha=0.1, l1_ratio=0.1; total time=   0.0s\n",
      "[CV] END ............................alpha=0.1, l1_ratio=0.5; total time=   0.0s\n",
      "[CV] END ............................alpha=0.1, l1_ratio=0.5; total time=   0.0s\n",
      "[CV] END ............................alpha=0.1, l1_ratio=0.5; total time=   0.0s\n",
      "[CV] END ............................alpha=0.1, l1_ratio=0.5; total time=   0.0s\n",
      "[CV] END ............................alpha=0.1, l1_ratio=0.5; total time=   0.0s\n",
      "[CV] END ............................alpha=0.1, l1_ratio=0.7; total time=   0.0s\n",
      "[CV] END ............................alpha=0.1, l1_ratio=0.7; total time=   0.0s\n",
      "[CV] END ............................alpha=0.1, l1_ratio=0.7; total time=   0.0s\n",
      "[CV] END ............................alpha=0.1, l1_ratio=0.7; total time=   0.0s\n",
      "[CV] END ............................alpha=0.1, l1_ratio=0.7; total time=   0.0s\n",
      "[CV] END ...........................alpha=0.1, l1_ratio=0.95; total time=   0.0s\n",
      "[CV] END ...........................alpha=0.1, l1_ratio=0.95; total time=   0.0s\n",
      "[CV] END ...........................alpha=0.1, l1_ratio=0.95; total time=   0.0s\n",
      "[CV] END ...........................alpha=0.1, l1_ratio=0.95; total time=   0.0s\n",
      "[CV] END ...........................alpha=0.1, l1_ratio=0.95; total time=   0.0s\n",
      "[CV] END ...........................alpha=0.1, l1_ratio=0.99; total time=   0.0s\n",
      "[CV] END ...........................alpha=0.1, l1_ratio=0.99; total time=   0.0s\n",
      "[CV] END ...........................alpha=0.1, l1_ratio=0.99; total time=   0.0s\n",
      "[CV] END ...........................alpha=0.1, l1_ratio=0.99; total time=   0.0s\n",
      "[CV] END ...........................alpha=0.1, l1_ratio=0.99; total time=   0.0s\n",
      "[CV] END ..............................alpha=0.1, l1_ratio=1; total time=   0.0s\n",
      "[CV] END ..............................alpha=0.1, l1_ratio=1; total time=   0.0s\n",
      "[CV] END ..............................alpha=0.1, l1_ratio=1; total time=   0.0s\n",
      "[CV] END ..............................alpha=0.1, l1_ratio=1; total time=   0.0s\n",
      "[CV] END ..............................alpha=0.1, l1_ratio=1; total time=   0.0s\n",
      "[CV] END ..............................alpha=1, l1_ratio=0.1; total time=   0.0s\n",
      "[CV] END ..............................alpha=1, l1_ratio=0.1; total time=   0.0s\n",
      "[CV] END ..............................alpha=1, l1_ratio=0.1; total time=   0.0s\n",
      "[CV] END ..............................alpha=1, l1_ratio=0.1; total time=   0.0s\n",
      "[CV] END ..............................alpha=1, l1_ratio=0.1; total time=   0.0s\n",
      "[CV] END ..............................alpha=1, l1_ratio=0.5; total time=   0.0s\n",
      "[CV] END ..............................alpha=1, l1_ratio=0.5; total time=   0.0s\n",
      "[CV] END ..............................alpha=1, l1_ratio=0.5; total time=   0.0s\n",
      "[CV] END ..............................alpha=1, l1_ratio=0.5; total time=   0.0s\n",
      "[CV] END ..............................alpha=1, l1_ratio=0.5; total time=   0.0s\n",
      "[CV] END ..............................alpha=1, l1_ratio=0.7; total time=   0.0s\n",
      "[CV] END ..............................alpha=1, l1_ratio=0.7; total time=   0.0s\n",
      "[CV] END ..............................alpha=1, l1_ratio=0.7; total time=   0.0s\n",
      "[CV] END ..............................alpha=1, l1_ratio=0.7; total time=   0.0s\n",
      "[CV] END ..............................alpha=1, l1_ratio=0.7; total time=   0.0s\n",
      "[CV] END .............................alpha=1, l1_ratio=0.95; total time=   0.0s\n",
      "[CV] END .............................alpha=1, l1_ratio=0.95; total time=   0.0s\n",
      "[CV] END .............................alpha=1, l1_ratio=0.95; total time=   0.0s\n",
      "[CV] END .............................alpha=1, l1_ratio=0.95; total time=   0.0s\n",
      "[CV] END .............................alpha=1, l1_ratio=0.95; total time=   0.0s\n",
      "[CV] END .............................alpha=1, l1_ratio=0.99; total time=   0.0s\n",
      "[CV] END .............................alpha=1, l1_ratio=0.99; total time=   0.0s\n",
      "[CV] END .............................alpha=1, l1_ratio=0.99; total time=   0.0s\n",
      "[CV] END .............................alpha=1, l1_ratio=0.99; total time=   0.0s\n",
      "[CV] END .............................alpha=1, l1_ratio=0.99; total time=   0.0s\n",
      "[CV] END ................................alpha=1, l1_ratio=1; total time=   0.0s\n",
      "[CV] END ................................alpha=1, l1_ratio=1; total time=   0.0s\n",
      "[CV] END ................................alpha=1, l1_ratio=1; total time=   0.0s\n",
      "[CV] END ................................alpha=1, l1_ratio=1; total time=   0.0s\n",
      "[CV] END ................................alpha=1, l1_ratio=1; total time=   0.0s\n",
      "[CV] END ..............................alpha=5, l1_ratio=0.1; total time=   0.0s\n",
      "[CV] END ..............................alpha=5, l1_ratio=0.1; total time=   0.0s\n",
      "[CV] END ..............................alpha=5, l1_ratio=0.1; total time=   0.0s\n",
      "[CV] END ..............................alpha=5, l1_ratio=0.1; total time=   0.0s\n",
      "[CV] END ..............................alpha=5, l1_ratio=0.1; total time=   0.0s\n",
      "[CV] END ..............................alpha=5, l1_ratio=0.5; total time=   0.0s\n",
      "[CV] END ..............................alpha=5, l1_ratio=0.5; total time=   0.0s\n",
      "[CV] END ..............................alpha=5, l1_ratio=0.5; total time=   0.0s\n",
      "[CV] END ..............................alpha=5, l1_ratio=0.5; total time=   0.0s\n",
      "[CV] END ..............................alpha=5, l1_ratio=0.5; total time=   0.0s\n",
      "[CV] END ..............................alpha=5, l1_ratio=0.7; total time=   0.0s\n",
      "[CV] END ..............................alpha=5, l1_ratio=0.7; total time=   0.0s\n",
      "[CV] END ..............................alpha=5, l1_ratio=0.7; total time=   0.0s\n",
      "[CV] END ..............................alpha=5, l1_ratio=0.7; total time=   0.0s\n",
      "[CV] END ..............................alpha=5, l1_ratio=0.7; total time=   0.0s\n",
      "[CV] END .............................alpha=5, l1_ratio=0.95; total time=   0.0s\n",
      "[CV] END .............................alpha=5, l1_ratio=0.95; total time=   0.0s\n",
      "[CV] END .............................alpha=5, l1_ratio=0.95; total time=   0.0s\n",
      "[CV] END .............................alpha=5, l1_ratio=0.95; total time=   0.0s\n",
      "[CV] END .............................alpha=5, l1_ratio=0.95; total time=   0.0s\n",
      "[CV] END .............................alpha=5, l1_ratio=0.99; total time=   0.0s\n",
      "[CV] END .............................alpha=5, l1_ratio=0.99; total time=   0.0s\n",
      "[CV] END .............................alpha=5, l1_ratio=0.99; total time=   0.0s\n",
      "[CV] END .............................alpha=5, l1_ratio=0.99; total time=   0.0s\n",
      "[CV] END .............................alpha=5, l1_ratio=0.99; total time=   0.0s\n",
      "[CV] END ................................alpha=5, l1_ratio=1; total time=   0.0s\n",
      "[CV] END ................................alpha=5, l1_ratio=1; total time=   0.0s\n",
      "[CV] END ................................alpha=5, l1_ratio=1; total time=   0.0s\n",
      "[CV] END ................................alpha=5, l1_ratio=1; total time=   0.0s\n",
      "[CV] END ................................alpha=5, l1_ratio=1; total time=   0.0s\n",
      "[CV] END .............................alpha=10, l1_ratio=0.1; total time=   0.0s\n",
      "[CV] END .............................alpha=10, l1_ratio=0.1; total time=   0.0s\n",
      "[CV] END .............................alpha=10, l1_ratio=0.1; total time=   0.0s\n",
      "[CV] END .............................alpha=10, l1_ratio=0.1; total time=   0.0s\n",
      "[CV] END .............................alpha=10, l1_ratio=0.1; total time=   0.0s\n",
      "[CV] END .............................alpha=10, l1_ratio=0.5; total time=   0.0s\n",
      "[CV] END .............................alpha=10, l1_ratio=0.5; total time=   0.0s\n",
      "[CV] END .............................alpha=10, l1_ratio=0.5; total time=   0.0s\n",
      "[CV] END .............................alpha=10, l1_ratio=0.5; total time=   0.0s\n",
      "[CV] END .............................alpha=10, l1_ratio=0.5; total time=   0.0s\n",
      "[CV] END .............................alpha=10, l1_ratio=0.7; total time=   0.0s\n",
      "[CV] END .............................alpha=10, l1_ratio=0.7; total time=   0.0s\n",
      "[CV] END .............................alpha=10, l1_ratio=0.7; total time=   0.0s\n",
      "[CV] END .............................alpha=10, l1_ratio=0.7; total time=   0.0s\n",
      "[CV] END .............................alpha=10, l1_ratio=0.7; total time=   0.0s\n",
      "[CV] END ............................alpha=10, l1_ratio=0.95; total time=   0.0s\n",
      "[CV] END ............................alpha=10, l1_ratio=0.95; total time=   0.0s\n",
      "[CV] END ............................alpha=10, l1_ratio=0.95; total time=   0.0s\n",
      "[CV] END ............................alpha=10, l1_ratio=0.95; total time=   0.0s\n",
      "[CV] END ............................alpha=10, l1_ratio=0.95; total time=   0.0s\n",
      "[CV] END ............................alpha=10, l1_ratio=0.99; total time=   0.0s\n",
      "[CV] END ............................alpha=10, l1_ratio=0.99; total time=   0.0s\n",
      "[CV] END ............................alpha=10, l1_ratio=0.99; total time=   0.0s\n",
      "[CV] END ............................alpha=10, l1_ratio=0.99; total time=   0.0s\n",
      "[CV] END ............................alpha=10, l1_ratio=0.99; total time=   0.0s\n",
      "[CV] END ...............................alpha=10, l1_ratio=1; total time=   0.0s\n"
     ]
    },
    {
     "name": "stdout",
     "output_type": "stream",
     "text": [
      "[CV] END ...............................alpha=10, l1_ratio=1; total time=   0.0s\n",
      "[CV] END ...............................alpha=10, l1_ratio=1; total time=   0.0s\n",
      "[CV] END ...............................alpha=10, l1_ratio=1; total time=   0.0s\n",
      "[CV] END ...............................alpha=10, l1_ratio=1; total time=   0.0s\n",
      "[CV] END .............................alpha=50, l1_ratio=0.1; total time=   0.0s\n",
      "[CV] END .............................alpha=50, l1_ratio=0.1; total time=   0.0s\n",
      "[CV] END .............................alpha=50, l1_ratio=0.1; total time=   0.0s\n",
      "[CV] END .............................alpha=50, l1_ratio=0.1; total time=   0.0s\n",
      "[CV] END .............................alpha=50, l1_ratio=0.1; total time=   0.0s\n",
      "[CV] END .............................alpha=50, l1_ratio=0.5; total time=   0.0s\n",
      "[CV] END .............................alpha=50, l1_ratio=0.5; total time=   0.0s\n",
      "[CV] END .............................alpha=50, l1_ratio=0.5; total time=   0.0s\n",
      "[CV] END .............................alpha=50, l1_ratio=0.5; total time=   0.0s\n",
      "[CV] END .............................alpha=50, l1_ratio=0.5; total time=   0.0s\n",
      "[CV] END .............................alpha=50, l1_ratio=0.7; total time=   0.0s\n",
      "[CV] END .............................alpha=50, l1_ratio=0.7; total time=   0.0s\n",
      "[CV] END .............................alpha=50, l1_ratio=0.7; total time=   0.0s\n",
      "[CV] END .............................alpha=50, l1_ratio=0.7; total time=   0.0s\n",
      "[CV] END .............................alpha=50, l1_ratio=0.7; total time=   0.0s\n",
      "[CV] END ............................alpha=50, l1_ratio=0.95; total time=   0.0s\n",
      "[CV] END ............................alpha=50, l1_ratio=0.95; total time=   0.0s\n",
      "[CV] END ............................alpha=50, l1_ratio=0.95; total time=   0.0s\n",
      "[CV] END ............................alpha=50, l1_ratio=0.95; total time=   0.0s\n",
      "[CV] END ............................alpha=50, l1_ratio=0.95; total time=   0.0s\n",
      "[CV] END ............................alpha=50, l1_ratio=0.99; total time=   0.0s\n",
      "[CV] END ............................alpha=50, l1_ratio=0.99; total time=   0.0s\n",
      "[CV] END ............................alpha=50, l1_ratio=0.99; total time=   0.0s\n",
      "[CV] END ............................alpha=50, l1_ratio=0.99; total time=   0.0s\n",
      "[CV] END ............................alpha=50, l1_ratio=0.99; total time=   0.0s\n",
      "[CV] END ...............................alpha=50, l1_ratio=1; total time=   0.0s\n",
      "[CV] END ...............................alpha=50, l1_ratio=1; total time=   0.0s\n",
      "[CV] END ...............................alpha=50, l1_ratio=1; total time=   0.0s\n",
      "[CV] END ...............................alpha=50, l1_ratio=1; total time=   0.0s\n",
      "[CV] END ...............................alpha=50, l1_ratio=1; total time=   0.0s\n",
      "[CV] END ............................alpha=100, l1_ratio=0.1; total time=   0.0s\n",
      "[CV] END ............................alpha=100, l1_ratio=0.1; total time=   0.0s\n",
      "[CV] END ............................alpha=100, l1_ratio=0.1; total time=   0.0s\n",
      "[CV] END ............................alpha=100, l1_ratio=0.1; total time=   0.0s\n",
      "[CV] END ............................alpha=100, l1_ratio=0.1; total time=   0.0s\n",
      "[CV] END ............................alpha=100, l1_ratio=0.5; total time=   0.0s\n",
      "[CV] END ............................alpha=100, l1_ratio=0.5; total time=   0.0s\n",
      "[CV] END ............................alpha=100, l1_ratio=0.5; total time=   0.0s\n",
      "[CV] END ............................alpha=100, l1_ratio=0.5; total time=   0.0s\n",
      "[CV] END ............................alpha=100, l1_ratio=0.5; total time=   0.0s\n",
      "[CV] END ............................alpha=100, l1_ratio=0.7; total time=   0.0s\n",
      "[CV] END ............................alpha=100, l1_ratio=0.7; total time=   0.0s\n",
      "[CV] END ............................alpha=100, l1_ratio=0.7; total time=   0.0s\n",
      "[CV] END ............................alpha=100, l1_ratio=0.7; total time=   0.0s\n",
      "[CV] END ............................alpha=100, l1_ratio=0.7; total time=   0.0s\n",
      "[CV] END ...........................alpha=100, l1_ratio=0.95; total time=   0.0s\n",
      "[CV] END ...........................alpha=100, l1_ratio=0.95; total time=   0.0s\n",
      "[CV] END ...........................alpha=100, l1_ratio=0.95; total time=   0.0s\n",
      "[CV] END ...........................alpha=100, l1_ratio=0.95; total time=   0.0s\n",
      "[CV] END ...........................alpha=100, l1_ratio=0.95; total time=   0.0s\n",
      "[CV] END ...........................alpha=100, l1_ratio=0.99; total time=   0.0s\n",
      "[CV] END ...........................alpha=100, l1_ratio=0.99; total time=   0.0s\n",
      "[CV] END ...........................alpha=100, l1_ratio=0.99; total time=   0.0s\n",
      "[CV] END ...........................alpha=100, l1_ratio=0.99; total time=   0.0s\n",
      "[CV] END ...........................alpha=100, l1_ratio=0.99; total time=   0.0s\n",
      "[CV] END ..............................alpha=100, l1_ratio=1; total time=   0.0s\n",
      "[CV] END ..............................alpha=100, l1_ratio=1; total time=   0.0s\n",
      "[CV] END ..............................alpha=100, l1_ratio=1; total time=   0.0s\n",
      "[CV] END ..............................alpha=100, l1_ratio=1; total time=   0.0s\n",
      "[CV] END ..............................alpha=100, l1_ratio=1; total time=   0.0s\n"
     ]
    },
    {
     "data": {
      "text/plain": [
       "GridSearchCV(cv=5, estimator=ElasticNet(),\n",
       "             param_grid={'alpha': [0.1, 1, 5, 10, 50, 100],\n",
       "                         'l1_ratio': [0.1, 0.5, 0.7, 0.95, 0.99, 1]},\n",
       "             scoring='neg_mean_squared_error', verbose=2)"
      ]
     },
     "execution_count": 242,
     "metadata": {},
     "output_type": "execute_result"
    }
   ],
   "source": [
    "grid_model.fit(X_train, y_train)"
   ]
  },
  {
   "cell_type": "code",
   "execution_count": 243,
   "id": "f9634c3b",
   "metadata": {},
   "outputs": [
    {
     "data": {
      "text/plain": [
       "ElasticNet(alpha=0.1, l1_ratio=1)"
      ]
     },
     "execution_count": 243,
     "metadata": {},
     "output_type": "execute_result"
    }
   ],
   "source": [
    "grid_model.best_estimator_"
   ]
  },
  {
   "cell_type": "code",
   "execution_count": 245,
   "id": "b7e70465",
   "metadata": {},
   "outputs": [
    {
     "data": {
      "text/plain": [
       "{'alpha': 0.1, 'l1_ratio': 1}"
      ]
     },
     "execution_count": 245,
     "metadata": {},
     "output_type": "execute_result"
    }
   ],
   "source": [
    "grid_model.best_params_"
   ]
  },
  {
   "cell_type": "code",
   "execution_count": 246,
   "id": "b8a27ea0",
   "metadata": {},
   "outputs": [
    {
     "data": {
      "text/html": [
       "<div>\n",
       "<style scoped>\n",
       "    .dataframe tbody tr th:only-of-type {\n",
       "        vertical-align: middle;\n",
       "    }\n",
       "\n",
       "    .dataframe tbody tr th {\n",
       "        vertical-align: top;\n",
       "    }\n",
       "\n",
       "    .dataframe thead th {\n",
       "        text-align: right;\n",
       "    }\n",
       "</style>\n",
       "<table border=\"1\" class=\"dataframe\">\n",
       "  <thead>\n",
       "    <tr style=\"text-align: right;\">\n",
       "      <th></th>\n",
       "      <th>mean_fit_time</th>\n",
       "      <th>std_fit_time</th>\n",
       "      <th>mean_score_time</th>\n",
       "      <th>std_score_time</th>\n",
       "      <th>param_alpha</th>\n",
       "      <th>param_l1_ratio</th>\n",
       "      <th>params</th>\n",
       "      <th>split0_test_score</th>\n",
       "      <th>split1_test_score</th>\n",
       "      <th>split2_test_score</th>\n",
       "      <th>split3_test_score</th>\n",
       "      <th>split4_test_score</th>\n",
       "      <th>mean_test_score</th>\n",
       "      <th>std_test_score</th>\n",
       "      <th>rank_test_score</th>\n",
       "    </tr>\n",
       "  </thead>\n",
       "  <tbody>\n",
       "    <tr>\n",
       "      <th>0</th>\n",
       "      <td>0.004916</td>\n",
       "      <td>0.003855</td>\n",
       "      <td>0.000560</td>\n",
       "      <td>0.000462</td>\n",
       "      <td>0.1</td>\n",
       "      <td>0.1</td>\n",
       "      <td>{'alpha': 0.1, 'l1_ratio': 0.1}</td>\n",
       "      <td>-3.453021</td>\n",
       "      <td>-1.405190</td>\n",
       "      <td>-5.789125</td>\n",
       "      <td>-2.187302</td>\n",
       "      <td>-4.645576</td>\n",
       "      <td>-3.496043</td>\n",
       "      <td>1.591601</td>\n",
       "      <td>6</td>\n",
       "    </tr>\n",
       "    <tr>\n",
       "      <th>1</th>\n",
       "      <td>0.002432</td>\n",
       "      <td>0.000831</td>\n",
       "      <td>0.000623</td>\n",
       "      <td>0.000511</td>\n",
       "      <td>0.1</td>\n",
       "      <td>0.5</td>\n",
       "      <td>{'alpha': 0.1, 'l1_ratio': 0.5}</td>\n",
       "      <td>-3.325440</td>\n",
       "      <td>-1.427522</td>\n",
       "      <td>-5.595610</td>\n",
       "      <td>-2.163089</td>\n",
       "      <td>-4.451679</td>\n",
       "      <td>-3.392668</td>\n",
       "      <td>1.506827</td>\n",
       "      <td>5</td>\n",
       "    </tr>\n",
       "    <tr>\n",
       "      <th>2</th>\n",
       "      <td>0.003559</td>\n",
       "      <td>0.000802</td>\n",
       "      <td>0.000506</td>\n",
       "      <td>0.000486</td>\n",
       "      <td>0.1</td>\n",
       "      <td>0.7</td>\n",
       "      <td>{'alpha': 0.1, 'l1_ratio': 0.7}</td>\n",
       "      <td>-3.269880</td>\n",
       "      <td>-1.442432</td>\n",
       "      <td>-5.502437</td>\n",
       "      <td>-2.163950</td>\n",
       "      <td>-4.356738</td>\n",
       "      <td>-3.347088</td>\n",
       "      <td>1.462765</td>\n",
       "      <td>4</td>\n",
       "    </tr>\n",
       "    <tr>\n",
       "      <th>3</th>\n",
       "      <td>0.002192</td>\n",
       "      <td>0.000404</td>\n",
       "      <td>0.000699</td>\n",
       "      <td>0.000397</td>\n",
       "      <td>0.1</td>\n",
       "      <td>0.95</td>\n",
       "      <td>{'alpha': 0.1, 'l1_ratio': 0.95}</td>\n",
       "      <td>-3.213052</td>\n",
       "      <td>-1.472417</td>\n",
       "      <td>-5.396258</td>\n",
       "      <td>-2.177452</td>\n",
       "      <td>-4.241080</td>\n",
       "      <td>-3.300052</td>\n",
       "      <td>1.406248</td>\n",
       "      <td>3</td>\n",
       "    </tr>\n",
       "    <tr>\n",
       "      <th>4</th>\n",
       "      <td>0.002219</td>\n",
       "      <td>0.000806</td>\n",
       "      <td>0.001139</td>\n",
       "      <td>0.001290</td>\n",
       "      <td>0.1</td>\n",
       "      <td>0.99</td>\n",
       "      <td>{'alpha': 0.1, 'l1_ratio': 0.99}</td>\n",
       "      <td>-3.208124</td>\n",
       "      <td>-1.478489</td>\n",
       "      <td>-5.380242</td>\n",
       "      <td>-2.181097</td>\n",
       "      <td>-4.222968</td>\n",
       "      <td>-3.294184</td>\n",
       "      <td>1.396953</td>\n",
       "      <td>2</td>\n",
       "    </tr>\n",
       "    <tr>\n",
       "      <th>5</th>\n",
       "      <td>0.003764</td>\n",
       "      <td>0.001711</td>\n",
       "      <td>0.001271</td>\n",
       "      <td>0.000882</td>\n",
       "      <td>0.1</td>\n",
       "      <td>1</td>\n",
       "      <td>{'alpha': 0.1, 'l1_ratio': 1}</td>\n",
       "      <td>-3.206943</td>\n",
       "      <td>-1.480065</td>\n",
       "      <td>-5.376257</td>\n",
       "      <td>-2.182076</td>\n",
       "      <td>-4.218460</td>\n",
       "      <td>-3.292760</td>\n",
       "      <td>1.394613</td>\n",
       "      <td>1</td>\n",
       "    </tr>\n",
       "    <tr>\n",
       "      <th>6</th>\n",
       "      <td>0.003330</td>\n",
       "      <td>0.000850</td>\n",
       "      <td>0.001057</td>\n",
       "      <td>0.000131</td>\n",
       "      <td>1</td>\n",
       "      <td>0.1</td>\n",
       "      <td>{'alpha': 1, 'l1_ratio': 0.1}</td>\n",
       "      <td>-9.827475</td>\n",
       "      <td>-5.261525</td>\n",
       "      <td>-11.875347</td>\n",
       "      <td>-7.449195</td>\n",
       "      <td>-8.542329</td>\n",
       "      <td>-8.591174</td>\n",
       "      <td>2.222939</td>\n",
       "      <td>12</td>\n",
       "    </tr>\n",
       "    <tr>\n",
       "      <th>7</th>\n",
       "      <td>0.002225</td>\n",
       "      <td>0.000347</td>\n",
       "      <td>0.000957</td>\n",
       "      <td>0.000214</td>\n",
       "      <td>1</td>\n",
       "      <td>0.5</td>\n",
       "      <td>{'alpha': 1, 'l1_ratio': 0.5}</td>\n",
       "      <td>-8.707071</td>\n",
       "      <td>-4.214228</td>\n",
       "      <td>-10.879261</td>\n",
       "      <td>-6.204545</td>\n",
       "      <td>-7.173031</td>\n",
       "      <td>-7.435627</td>\n",
       "      <td>2.255532</td>\n",
       "      <td>11</td>\n",
       "    </tr>\n",
       "    <tr>\n",
       "      <th>8</th>\n",
       "      <td>0.002481</td>\n",
       "      <td>0.000516</td>\n",
       "      <td>0.000391</td>\n",
       "      <td>0.000479</td>\n",
       "      <td>1</td>\n",
       "      <td>0.7</td>\n",
       "      <td>{'alpha': 1, 'l1_ratio': 0.7}</td>\n",
       "      <td>-7.920870</td>\n",
       "      <td>-3.549562</td>\n",
       "      <td>-10.024877</td>\n",
       "      <td>-5.379553</td>\n",
       "      <td>-6.324836</td>\n",
       "      <td>-6.639940</td>\n",
       "      <td>2.206213</td>\n",
       "      <td>10</td>\n",
       "    </tr>\n",
       "    <tr>\n",
       "      <th>9</th>\n",
       "      <td>0.002899</td>\n",
       "      <td>0.000883</td>\n",
       "      <td>0.000717</td>\n",
       "      <td>0.000183</td>\n",
       "      <td>1</td>\n",
       "      <td>0.95</td>\n",
       "      <td>{'alpha': 1, 'l1_ratio': 0.95}</td>\n",
       "      <td>-6.729435</td>\n",
       "      <td>-2.591285</td>\n",
       "      <td>-8.709842</td>\n",
       "      <td>-4.156317</td>\n",
       "      <td>-5.329916</td>\n",
       "      <td>-5.503359</td>\n",
       "      <td>2.102835</td>\n",
       "      <td>9</td>\n",
       "    </tr>\n",
       "    <tr>\n",
       "      <th>10</th>\n",
       "      <td>0.002346</td>\n",
       "      <td>0.000370</td>\n",
       "      <td>0.001135</td>\n",
       "      <td>0.000165</td>\n",
       "      <td>1</td>\n",
       "      <td>0.99</td>\n",
       "      <td>{'alpha': 1, 'l1_ratio': 0.99}</td>\n",
       "      <td>-6.521344</td>\n",
       "      <td>-2.431385</td>\n",
       "      <td>-8.471086</td>\n",
       "      <td>-3.946327</td>\n",
       "      <td>-5.151344</td>\n",
       "      <td>-5.304297</td>\n",
       "      <td>2.079945</td>\n",
       "      <td>8</td>\n",
       "    </tr>\n",
       "    <tr>\n",
       "      <th>11</th>\n",
       "      <td>0.002347</td>\n",
       "      <td>0.000702</td>\n",
       "      <td>0.000935</td>\n",
       "      <td>0.000105</td>\n",
       "      <td>1</td>\n",
       "      <td>1</td>\n",
       "      <td>{'alpha': 1, 'l1_ratio': 1}</td>\n",
       "      <td>-6.468807</td>\n",
       "      <td>-2.391483</td>\n",
       "      <td>-8.410171</td>\n",
       "      <td>-3.893566</td>\n",
       "      <td>-5.105922</td>\n",
       "      <td>-5.253990</td>\n",
       "      <td>2.073832</td>\n",
       "      <td>7</td>\n",
       "    </tr>\n",
       "    <tr>\n",
       "      <th>12</th>\n",
       "      <td>0.002332</td>\n",
       "      <td>0.000384</td>\n",
       "      <td>0.000758</td>\n",
       "      <td>0.000387</td>\n",
       "      <td>5</td>\n",
       "      <td>0.1</td>\n",
       "      <td>{'alpha': 5, 'l1_ratio': 0.1}</td>\n",
       "      <td>-22.979265</td>\n",
       "      <td>-15.547104</td>\n",
       "      <td>-23.668249</td>\n",
       "      <td>-19.921063</td>\n",
       "      <td>-16.262737</td>\n",
       "      <td>-19.675684</td>\n",
       "      <td>3.334901</td>\n",
       "      <td>13</td>\n",
       "    </tr>\n",
       "    <tr>\n",
       "      <th>13</th>\n",
       "      <td>0.002179</td>\n",
       "      <td>0.000407</td>\n",
       "      <td>0.001018</td>\n",
       "      <td>0.000643</td>\n",
       "      <td>5</td>\n",
       "      <td>0.5</td>\n",
       "      <td>{'alpha': 5, 'l1_ratio': 0.5}</td>\n",
       "      <td>-27.793488</td>\n",
       "      <td>-18.602269</td>\n",
       "      <td>-27.107849</td>\n",
       "      <td>-23.945227</td>\n",
       "      <td>-18.064635</td>\n",
       "      <td>-23.102694</td>\n",
       "      <td>4.108297</td>\n",
       "      <td>14</td>\n",
       "    </tr>\n",
       "    <tr>\n",
       "      <th>14</th>\n",
       "      <td>0.001998</td>\n",
       "      <td>0.000057</td>\n",
       "      <td>0.000821</td>\n",
       "      <td>0.000331</td>\n",
       "      <td>5</td>\n",
       "      <td>0.7</td>\n",
       "      <td>{'alpha': 5, 'l1_ratio': 0.7}</td>\n",
       "      <td>-29.655510</td>\n",
       "      <td>-21.085059</td>\n",
       "      <td>-29.629478</td>\n",
       "      <td>-26.724595</td>\n",
       "      <td>-20.223654</td>\n",
       "      <td>-25.463659</td>\n",
       "      <td>4.077877</td>\n",
       "      <td>16</td>\n",
       "    </tr>\n",
       "    <tr>\n",
       "      <th>15</th>\n",
       "      <td>0.002626</td>\n",
       "      <td>0.000451</td>\n",
       "      <td>0.000779</td>\n",
       "      <td>0.000392</td>\n",
       "      <td>5</td>\n",
       "      <td>0.95</td>\n",
       "      <td>{'alpha': 5, 'l1_ratio': 0.95}</td>\n",
       "      <td>-31.130307</td>\n",
       "      <td>-22.549433</td>\n",
       "      <td>-31.155204</td>\n",
       "      <td>-27.963447</td>\n",
       "      <td>-21.698192</td>\n",
       "      <td>-26.899317</td>\n",
       "      <td>4.077240</td>\n",
       "      <td>17</td>\n",
       "    </tr>\n",
       "    <tr>\n",
       "      <th>16</th>\n",
       "      <td>0.003804</td>\n",
       "      <td>0.001490</td>\n",
       "      <td>0.000794</td>\n",
       "      <td>0.000397</td>\n",
       "      <td>5</td>\n",
       "      <td>0.99</td>\n",
       "      <td>{'alpha': 5, 'l1_ratio': 0.99}</td>\n",
       "      <td>-31.130307</td>\n",
       "      <td>-22.549433</td>\n",
       "      <td>-31.155204</td>\n",
       "      <td>-27.963447</td>\n",
       "      <td>-21.698192</td>\n",
       "      <td>-26.899317</td>\n",
       "      <td>4.077240</td>\n",
       "      <td>17</td>\n",
       "    </tr>\n",
       "    <tr>\n",
       "      <th>17</th>\n",
       "      <td>0.002893</td>\n",
       "      <td>0.001178</td>\n",
       "      <td>0.000503</td>\n",
       "      <td>0.000484</td>\n",
       "      <td>5</td>\n",
       "      <td>1</td>\n",
       "      <td>{'alpha': 5, 'l1_ratio': 1}</td>\n",
       "      <td>-31.130307</td>\n",
       "      <td>-22.549433</td>\n",
       "      <td>-31.155204</td>\n",
       "      <td>-27.963447</td>\n",
       "      <td>-21.698192</td>\n",
       "      <td>-26.899317</td>\n",
       "      <td>4.077240</td>\n",
       "      <td>17</td>\n",
       "    </tr>\n",
       "    <tr>\n",
       "      <th>18</th>\n",
       "      <td>0.002749</td>\n",
       "      <td>0.000766</td>\n",
       "      <td>0.000613</td>\n",
       "      <td>0.000501</td>\n",
       "      <td>10</td>\n",
       "      <td>0.1</td>\n",
       "      <td>{'alpha': 10, 'l1_ratio': 0.1}</td>\n",
       "      <td>-27.385346</td>\n",
       "      <td>-19.159534</td>\n",
       "      <td>-27.635464</td>\n",
       "      <td>-24.154104</td>\n",
       "      <td>-18.968161</td>\n",
       "      <td>-23.460522</td>\n",
       "      <td>3.794608</td>\n",
       "      <td>15</td>\n",
       "    </tr>\n",
       "    <tr>\n",
       "      <th>19</th>\n",
       "      <td>0.002124</td>\n",
       "      <td>0.000198</td>\n",
       "      <td>0.000702</td>\n",
       "      <td>0.000398</td>\n",
       "      <td>10</td>\n",
       "      <td>0.5</td>\n",
       "      <td>{'alpha': 10, 'l1_ratio': 0.5}</td>\n",
       "      <td>-31.130307</td>\n",
       "      <td>-22.549433</td>\n",
       "      <td>-31.155204</td>\n",
       "      <td>-27.963447</td>\n",
       "      <td>-21.698192</td>\n",
       "      <td>-26.899317</td>\n",
       "      <td>4.077240</td>\n",
       "      <td>17</td>\n",
       "    </tr>\n",
       "    <tr>\n",
       "      <th>20</th>\n",
       "      <td>0.002487</td>\n",
       "      <td>0.000369</td>\n",
       "      <td>0.000662</td>\n",
       "      <td>0.000595</td>\n",
       "      <td>10</td>\n",
       "      <td>0.7</td>\n",
       "      <td>{'alpha': 10, 'l1_ratio': 0.7}</td>\n",
       "      <td>-31.130307</td>\n",
       "      <td>-22.549433</td>\n",
       "      <td>-31.155204</td>\n",
       "      <td>-27.963447</td>\n",
       "      <td>-21.698192</td>\n",
       "      <td>-26.899317</td>\n",
       "      <td>4.077240</td>\n",
       "      <td>17</td>\n",
       "    </tr>\n",
       "    <tr>\n",
       "      <th>21</th>\n",
       "      <td>0.002080</td>\n",
       "      <td>0.000175</td>\n",
       "      <td>0.000720</td>\n",
       "      <td>0.000377</td>\n",
       "      <td>10</td>\n",
       "      <td>0.95</td>\n",
       "      <td>{'alpha': 10, 'l1_ratio': 0.95}</td>\n",
       "      <td>-31.130307</td>\n",
       "      <td>-22.549433</td>\n",
       "      <td>-31.155204</td>\n",
       "      <td>-27.963447</td>\n",
       "      <td>-21.698192</td>\n",
       "      <td>-26.899317</td>\n",
       "      <td>4.077240</td>\n",
       "      <td>17</td>\n",
       "    </tr>\n",
       "    <tr>\n",
       "      <th>22</th>\n",
       "      <td>0.001932</td>\n",
       "      <td>0.000830</td>\n",
       "      <td>0.001062</td>\n",
       "      <td>0.000104</td>\n",
       "      <td>10</td>\n",
       "      <td>0.99</td>\n",
       "      <td>{'alpha': 10, 'l1_ratio': 0.99}</td>\n",
       "      <td>-31.130307</td>\n",
       "      <td>-22.549433</td>\n",
       "      <td>-31.155204</td>\n",
       "      <td>-27.963447</td>\n",
       "      <td>-21.698192</td>\n",
       "      <td>-26.899317</td>\n",
       "      <td>4.077240</td>\n",
       "      <td>17</td>\n",
       "    </tr>\n",
       "    <tr>\n",
       "      <th>23</th>\n",
       "      <td>0.002368</td>\n",
       "      <td>0.000996</td>\n",
       "      <td>0.000862</td>\n",
       "      <td>0.000854</td>\n",
       "      <td>10</td>\n",
       "      <td>1</td>\n",
       "      <td>{'alpha': 10, 'l1_ratio': 1}</td>\n",
       "      <td>-31.130307</td>\n",
       "      <td>-22.549433</td>\n",
       "      <td>-31.155204</td>\n",
       "      <td>-27.963447</td>\n",
       "      <td>-21.698192</td>\n",
       "      <td>-26.899317</td>\n",
       "      <td>4.077240</td>\n",
       "      <td>17</td>\n",
       "    </tr>\n",
       "    <tr>\n",
       "      <th>24</th>\n",
       "      <td>0.002601</td>\n",
       "      <td>0.000496</td>\n",
       "      <td>0.001023</td>\n",
       "      <td>0.000055</td>\n",
       "      <td>50</td>\n",
       "      <td>0.1</td>\n",
       "      <td>{'alpha': 50, 'l1_ratio': 0.1}</td>\n",
       "      <td>-31.130307</td>\n",
       "      <td>-22.549433</td>\n",
       "      <td>-31.155204</td>\n",
       "      <td>-27.963447</td>\n",
       "      <td>-21.698192</td>\n",
       "      <td>-26.899317</td>\n",
       "      <td>4.077240</td>\n",
       "      <td>17</td>\n",
       "    </tr>\n",
       "    <tr>\n",
       "      <th>25</th>\n",
       "      <td>0.002473</td>\n",
       "      <td>0.000644</td>\n",
       "      <td>0.001145</td>\n",
       "      <td>0.000996</td>\n",
       "      <td>50</td>\n",
       "      <td>0.5</td>\n",
       "      <td>{'alpha': 50, 'l1_ratio': 0.5}</td>\n",
       "      <td>-31.130307</td>\n",
       "      <td>-22.549433</td>\n",
       "      <td>-31.155204</td>\n",
       "      <td>-27.963447</td>\n",
       "      <td>-21.698192</td>\n",
       "      <td>-26.899317</td>\n",
       "      <td>4.077240</td>\n",
       "      <td>17</td>\n",
       "    </tr>\n",
       "    <tr>\n",
       "      <th>26</th>\n",
       "      <td>0.002206</td>\n",
       "      <td>0.000509</td>\n",
       "      <td>0.000764</td>\n",
       "      <td>0.000740</td>\n",
       "      <td>50</td>\n",
       "      <td>0.7</td>\n",
       "      <td>{'alpha': 50, 'l1_ratio': 0.7}</td>\n",
       "      <td>-31.130307</td>\n",
       "      <td>-22.549433</td>\n",
       "      <td>-31.155204</td>\n",
       "      <td>-27.963447</td>\n",
       "      <td>-21.698192</td>\n",
       "      <td>-26.899317</td>\n",
       "      <td>4.077240</td>\n",
       "      <td>17</td>\n",
       "    </tr>\n",
       "    <tr>\n",
       "      <th>27</th>\n",
       "      <td>0.002297</td>\n",
       "      <td>0.000433</td>\n",
       "      <td>0.000634</td>\n",
       "      <td>0.000487</td>\n",
       "      <td>50</td>\n",
       "      <td>0.95</td>\n",
       "      <td>{'alpha': 50, 'l1_ratio': 0.95}</td>\n",
       "      <td>-31.130307</td>\n",
       "      <td>-22.549433</td>\n",
       "      <td>-31.155204</td>\n",
       "      <td>-27.963447</td>\n",
       "      <td>-21.698192</td>\n",
       "      <td>-26.899317</td>\n",
       "      <td>4.077240</td>\n",
       "      <td>17</td>\n",
       "    </tr>\n",
       "    <tr>\n",
       "      <th>28</th>\n",
       "      <td>0.002240</td>\n",
       "      <td>0.000723</td>\n",
       "      <td>0.000763</td>\n",
       "      <td>0.000388</td>\n",
       "      <td>50</td>\n",
       "      <td>0.99</td>\n",
       "      <td>{'alpha': 50, 'l1_ratio': 0.99}</td>\n",
       "      <td>-31.130307</td>\n",
       "      <td>-22.549433</td>\n",
       "      <td>-31.155204</td>\n",
       "      <td>-27.963447</td>\n",
       "      <td>-21.698192</td>\n",
       "      <td>-26.899317</td>\n",
       "      <td>4.077240</td>\n",
       "      <td>17</td>\n",
       "    </tr>\n",
       "    <tr>\n",
       "      <th>29</th>\n",
       "      <td>0.002014</td>\n",
       "      <td>0.000215</td>\n",
       "      <td>0.001095</td>\n",
       "      <td>0.000314</td>\n",
       "      <td>50</td>\n",
       "      <td>1</td>\n",
       "      <td>{'alpha': 50, 'l1_ratio': 1}</td>\n",
       "      <td>-31.130307</td>\n",
       "      <td>-22.549433</td>\n",
       "      <td>-31.155204</td>\n",
       "      <td>-27.963447</td>\n",
       "      <td>-21.698192</td>\n",
       "      <td>-26.899317</td>\n",
       "      <td>4.077240</td>\n",
       "      <td>17</td>\n",
       "    </tr>\n",
       "    <tr>\n",
       "      <th>30</th>\n",
       "      <td>0.002339</td>\n",
       "      <td>0.000358</td>\n",
       "      <td>0.000928</td>\n",
       "      <td>0.000257</td>\n",
       "      <td>100</td>\n",
       "      <td>0.1</td>\n",
       "      <td>{'alpha': 100, 'l1_ratio': 0.1}</td>\n",
       "      <td>-31.130307</td>\n",
       "      <td>-22.549433</td>\n",
       "      <td>-31.155204</td>\n",
       "      <td>-27.963447</td>\n",
       "      <td>-21.698192</td>\n",
       "      <td>-26.899317</td>\n",
       "      <td>4.077240</td>\n",
       "      <td>17</td>\n",
       "    </tr>\n",
       "    <tr>\n",
       "      <th>31</th>\n",
       "      <td>0.002520</td>\n",
       "      <td>0.000571</td>\n",
       "      <td>0.001612</td>\n",
       "      <td>0.001949</td>\n",
       "      <td>100</td>\n",
       "      <td>0.5</td>\n",
       "      <td>{'alpha': 100, 'l1_ratio': 0.5}</td>\n",
       "      <td>-31.130307</td>\n",
       "      <td>-22.549433</td>\n",
       "      <td>-31.155204</td>\n",
       "      <td>-27.963447</td>\n",
       "      <td>-21.698192</td>\n",
       "      <td>-26.899317</td>\n",
       "      <td>4.077240</td>\n",
       "      <td>17</td>\n",
       "    </tr>\n",
       "    <tr>\n",
       "      <th>32</th>\n",
       "      <td>0.002241</td>\n",
       "      <td>0.000748</td>\n",
       "      <td>0.000820</td>\n",
       "      <td>0.000782</td>\n",
       "      <td>100</td>\n",
       "      <td>0.7</td>\n",
       "      <td>{'alpha': 100, 'l1_ratio': 0.7}</td>\n",
       "      <td>-31.130307</td>\n",
       "      <td>-22.549433</td>\n",
       "      <td>-31.155204</td>\n",
       "      <td>-27.963447</td>\n",
       "      <td>-21.698192</td>\n",
       "      <td>-26.899317</td>\n",
       "      <td>4.077240</td>\n",
       "      <td>17</td>\n",
       "    </tr>\n",
       "    <tr>\n",
       "      <th>33</th>\n",
       "      <td>0.002516</td>\n",
       "      <td>0.000924</td>\n",
       "      <td>0.000887</td>\n",
       "      <td>0.000462</td>\n",
       "      <td>100</td>\n",
       "      <td>0.95</td>\n",
       "      <td>{'alpha': 100, 'l1_ratio': 0.95}</td>\n",
       "      <td>-31.130307</td>\n",
       "      <td>-22.549433</td>\n",
       "      <td>-31.155204</td>\n",
       "      <td>-27.963447</td>\n",
       "      <td>-21.698192</td>\n",
       "      <td>-26.899317</td>\n",
       "      <td>4.077240</td>\n",
       "      <td>17</td>\n",
       "    </tr>\n",
       "    <tr>\n",
       "      <th>34</th>\n",
       "      <td>0.002036</td>\n",
       "      <td>0.000553</td>\n",
       "      <td>0.001390</td>\n",
       "      <td>0.000504</td>\n",
       "      <td>100</td>\n",
       "      <td>0.99</td>\n",
       "      <td>{'alpha': 100, 'l1_ratio': 0.99}</td>\n",
       "      <td>-31.130307</td>\n",
       "      <td>-22.549433</td>\n",
       "      <td>-31.155204</td>\n",
       "      <td>-27.963447</td>\n",
       "      <td>-21.698192</td>\n",
       "      <td>-26.899317</td>\n",
       "      <td>4.077240</td>\n",
       "      <td>17</td>\n",
       "    </tr>\n",
       "    <tr>\n",
       "      <th>35</th>\n",
       "      <td>0.002391</td>\n",
       "      <td>0.000491</td>\n",
       "      <td>0.001047</td>\n",
       "      <td>0.000080</td>\n",
       "      <td>100</td>\n",
       "      <td>1</td>\n",
       "      <td>{'alpha': 100, 'l1_ratio': 1}</td>\n",
       "      <td>-31.130307</td>\n",
       "      <td>-22.549433</td>\n",
       "      <td>-31.155204</td>\n",
       "      <td>-27.963447</td>\n",
       "      <td>-21.698192</td>\n",
       "      <td>-26.899317</td>\n",
       "      <td>4.077240</td>\n",
       "      <td>17</td>\n",
       "    </tr>\n",
       "  </tbody>\n",
       "</table>\n",
       "</div>"
      ],
      "text/plain": [
       "    mean_fit_time  std_fit_time  mean_score_time  std_score_time param_alpha  \\\n",
       "0        0.004916      0.003855         0.000560        0.000462         0.1   \n",
       "1        0.002432      0.000831         0.000623        0.000511         0.1   \n",
       "2        0.003559      0.000802         0.000506        0.000486         0.1   \n",
       "3        0.002192      0.000404         0.000699        0.000397         0.1   \n",
       "4        0.002219      0.000806         0.001139        0.001290         0.1   \n",
       "5        0.003764      0.001711         0.001271        0.000882         0.1   \n",
       "6        0.003330      0.000850         0.001057        0.000131           1   \n",
       "7        0.002225      0.000347         0.000957        0.000214           1   \n",
       "8        0.002481      0.000516         0.000391        0.000479           1   \n",
       "9        0.002899      0.000883         0.000717        0.000183           1   \n",
       "10       0.002346      0.000370         0.001135        0.000165           1   \n",
       "11       0.002347      0.000702         0.000935        0.000105           1   \n",
       "12       0.002332      0.000384         0.000758        0.000387           5   \n",
       "13       0.002179      0.000407         0.001018        0.000643           5   \n",
       "14       0.001998      0.000057         0.000821        0.000331           5   \n",
       "15       0.002626      0.000451         0.000779        0.000392           5   \n",
       "16       0.003804      0.001490         0.000794        0.000397           5   \n",
       "17       0.002893      0.001178         0.000503        0.000484           5   \n",
       "18       0.002749      0.000766         0.000613        0.000501          10   \n",
       "19       0.002124      0.000198         0.000702        0.000398          10   \n",
       "20       0.002487      0.000369         0.000662        0.000595          10   \n",
       "21       0.002080      0.000175         0.000720        0.000377          10   \n",
       "22       0.001932      0.000830         0.001062        0.000104          10   \n",
       "23       0.002368      0.000996         0.000862        0.000854          10   \n",
       "24       0.002601      0.000496         0.001023        0.000055          50   \n",
       "25       0.002473      0.000644         0.001145        0.000996          50   \n",
       "26       0.002206      0.000509         0.000764        0.000740          50   \n",
       "27       0.002297      0.000433         0.000634        0.000487          50   \n",
       "28       0.002240      0.000723         0.000763        0.000388          50   \n",
       "29       0.002014      0.000215         0.001095        0.000314          50   \n",
       "30       0.002339      0.000358         0.000928        0.000257         100   \n",
       "31       0.002520      0.000571         0.001612        0.001949         100   \n",
       "32       0.002241      0.000748         0.000820        0.000782         100   \n",
       "33       0.002516      0.000924         0.000887        0.000462         100   \n",
       "34       0.002036      0.000553         0.001390        0.000504         100   \n",
       "35       0.002391      0.000491         0.001047        0.000080         100   \n",
       "\n",
       "   param_l1_ratio                            params  split0_test_score  \\\n",
       "0             0.1   {'alpha': 0.1, 'l1_ratio': 0.1}          -3.453021   \n",
       "1             0.5   {'alpha': 0.1, 'l1_ratio': 0.5}          -3.325440   \n",
       "2             0.7   {'alpha': 0.1, 'l1_ratio': 0.7}          -3.269880   \n",
       "3            0.95  {'alpha': 0.1, 'l1_ratio': 0.95}          -3.213052   \n",
       "4            0.99  {'alpha': 0.1, 'l1_ratio': 0.99}          -3.208124   \n",
       "5               1     {'alpha': 0.1, 'l1_ratio': 1}          -3.206943   \n",
       "6             0.1     {'alpha': 1, 'l1_ratio': 0.1}          -9.827475   \n",
       "7             0.5     {'alpha': 1, 'l1_ratio': 0.5}          -8.707071   \n",
       "8             0.7     {'alpha': 1, 'l1_ratio': 0.7}          -7.920870   \n",
       "9            0.95    {'alpha': 1, 'l1_ratio': 0.95}          -6.729435   \n",
       "10           0.99    {'alpha': 1, 'l1_ratio': 0.99}          -6.521344   \n",
       "11              1       {'alpha': 1, 'l1_ratio': 1}          -6.468807   \n",
       "12            0.1     {'alpha': 5, 'l1_ratio': 0.1}         -22.979265   \n",
       "13            0.5     {'alpha': 5, 'l1_ratio': 0.5}         -27.793488   \n",
       "14            0.7     {'alpha': 5, 'l1_ratio': 0.7}         -29.655510   \n",
       "15           0.95    {'alpha': 5, 'l1_ratio': 0.95}         -31.130307   \n",
       "16           0.99    {'alpha': 5, 'l1_ratio': 0.99}         -31.130307   \n",
       "17              1       {'alpha': 5, 'l1_ratio': 1}         -31.130307   \n",
       "18            0.1    {'alpha': 10, 'l1_ratio': 0.1}         -27.385346   \n",
       "19            0.5    {'alpha': 10, 'l1_ratio': 0.5}         -31.130307   \n",
       "20            0.7    {'alpha': 10, 'l1_ratio': 0.7}         -31.130307   \n",
       "21           0.95   {'alpha': 10, 'l1_ratio': 0.95}         -31.130307   \n",
       "22           0.99   {'alpha': 10, 'l1_ratio': 0.99}         -31.130307   \n",
       "23              1      {'alpha': 10, 'l1_ratio': 1}         -31.130307   \n",
       "24            0.1    {'alpha': 50, 'l1_ratio': 0.1}         -31.130307   \n",
       "25            0.5    {'alpha': 50, 'l1_ratio': 0.5}         -31.130307   \n",
       "26            0.7    {'alpha': 50, 'l1_ratio': 0.7}         -31.130307   \n",
       "27           0.95   {'alpha': 50, 'l1_ratio': 0.95}         -31.130307   \n",
       "28           0.99   {'alpha': 50, 'l1_ratio': 0.99}         -31.130307   \n",
       "29              1      {'alpha': 50, 'l1_ratio': 1}         -31.130307   \n",
       "30            0.1   {'alpha': 100, 'l1_ratio': 0.1}         -31.130307   \n",
       "31            0.5   {'alpha': 100, 'l1_ratio': 0.5}         -31.130307   \n",
       "32            0.7   {'alpha': 100, 'l1_ratio': 0.7}         -31.130307   \n",
       "33           0.95  {'alpha': 100, 'l1_ratio': 0.95}         -31.130307   \n",
       "34           0.99  {'alpha': 100, 'l1_ratio': 0.99}         -31.130307   \n",
       "35              1     {'alpha': 100, 'l1_ratio': 1}         -31.130307   \n",
       "\n",
       "    split1_test_score  split2_test_score  split3_test_score  \\\n",
       "0           -1.405190          -5.789125          -2.187302   \n",
       "1           -1.427522          -5.595610          -2.163089   \n",
       "2           -1.442432          -5.502437          -2.163950   \n",
       "3           -1.472417          -5.396258          -2.177452   \n",
       "4           -1.478489          -5.380242          -2.181097   \n",
       "5           -1.480065          -5.376257          -2.182076   \n",
       "6           -5.261525         -11.875347          -7.449195   \n",
       "7           -4.214228         -10.879261          -6.204545   \n",
       "8           -3.549562         -10.024877          -5.379553   \n",
       "9           -2.591285          -8.709842          -4.156317   \n",
       "10          -2.431385          -8.471086          -3.946327   \n",
       "11          -2.391483          -8.410171          -3.893566   \n",
       "12         -15.547104         -23.668249         -19.921063   \n",
       "13         -18.602269         -27.107849         -23.945227   \n",
       "14         -21.085059         -29.629478         -26.724595   \n",
       "15         -22.549433         -31.155204         -27.963447   \n",
       "16         -22.549433         -31.155204         -27.963447   \n",
       "17         -22.549433         -31.155204         -27.963447   \n",
       "18         -19.159534         -27.635464         -24.154104   \n",
       "19         -22.549433         -31.155204         -27.963447   \n",
       "20         -22.549433         -31.155204         -27.963447   \n",
       "21         -22.549433         -31.155204         -27.963447   \n",
       "22         -22.549433         -31.155204         -27.963447   \n",
       "23         -22.549433         -31.155204         -27.963447   \n",
       "24         -22.549433         -31.155204         -27.963447   \n",
       "25         -22.549433         -31.155204         -27.963447   \n",
       "26         -22.549433         -31.155204         -27.963447   \n",
       "27         -22.549433         -31.155204         -27.963447   \n",
       "28         -22.549433         -31.155204         -27.963447   \n",
       "29         -22.549433         -31.155204         -27.963447   \n",
       "30         -22.549433         -31.155204         -27.963447   \n",
       "31         -22.549433         -31.155204         -27.963447   \n",
       "32         -22.549433         -31.155204         -27.963447   \n",
       "33         -22.549433         -31.155204         -27.963447   \n",
       "34         -22.549433         -31.155204         -27.963447   \n",
       "35         -22.549433         -31.155204         -27.963447   \n",
       "\n",
       "    split4_test_score  mean_test_score  std_test_score  rank_test_score  \n",
       "0           -4.645576        -3.496043        1.591601                6  \n",
       "1           -4.451679        -3.392668        1.506827                5  \n",
       "2           -4.356738        -3.347088        1.462765                4  \n",
       "3           -4.241080        -3.300052        1.406248                3  \n",
       "4           -4.222968        -3.294184        1.396953                2  \n",
       "5           -4.218460        -3.292760        1.394613                1  \n",
       "6           -8.542329        -8.591174        2.222939               12  \n",
       "7           -7.173031        -7.435627        2.255532               11  \n",
       "8           -6.324836        -6.639940        2.206213               10  \n",
       "9           -5.329916        -5.503359        2.102835                9  \n",
       "10          -5.151344        -5.304297        2.079945                8  \n",
       "11          -5.105922        -5.253990        2.073832                7  \n",
       "12         -16.262737       -19.675684        3.334901               13  \n",
       "13         -18.064635       -23.102694        4.108297               14  \n",
       "14         -20.223654       -25.463659        4.077877               16  \n",
       "15         -21.698192       -26.899317        4.077240               17  \n",
       "16         -21.698192       -26.899317        4.077240               17  \n",
       "17         -21.698192       -26.899317        4.077240               17  \n",
       "18         -18.968161       -23.460522        3.794608               15  \n",
       "19         -21.698192       -26.899317        4.077240               17  \n",
       "20         -21.698192       -26.899317        4.077240               17  \n",
       "21         -21.698192       -26.899317        4.077240               17  \n",
       "22         -21.698192       -26.899317        4.077240               17  \n",
       "23         -21.698192       -26.899317        4.077240               17  \n",
       "24         -21.698192       -26.899317        4.077240               17  \n",
       "25         -21.698192       -26.899317        4.077240               17  \n",
       "26         -21.698192       -26.899317        4.077240               17  \n",
       "27         -21.698192       -26.899317        4.077240               17  \n",
       "28         -21.698192       -26.899317        4.077240               17  \n",
       "29         -21.698192       -26.899317        4.077240               17  \n",
       "30         -21.698192       -26.899317        4.077240               17  \n",
       "31         -21.698192       -26.899317        4.077240               17  \n",
       "32         -21.698192       -26.899317        4.077240               17  \n",
       "33         -21.698192       -26.899317        4.077240               17  \n",
       "34         -21.698192       -26.899317        4.077240               17  \n",
       "35         -21.698192       -26.899317        4.077240               17  "
      ]
     },
     "execution_count": 246,
     "metadata": {},
     "output_type": "execute_result"
    }
   ],
   "source": [
    "pd.DataFrame(grid_model.cv_results_)"
   ]
  },
  {
   "cell_type": "code",
   "execution_count": 247,
   "id": "9ff4fb77",
   "metadata": {},
   "outputs": [],
   "source": [
    "# we can call predict directly to the grid model\n",
    "# it takes the best params from teh grid model and predicts using them\n",
    "y_pred = grid_model.predict(X_test) "
   ]
  },
  {
   "cell_type": "code",
   "execution_count": 248,
   "id": "5b688283",
   "metadata": {},
   "outputs": [],
   "source": [
    "from sklearn.metrics import mean_squared_error"
   ]
  },
  {
   "cell_type": "code",
   "execution_count": 250,
   "id": "fe98aa8d",
   "metadata": {},
   "outputs": [
    {
     "data": {
      "text/plain": [
       "2.3873426420874737"
      ]
     },
     "execution_count": 250,
     "metadata": {},
     "output_type": "execute_result"
    }
   ],
   "source": [
    "mean_squared_error(y_test, y_pred)"
   ]
  }
 ],
 "metadata": {
  "kernelspec": {
   "display_name": "Python 3 (ipykernel)",
   "language": "python",
   "name": "python3"
  },
  "language_info": {
   "codemirror_mode": {
    "name": "ipython",
    "version": 3
   },
   "file_extension": ".py",
   "mimetype": "text/x-python",
   "name": "python",
   "nbconvert_exporter": "python",
   "pygments_lexer": "ipython3",
   "version": "3.9.12"
  }
 },
 "nbformat": 4,
 "nbformat_minor": 5
}
